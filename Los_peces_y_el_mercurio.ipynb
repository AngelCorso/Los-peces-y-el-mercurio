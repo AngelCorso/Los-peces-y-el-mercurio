{
  "nbformat": 4,
  "nbformat_minor": 0,
  "metadata": {
    "colab": {
      "provenance": []
    },
    "kernelspec": {
      "name": "python3",
      "display_name": "Python 3"
    },
    "language_info": {
      "name": "python"
    }
  },
  "cells": [
    {
      "cell_type": "markdown",
      "source": [
        "# Angel Corrales Sotelo\n",
        "# A01562052"
      ],
      "metadata": {
        "id": "OwqKhVbiwK2b"
      }
    },
    {
      "cell_type": "code",
      "source": [
        "import pandas as pd\n",
        "import seaborn as sns\n",
        "import matplotlib.pyplot as plt\n",
        "import numpy as np\n",
        "columns = [\"nombre\", \"alcalinidad\", \"ph\", \"calcio\", \"clorofila\", \"media_merc_porc\", \"num_peces\", \"min_merc_porc\", \"max_merc_porc\", \"merc_estimado_porc\", \"edad_peces\"] \n",
        "df = pd.read_csv('mercurio.csv', index_col='X1')\n",
        "df.columns = columns\n",
        "df.head()"
      ],
      "metadata": {
        "id": "tZ3QWybGQ7U8",
        "colab": {
          "base_uri": "https://localhost:8080/",
          "height": 319
        },
        "outputId": "a244b464-dbc4-4b21-fd04-f2e06185e294"
      },
      "execution_count": 157,
      "outputs": [
        {
          "output_type": "execute_result",
          "data": {
            "text/plain": [
              "          nombre  alcalinidad   ph  calcio  clorofila  media_merc_porc  \\\n",
              "X1                                                                       \n",
              "1      Alligator          5.9  6.1     3.0        0.7             1.23   \n",
              "2          Annie          3.5  5.1     1.9        3.2             1.33   \n",
              "3         Apopka        116.0  9.1    44.1      128.3             0.04   \n",
              "4   Blue Cypress         39.4  6.9    16.4        3.5             0.44   \n",
              "5          Brick          2.5  4.6     2.9        1.8             1.20   \n",
              "\n",
              "    num_peces  min_merc_porc  max_merc_porc  merc_estimado_porc  edad_peces  \n",
              "X1                                                                           \n",
              "1           5           0.85           1.43                1.53           1  \n",
              "2           7           0.92           1.90                1.33           0  \n",
              "3           6           0.04           0.06                0.04           0  \n",
              "4          12           0.13           0.84                0.44           0  \n",
              "5          12           0.69           1.50                1.33           1  "
            ],
            "text/html": [
              "\n",
              "  <div id=\"df-32a66e00-9d17-44d3-925b-ff7cfe0a74dc\">\n",
              "    <div class=\"colab-df-container\">\n",
              "      <div>\n",
              "<style scoped>\n",
              "    .dataframe tbody tr th:only-of-type {\n",
              "        vertical-align: middle;\n",
              "    }\n",
              "\n",
              "    .dataframe tbody tr th {\n",
              "        vertical-align: top;\n",
              "    }\n",
              "\n",
              "    .dataframe thead th {\n",
              "        text-align: right;\n",
              "    }\n",
              "</style>\n",
              "<table border=\"1\" class=\"dataframe\">\n",
              "  <thead>\n",
              "    <tr style=\"text-align: right;\">\n",
              "      <th></th>\n",
              "      <th>nombre</th>\n",
              "      <th>alcalinidad</th>\n",
              "      <th>ph</th>\n",
              "      <th>calcio</th>\n",
              "      <th>clorofila</th>\n",
              "      <th>media_merc_porc</th>\n",
              "      <th>num_peces</th>\n",
              "      <th>min_merc_porc</th>\n",
              "      <th>max_merc_porc</th>\n",
              "      <th>merc_estimado_porc</th>\n",
              "      <th>edad_peces</th>\n",
              "    </tr>\n",
              "    <tr>\n",
              "      <th>X1</th>\n",
              "      <th></th>\n",
              "      <th></th>\n",
              "      <th></th>\n",
              "      <th></th>\n",
              "      <th></th>\n",
              "      <th></th>\n",
              "      <th></th>\n",
              "      <th></th>\n",
              "      <th></th>\n",
              "      <th></th>\n",
              "      <th></th>\n",
              "    </tr>\n",
              "  </thead>\n",
              "  <tbody>\n",
              "    <tr>\n",
              "      <th>1</th>\n",
              "      <td>Alligator</td>\n",
              "      <td>5.9</td>\n",
              "      <td>6.1</td>\n",
              "      <td>3.0</td>\n",
              "      <td>0.7</td>\n",
              "      <td>1.23</td>\n",
              "      <td>5</td>\n",
              "      <td>0.85</td>\n",
              "      <td>1.43</td>\n",
              "      <td>1.53</td>\n",
              "      <td>1</td>\n",
              "    </tr>\n",
              "    <tr>\n",
              "      <th>2</th>\n",
              "      <td>Annie</td>\n",
              "      <td>3.5</td>\n",
              "      <td>5.1</td>\n",
              "      <td>1.9</td>\n",
              "      <td>3.2</td>\n",
              "      <td>1.33</td>\n",
              "      <td>7</td>\n",
              "      <td>0.92</td>\n",
              "      <td>1.90</td>\n",
              "      <td>1.33</td>\n",
              "      <td>0</td>\n",
              "    </tr>\n",
              "    <tr>\n",
              "      <th>3</th>\n",
              "      <td>Apopka</td>\n",
              "      <td>116.0</td>\n",
              "      <td>9.1</td>\n",
              "      <td>44.1</td>\n",
              "      <td>128.3</td>\n",
              "      <td>0.04</td>\n",
              "      <td>6</td>\n",
              "      <td>0.04</td>\n",
              "      <td>0.06</td>\n",
              "      <td>0.04</td>\n",
              "      <td>0</td>\n",
              "    </tr>\n",
              "    <tr>\n",
              "      <th>4</th>\n",
              "      <td>Blue Cypress</td>\n",
              "      <td>39.4</td>\n",
              "      <td>6.9</td>\n",
              "      <td>16.4</td>\n",
              "      <td>3.5</td>\n",
              "      <td>0.44</td>\n",
              "      <td>12</td>\n",
              "      <td>0.13</td>\n",
              "      <td>0.84</td>\n",
              "      <td>0.44</td>\n",
              "      <td>0</td>\n",
              "    </tr>\n",
              "    <tr>\n",
              "      <th>5</th>\n",
              "      <td>Brick</td>\n",
              "      <td>2.5</td>\n",
              "      <td>4.6</td>\n",
              "      <td>2.9</td>\n",
              "      <td>1.8</td>\n",
              "      <td>1.20</td>\n",
              "      <td>12</td>\n",
              "      <td>0.69</td>\n",
              "      <td>1.50</td>\n",
              "      <td>1.33</td>\n",
              "      <td>1</td>\n",
              "    </tr>\n",
              "  </tbody>\n",
              "</table>\n",
              "</div>\n",
              "      <button class=\"colab-df-convert\" onclick=\"convertToInteractive('df-32a66e00-9d17-44d3-925b-ff7cfe0a74dc')\"\n",
              "              title=\"Convert this dataframe to an interactive table.\"\n",
              "              style=\"display:none;\">\n",
              "        \n",
              "  <svg xmlns=\"http://www.w3.org/2000/svg\" height=\"24px\"viewBox=\"0 0 24 24\"\n",
              "       width=\"24px\">\n",
              "    <path d=\"M0 0h24v24H0V0z\" fill=\"none\"/>\n",
              "    <path d=\"M18.56 5.44l.94 2.06.94-2.06 2.06-.94-2.06-.94-.94-2.06-.94 2.06-2.06.94zm-11 1L8.5 8.5l.94-2.06 2.06-.94-2.06-.94L8.5 2.5l-.94 2.06-2.06.94zm10 10l.94 2.06.94-2.06 2.06-.94-2.06-.94-.94-2.06-.94 2.06-2.06.94z\"/><path d=\"M17.41 7.96l-1.37-1.37c-.4-.4-.92-.59-1.43-.59-.52 0-1.04.2-1.43.59L10.3 9.45l-7.72 7.72c-.78.78-.78 2.05 0 2.83L4 21.41c.39.39.9.59 1.41.59.51 0 1.02-.2 1.41-.59l7.78-7.78 2.81-2.81c.8-.78.8-2.07 0-2.86zM5.41 20L4 18.59l7.72-7.72 1.47 1.35L5.41 20z\"/>\n",
              "  </svg>\n",
              "      </button>\n",
              "      \n",
              "  <style>\n",
              "    .colab-df-container {\n",
              "      display:flex;\n",
              "      flex-wrap:wrap;\n",
              "      gap: 12px;\n",
              "    }\n",
              "\n",
              "    .colab-df-convert {\n",
              "      background-color: #E8F0FE;\n",
              "      border: none;\n",
              "      border-radius: 50%;\n",
              "      cursor: pointer;\n",
              "      display: none;\n",
              "      fill: #1967D2;\n",
              "      height: 32px;\n",
              "      padding: 0 0 0 0;\n",
              "      width: 32px;\n",
              "    }\n",
              "\n",
              "    .colab-df-convert:hover {\n",
              "      background-color: #E2EBFA;\n",
              "      box-shadow: 0px 1px 2px rgba(60, 64, 67, 0.3), 0px 1px 3px 1px rgba(60, 64, 67, 0.15);\n",
              "      fill: #174EA6;\n",
              "    }\n",
              "\n",
              "    [theme=dark] .colab-df-convert {\n",
              "      background-color: #3B4455;\n",
              "      fill: #D2E3FC;\n",
              "    }\n",
              "\n",
              "    [theme=dark] .colab-df-convert:hover {\n",
              "      background-color: #434B5C;\n",
              "      box-shadow: 0px 1px 3px 1px rgba(0, 0, 0, 0.15);\n",
              "      filter: drop-shadow(0px 1px 2px rgba(0, 0, 0, 0.3));\n",
              "      fill: #FFFFFF;\n",
              "    }\n",
              "  </style>\n",
              "\n",
              "      <script>\n",
              "        const buttonEl =\n",
              "          document.querySelector('#df-32a66e00-9d17-44d3-925b-ff7cfe0a74dc button.colab-df-convert');\n",
              "        buttonEl.style.display =\n",
              "          google.colab.kernel.accessAllowed ? 'block' : 'none';\n",
              "\n",
              "        async function convertToInteractive(key) {\n",
              "          const element = document.querySelector('#df-32a66e00-9d17-44d3-925b-ff7cfe0a74dc');\n",
              "          const dataTable =\n",
              "            await google.colab.kernel.invokeFunction('convertToInteractive',\n",
              "                                                     [key], {});\n",
              "          if (!dataTable) return;\n",
              "\n",
              "          const docLinkHtml = 'Like what you see? Visit the ' +\n",
              "            '<a target=\"_blank\" href=https://colab.research.google.com/notebooks/data_table.ipynb>data table notebook</a>'\n",
              "            + ' to learn more about interactive tables.';\n",
              "          element.innerHTML = '';\n",
              "          dataTable['output_type'] = 'display_data';\n",
              "          await google.colab.output.renderOutput(dataTable, element);\n",
              "          const docLink = document.createElement('div');\n",
              "          docLink.innerHTML = docLinkHtml;\n",
              "          element.appendChild(docLink);\n",
              "        }\n",
              "      </script>\n",
              "    </div>\n",
              "  </div>\n",
              "  "
            ]
          },
          "metadata": {},
          "execution_count": 157
        }
      ]
    },
    {
      "cell_type": "code",
      "source": [
        "%load_ext rpy2.ipython"
      ],
      "metadata": {
        "id": "1zlREucZQ5cC",
        "colab": {
          "base_uri": "https://localhost:8080/"
        },
        "outputId": "418da8f8-3df2-4294-9a9f-5f18b84e8b28"
      },
      "execution_count": 88,
      "outputs": [
        {
          "output_type": "stream",
          "name": "stdout",
          "text": [
            "The rpy2.ipython extension is already loaded. To reload it, use:\n",
            "  %reload_ext rpy2.ipython\n"
          ]
        }
      ]
    },
    {
      "cell_type": "code",
      "source": [
        "%%R -i df\n",
        "df"
      ],
      "metadata": {
        "id": "0LGRY3MMQ-eL",
        "colab": {
          "base_uri": "https://localhost:8080/"
        },
        "outputId": "ff7a69b7-7ab9-4ac3-b03a-cb7827a7733d"
      },
      "execution_count": 89,
      "outputs": [
        {
          "output_type": "stream",
          "name": "stdout",
          "text": [
            "              nombre alcalinidad  ph calcio clorofila media_merc_porc num_peces\n",
            "1          Alligator         5.9 6.1    3.0       0.7            1.23         5\n",
            "2              Annie         3.5 5.1    1.9       3.2            1.33         7\n",
            "3             Apopka       116.0 9.1   44.1     128.3            0.04         6\n",
            "4       Blue Cypress        39.4 6.9   16.4       3.5            0.44        12\n",
            "5              Brick         2.5 4.6    2.9       1.8            1.20        12\n",
            "6             Bryant        19.6 7.3    4.5      44.1            0.27        14\n",
            "7             Cherry         5.2 5.4    2.8       3.4            0.48        10\n",
            "8           Crescent        71.4 8.1   55.2      33.7            0.19        12\n",
            "9         Deer Point        26.4 5.8    9.2       1.6            0.83        24\n",
            "10              Dias         4.8 6.4    4.6      22.5            0.81        12\n",
            "11              Dorr         6.6 5.4    2.7      14.9            0.71        12\n",
            "12              Down        16.5 7.2   13.8       4.0            0.50        12\n",
            "13             Eaton        25.4 7.2   25.2      11.6            0.49         7\n",
            "14 East Tohopekaliga         7.1 5.8    5.2       5.8            1.16        43\n",
            "15           Farm-13       128.0 7.6   86.5      71.1            0.05        11\n",
            "16            George        83.7 8.2   66.5      78.6            0.15        10\n",
            "17           Griffin       108.5 8.7   35.6      80.1            0.19        40\n",
            "18            Harney        61.3 7.8   57.4      13.9            0.77         6\n",
            "19              Hart         6.4 5.8    4.0       4.6            1.08        10\n",
            "20        Hatchineha        31.0 6.7   15.0      17.0            0.98         6\n",
            "21           Iamonia         7.5 4.4    2.0       9.6            0.63        12\n",
            "22         Istokpoga        17.3 6.7   10.7       9.5            0.56        12\n",
            "23           Jackson        12.6 6.1    3.7      21.0            0.41        12\n",
            "24         Josephine         7.0 6.9    6.3      32.1            0.73        12\n",
            "25          Kingsley        10.5 5.5    6.3       1.6            0.34        10\n",
            "26         Kissimmee        30.0 6.9   13.9      21.5            0.59        36\n",
            "27         Lochloosa        55.4 7.3   15.9      24.7            0.34        10\n",
            "28            Louisa         3.9 4.5    3.3       7.0            0.84         8\n",
            "29        Miccasukee         5.5 4.8    1.7      14.8            0.50        11\n",
            "30          Minneola         6.3 5.8    3.3       0.7            0.34        10\n",
            "31            Monroe        67.0 7.8   58.6      43.8            0.28        10\n",
            "32           Newmans        28.8 7.4   10.2      32.7            0.34        10\n",
            "33        Ocean Pond         5.8 3.6    1.6       3.2            0.87        12\n",
            "34      Ocheese Pond         4.5 4.4    1.1       3.2            0.56        13\n",
            "35        Okeechobee       119.1 7.9   38.4      16.1            0.17        12\n",
            "36            Orange        25.4 7.1    8.8      45.2            0.18        13\n",
            "37       Panasoffkee       106.5 6.8   90.7      16.5            0.19        13\n",
            "38            Parker        53.0 8.4   45.6     152.4            0.04         4\n",
            "39            Placid         8.5 7.0    2.5      12.8            0.49        12\n",
            "40            Puzzle        87.6 7.5   85.5      20.1            1.10        10\n",
            "41            Rodman       114.0 7.0   72.6       6.4            0.16        14\n",
            "42          Rousseau        97.5 6.8   45.5       6.2            0.10        12\n",
            "43           Sampson        11.8 5.9   24.2       1.6            0.48        10\n",
            "44             Shipp        66.5 8.3   26.0      68.2            0.21        12\n",
            "45           Talquin        16.0 6.7   41.2      24.1            0.86        12\n",
            "46            Tarpon         5.0 6.2   23.6       9.6            0.52        12\n",
            "51      Tohopekaliga        25.6 6.2   12.6      27.7            0.65        44\n",
            "47          Trafford        81.5 8.9   20.5       9.6            0.27         6\n",
            "48             Trout         1.2 4.3    2.1       6.4            0.94        10\n",
            "49      Tsala Apopka        34.0 7.0   13.1       4.6            0.40        12\n",
            "50              Weir        15.5 6.9    5.2      16.5            0.43        11\n",
            "52           Wildcat        17.3 5.2    3.0       2.6            0.25        12\n",
            "53              Yale        71.8 7.9   20.5       8.8            0.27        12\n",
            "   min_merc_porc max_merc_porc merc_estimado_porc edad_peces\n",
            "1           0.85          1.43               1.53          1\n",
            "2           0.92          1.90               1.33          0\n",
            "3           0.04          0.06               0.04          0\n",
            "4           0.13          0.84               0.44          0\n",
            "5           0.69          1.50               1.33          1\n",
            "6           0.04          0.48               0.25          1\n",
            "7           0.30          0.72               0.45          1\n",
            "8           0.08          0.38               0.16          1\n",
            "9           0.26          1.40               0.72          1\n",
            "10          0.41          1.47               0.81          1\n",
            "11          0.52          0.86               0.71          1\n",
            "12          0.10          0.73               0.51          1\n",
            "13          0.26          1.01               0.54          1\n",
            "14          0.50          2.03               1.00          1\n",
            "15          0.04          0.11               0.05          0\n",
            "16          0.12          0.18               0.15          1\n",
            "17          0.07          0.43               0.19          1\n",
            "18          0.32          1.50               0.49          1\n",
            "19          0.64          1.33               1.02          1\n",
            "20          0.67          1.44               0.70          1\n",
            "21          0.33          0.93               0.45          1\n",
            "22          0.37          0.94               0.59          1\n",
            "23          0.25          0.61               0.41          0\n",
            "24          0.33          2.04               0.81          1\n",
            "25          0.25          0.62               0.42          1\n",
            "26          0.23          1.12               0.53          1\n",
            "27          0.17          0.52               0.31          1\n",
            "28          0.59          1.38               0.87          1\n",
            "29          0.31          0.84               0.50          0\n",
            "30          0.19          0.69               0.47          1\n",
            "31          0.16          0.59               0.25          1\n",
            "32          0.16          0.65               0.41          1\n",
            "33          0.31          1.90               0.87          0\n",
            "34          0.25          1.02               0.56          0\n",
            "35          0.07          0.30               0.16          1\n",
            "36          0.09          0.29               0.16          1\n",
            "37          0.05          0.37               0.23          1\n",
            "38          0.04          0.06               0.04          0\n",
            "39          0.31          0.63               0.56          1\n",
            "40          0.79          1.41               0.89          1\n",
            "41          0.04          0.26               0.18          1\n",
            "42          0.05          0.26               0.19          1\n",
            "43          0.27          1.05               0.44          1\n",
            "44          0.05          0.48               0.16          1\n",
            "45          0.36          1.40               0.67          1\n",
            "46          0.31          0.95               0.55          1\n",
            "51          0.30          1.10               0.58          1\n",
            "47          0.04          0.40               0.27          0\n",
            "48          0.59          1.24               0.98          1\n",
            "49          0.08          0.90               0.31          1\n",
            "50          0.23          0.69               0.43          1\n",
            "52          0.15          0.40               0.28          1\n",
            "53          0.15          0.51               0.25          1\n"
          ]
        }
      ]
    },
    {
      "cell_type": "markdown",
      "source": [
        "# B. Explora las variables y familiarízate con su significado.\n",
        "\n"
      ],
      "metadata": {
        "id": "6ZhjHEW_SJUL"
      }
    },
    {
      "cell_type": "markdown",
      "source": [
        "## 1. Identifica la cantidad de datos y variables presentes."
      ],
      "metadata": {
        "id": "fz_txZ_f4-9K"
      }
    },
    {
      "cell_type": "code",
      "source": [
        "df.keys()"
      ],
      "metadata": {
        "id": "qXbMkCp5SSTf",
        "colab": {
          "base_uri": "https://localhost:8080/"
        },
        "outputId": "7763a2e2-a1bc-48b8-cf2e-f00eb2e1b861"
      },
      "execution_count": 90,
      "outputs": [
        {
          "output_type": "execute_result",
          "data": {
            "text/plain": [
              "Index(['nombre', 'alcalinidad', 'ph', 'calcio', 'clorofila', 'media_merc_porc',\n",
              "       'num_peces', 'min_merc_porc', 'max_merc_porc', 'merc_estimado_porc',\n",
              "       'edad_peces'],\n",
              "      dtype='object')"
            ]
          },
          "metadata": {},
          "execution_count": 90
        }
      ]
    },
    {
      "cell_type": "code",
      "source": [
        "df.count()"
      ],
      "metadata": {
        "id": "udq4GhC4S0cU",
        "colab": {
          "base_uri": "https://localhost:8080/"
        },
        "outputId": "fea2ce9d-a1c2-4d5e-98ea-89f7959826e5"
      },
      "execution_count": 91,
      "outputs": [
        {
          "output_type": "execute_result",
          "data": {
            "text/plain": [
              "nombre                53\n",
              "alcalinidad           53\n",
              "ph                    53\n",
              "calcio                53\n",
              "clorofila             53\n",
              "media_merc_porc       53\n",
              "num_peces             53\n",
              "min_merc_porc         53\n",
              "max_merc_porc         53\n",
              "merc_estimado_porc    53\n",
              "edad_peces            53\n",
              "dtype: int64"
            ]
          },
          "metadata": {},
          "execution_count": 91
        }
      ]
    },
    {
      "cell_type": "code",
      "source": [
        "df.head()"
      ],
      "metadata": {
        "colab": {
          "base_uri": "https://localhost:8080/",
          "height": 319
        },
        "id": "tKcvfHbMovbM",
        "outputId": "4bf01afb-6c9c-4c4b-ba54-b08b7495ec47"
      },
      "execution_count": 92,
      "outputs": [
        {
          "output_type": "execute_result",
          "data": {
            "text/plain": [
              "          nombre  alcalinidad   ph  calcio  clorofila  media_merc_porc  \\\n",
              "X1                                                                       \n",
              "1      Alligator          5.9  6.1     3.0        0.7             1.23   \n",
              "2          Annie          3.5  5.1     1.9        3.2             1.33   \n",
              "3         Apopka        116.0  9.1    44.1      128.3             0.04   \n",
              "4   Blue Cypress         39.4  6.9    16.4        3.5             0.44   \n",
              "5          Brick          2.5  4.6     2.9        1.8             1.20   \n",
              "\n",
              "    num_peces  min_merc_porc  max_merc_porc  merc_estimado_porc  edad_peces  \n",
              "X1                                                                           \n",
              "1           5           0.85           1.43                1.53           1  \n",
              "2           7           0.92           1.90                1.33           0  \n",
              "3           6           0.04           0.06                0.04           0  \n",
              "4          12           0.13           0.84                0.44           0  \n",
              "5          12           0.69           1.50                1.33           1  "
            ],
            "text/html": [
              "\n",
              "  <div id=\"df-9a83c2c3-be5b-4543-a38a-f94e20270b04\">\n",
              "    <div class=\"colab-df-container\">\n",
              "      <div>\n",
              "<style scoped>\n",
              "    .dataframe tbody tr th:only-of-type {\n",
              "        vertical-align: middle;\n",
              "    }\n",
              "\n",
              "    .dataframe tbody tr th {\n",
              "        vertical-align: top;\n",
              "    }\n",
              "\n",
              "    .dataframe thead th {\n",
              "        text-align: right;\n",
              "    }\n",
              "</style>\n",
              "<table border=\"1\" class=\"dataframe\">\n",
              "  <thead>\n",
              "    <tr style=\"text-align: right;\">\n",
              "      <th></th>\n",
              "      <th>nombre</th>\n",
              "      <th>alcalinidad</th>\n",
              "      <th>ph</th>\n",
              "      <th>calcio</th>\n",
              "      <th>clorofila</th>\n",
              "      <th>media_merc_porc</th>\n",
              "      <th>num_peces</th>\n",
              "      <th>min_merc_porc</th>\n",
              "      <th>max_merc_porc</th>\n",
              "      <th>merc_estimado_porc</th>\n",
              "      <th>edad_peces</th>\n",
              "    </tr>\n",
              "    <tr>\n",
              "      <th>X1</th>\n",
              "      <th></th>\n",
              "      <th></th>\n",
              "      <th></th>\n",
              "      <th></th>\n",
              "      <th></th>\n",
              "      <th></th>\n",
              "      <th></th>\n",
              "      <th></th>\n",
              "      <th></th>\n",
              "      <th></th>\n",
              "      <th></th>\n",
              "    </tr>\n",
              "  </thead>\n",
              "  <tbody>\n",
              "    <tr>\n",
              "      <th>1</th>\n",
              "      <td>Alligator</td>\n",
              "      <td>5.9</td>\n",
              "      <td>6.1</td>\n",
              "      <td>3.0</td>\n",
              "      <td>0.7</td>\n",
              "      <td>1.23</td>\n",
              "      <td>5</td>\n",
              "      <td>0.85</td>\n",
              "      <td>1.43</td>\n",
              "      <td>1.53</td>\n",
              "      <td>1</td>\n",
              "    </tr>\n",
              "    <tr>\n",
              "      <th>2</th>\n",
              "      <td>Annie</td>\n",
              "      <td>3.5</td>\n",
              "      <td>5.1</td>\n",
              "      <td>1.9</td>\n",
              "      <td>3.2</td>\n",
              "      <td>1.33</td>\n",
              "      <td>7</td>\n",
              "      <td>0.92</td>\n",
              "      <td>1.90</td>\n",
              "      <td>1.33</td>\n",
              "      <td>0</td>\n",
              "    </tr>\n",
              "    <tr>\n",
              "      <th>3</th>\n",
              "      <td>Apopka</td>\n",
              "      <td>116.0</td>\n",
              "      <td>9.1</td>\n",
              "      <td>44.1</td>\n",
              "      <td>128.3</td>\n",
              "      <td>0.04</td>\n",
              "      <td>6</td>\n",
              "      <td>0.04</td>\n",
              "      <td>0.06</td>\n",
              "      <td>0.04</td>\n",
              "      <td>0</td>\n",
              "    </tr>\n",
              "    <tr>\n",
              "      <th>4</th>\n",
              "      <td>Blue Cypress</td>\n",
              "      <td>39.4</td>\n",
              "      <td>6.9</td>\n",
              "      <td>16.4</td>\n",
              "      <td>3.5</td>\n",
              "      <td>0.44</td>\n",
              "      <td>12</td>\n",
              "      <td>0.13</td>\n",
              "      <td>0.84</td>\n",
              "      <td>0.44</td>\n",
              "      <td>0</td>\n",
              "    </tr>\n",
              "    <tr>\n",
              "      <th>5</th>\n",
              "      <td>Brick</td>\n",
              "      <td>2.5</td>\n",
              "      <td>4.6</td>\n",
              "      <td>2.9</td>\n",
              "      <td>1.8</td>\n",
              "      <td>1.20</td>\n",
              "      <td>12</td>\n",
              "      <td>0.69</td>\n",
              "      <td>1.50</td>\n",
              "      <td>1.33</td>\n",
              "      <td>1</td>\n",
              "    </tr>\n",
              "  </tbody>\n",
              "</table>\n",
              "</div>\n",
              "      <button class=\"colab-df-convert\" onclick=\"convertToInteractive('df-9a83c2c3-be5b-4543-a38a-f94e20270b04')\"\n",
              "              title=\"Convert this dataframe to an interactive table.\"\n",
              "              style=\"display:none;\">\n",
              "        \n",
              "  <svg xmlns=\"http://www.w3.org/2000/svg\" height=\"24px\"viewBox=\"0 0 24 24\"\n",
              "       width=\"24px\">\n",
              "    <path d=\"M0 0h24v24H0V0z\" fill=\"none\"/>\n",
              "    <path d=\"M18.56 5.44l.94 2.06.94-2.06 2.06-.94-2.06-.94-.94-2.06-.94 2.06-2.06.94zm-11 1L8.5 8.5l.94-2.06 2.06-.94-2.06-.94L8.5 2.5l-.94 2.06-2.06.94zm10 10l.94 2.06.94-2.06 2.06-.94-2.06-.94-.94-2.06-.94 2.06-2.06.94z\"/><path d=\"M17.41 7.96l-1.37-1.37c-.4-.4-.92-.59-1.43-.59-.52 0-1.04.2-1.43.59L10.3 9.45l-7.72 7.72c-.78.78-.78 2.05 0 2.83L4 21.41c.39.39.9.59 1.41.59.51 0 1.02-.2 1.41-.59l7.78-7.78 2.81-2.81c.8-.78.8-2.07 0-2.86zM5.41 20L4 18.59l7.72-7.72 1.47 1.35L5.41 20z\"/>\n",
              "  </svg>\n",
              "      </button>\n",
              "      \n",
              "  <style>\n",
              "    .colab-df-container {\n",
              "      display:flex;\n",
              "      flex-wrap:wrap;\n",
              "      gap: 12px;\n",
              "    }\n",
              "\n",
              "    .colab-df-convert {\n",
              "      background-color: #E8F0FE;\n",
              "      border: none;\n",
              "      border-radius: 50%;\n",
              "      cursor: pointer;\n",
              "      display: none;\n",
              "      fill: #1967D2;\n",
              "      height: 32px;\n",
              "      padding: 0 0 0 0;\n",
              "      width: 32px;\n",
              "    }\n",
              "\n",
              "    .colab-df-convert:hover {\n",
              "      background-color: #E2EBFA;\n",
              "      box-shadow: 0px 1px 2px rgba(60, 64, 67, 0.3), 0px 1px 3px 1px rgba(60, 64, 67, 0.15);\n",
              "      fill: #174EA6;\n",
              "    }\n",
              "\n",
              "    [theme=dark] .colab-df-convert {\n",
              "      background-color: #3B4455;\n",
              "      fill: #D2E3FC;\n",
              "    }\n",
              "\n",
              "    [theme=dark] .colab-df-convert:hover {\n",
              "      background-color: #434B5C;\n",
              "      box-shadow: 0px 1px 3px 1px rgba(0, 0, 0, 0.15);\n",
              "      filter: drop-shadow(0px 1px 2px rgba(0, 0, 0, 0.3));\n",
              "      fill: #FFFFFF;\n",
              "    }\n",
              "  </style>\n",
              "\n",
              "      <script>\n",
              "        const buttonEl =\n",
              "          document.querySelector('#df-9a83c2c3-be5b-4543-a38a-f94e20270b04 button.colab-df-convert');\n",
              "        buttonEl.style.display =\n",
              "          google.colab.kernel.accessAllowed ? 'block' : 'none';\n",
              "\n",
              "        async function convertToInteractive(key) {\n",
              "          const element = document.querySelector('#df-9a83c2c3-be5b-4543-a38a-f94e20270b04');\n",
              "          const dataTable =\n",
              "            await google.colab.kernel.invokeFunction('convertToInteractive',\n",
              "                                                     [key], {});\n",
              "          if (!dataTable) return;\n",
              "\n",
              "          const docLinkHtml = 'Like what you see? Visit the ' +\n",
              "            '<a target=\"_blank\" href=https://colab.research.google.com/notebooks/data_table.ipynb>data table notebook</a>'\n",
              "            + ' to learn more about interactive tables.';\n",
              "          element.innerHTML = '';\n",
              "          dataTable['output_type'] = 'display_data';\n",
              "          await google.colab.output.renderOutput(dataTable, element);\n",
              "          const docLink = document.createElement('div');\n",
              "          docLink.innerHTML = docLinkHtml;\n",
              "          element.appendChild(docLink);\n",
              "        }\n",
              "      </script>\n",
              "    </div>\n",
              "  </div>\n",
              "  "
            ]
          },
          "metadata": {},
          "execution_count": 92
        }
      ]
    },
    {
      "cell_type": "markdown",
      "source": [
        "Observaciones\n",
        "\n",
        "- El mínimo y máximo parecen ser obtenidos en la captura de los datos. (Posibles variables a excluir)"
      ],
      "metadata": {
        "id": "CnFvrLKiow9f"
      }
    },
    {
      "cell_type": "markdown",
      "source": [
        "## 2. Clasifica las variables de acuerdo a su tipo y escala de medición."
      ],
      "metadata": {
        "id": "WFXSPEk5S8cY"
      }
    },
    {
      "cell_type": "markdown",
      "source": [
        "### Datos categóricos/cualitativos\n",
        "\n",
        "**Escala nominal**: nombre, edad_peces\n",
        "\n",
        "### Datos numéricos/cuantitativos\n",
        "\n",
        "**Escala de razón**: Alcalinidad, ph, calcio, clorofila, media_mercurio_porc, num_peces, min_merc_porc, max_merc_porc, merc_estimado_porc\n"
      ],
      "metadata": {
        "id": "I0HkJc8R0gdJ"
      }
    },
    {
      "cell_type": "code",
      "source": [
        "cualitativas = [\"nombre\", \"edad_peces\"] \n",
        "cuantitativas = [\"alcalinidad\", \"ph\", \"calcio\", \"clorofila\", \"media_merc_porc\", \"num_peces\", \"min_merc_porc\", \"max_merc_porc\", \"merc_estimado_porc\"] "
      ],
      "metadata": {
        "id": "Vmk3ag0gIWMz"
      },
      "execution_count": 93,
      "outputs": []
    },
    {
      "cell_type": "markdown",
      "source": [
        "# C. Exploración de la base de datos"
      ],
      "metadata": {
        "id": "TVIckPxE5LN2"
      }
    },
    {
      "cell_type": "markdown",
      "source": [
        "## 1. Calcula medidas estadísticas\n"
      ],
      "metadata": {
        "id": "_jIJ9Au45TS5"
      }
    },
    {
      "cell_type": "markdown",
      "source": [
        "### Variables cuantitativas\n",
        "- Medidas de tendencia central: promedio, media, mediana y moda de los datos.\n",
        "\n",
        "- Medidas de dispersión: rango: máximo - mínimo, varianza, desviación estándar.\n"
      ],
      "metadata": {
        "id": "pj__V9iE5fK9"
      }
    },
    {
      "cell_type": "code",
      "source": [
        "df[cuantitativas].describe()"
      ],
      "metadata": {
        "id": "0_fhIBHa5jAx",
        "colab": {
          "base_uri": "https://localhost:8080/",
          "height": 0
        },
        "outputId": "92c14c97-b550-4871-c4e0-8b9134730e60"
      },
      "execution_count": 94,
      "outputs": [
        {
          "output_type": "execute_result",
          "data": {
            "text/plain": [
              "       alcalinidad         ph     calcio   clorofila  media_merc_porc  \\\n",
              "count    53.000000  53.000000  53.000000   53.000000        53.000000   \n",
              "mean     37.530189   6.590566  22.201887   23.116981         0.527170   \n",
              "std      38.203527   1.288449  24.932574   30.816321         0.341036   \n",
              "min       1.200000   3.600000   1.100000    0.700000         0.040000   \n",
              "25%       6.600000   5.800000   3.300000    4.600000         0.270000   \n",
              "50%      19.600000   6.800000  12.600000   12.800000         0.480000   \n",
              "75%      66.500000   7.400000  35.600000   24.700000         0.770000   \n",
              "max     128.000000   9.100000  90.700000  152.400000         1.330000   \n",
              "\n",
              "       num_peces  min_merc_porc  max_merc_porc  merc_estimado_porc  \n",
              "count  53.000000      53.000000      53.000000           53.000000  \n",
              "mean   13.056604       0.279811       0.874528            0.513208  \n",
              "std     8.560677       0.226406       0.522047            0.338729  \n",
              "min     4.000000       0.040000       0.060000            0.040000  \n",
              "25%    10.000000       0.090000       0.480000            0.250000  \n",
              "50%    12.000000       0.250000       0.840000            0.450000  \n",
              "75%    12.000000       0.330000       1.330000            0.700000  \n",
              "max    44.000000       0.920000       2.040000            1.530000  "
            ],
            "text/html": [
              "\n",
              "  <div id=\"df-a32728ca-e582-4996-bed6-5b50708a8f45\">\n",
              "    <div class=\"colab-df-container\">\n",
              "      <div>\n",
              "<style scoped>\n",
              "    .dataframe tbody tr th:only-of-type {\n",
              "        vertical-align: middle;\n",
              "    }\n",
              "\n",
              "    .dataframe tbody tr th {\n",
              "        vertical-align: top;\n",
              "    }\n",
              "\n",
              "    .dataframe thead th {\n",
              "        text-align: right;\n",
              "    }\n",
              "</style>\n",
              "<table border=\"1\" class=\"dataframe\">\n",
              "  <thead>\n",
              "    <tr style=\"text-align: right;\">\n",
              "      <th></th>\n",
              "      <th>alcalinidad</th>\n",
              "      <th>ph</th>\n",
              "      <th>calcio</th>\n",
              "      <th>clorofila</th>\n",
              "      <th>media_merc_porc</th>\n",
              "      <th>num_peces</th>\n",
              "      <th>min_merc_porc</th>\n",
              "      <th>max_merc_porc</th>\n",
              "      <th>merc_estimado_porc</th>\n",
              "    </tr>\n",
              "  </thead>\n",
              "  <tbody>\n",
              "    <tr>\n",
              "      <th>count</th>\n",
              "      <td>53.000000</td>\n",
              "      <td>53.000000</td>\n",
              "      <td>53.000000</td>\n",
              "      <td>53.000000</td>\n",
              "      <td>53.000000</td>\n",
              "      <td>53.000000</td>\n",
              "      <td>53.000000</td>\n",
              "      <td>53.000000</td>\n",
              "      <td>53.000000</td>\n",
              "    </tr>\n",
              "    <tr>\n",
              "      <th>mean</th>\n",
              "      <td>37.530189</td>\n",
              "      <td>6.590566</td>\n",
              "      <td>22.201887</td>\n",
              "      <td>23.116981</td>\n",
              "      <td>0.527170</td>\n",
              "      <td>13.056604</td>\n",
              "      <td>0.279811</td>\n",
              "      <td>0.874528</td>\n",
              "      <td>0.513208</td>\n",
              "    </tr>\n",
              "    <tr>\n",
              "      <th>std</th>\n",
              "      <td>38.203527</td>\n",
              "      <td>1.288449</td>\n",
              "      <td>24.932574</td>\n",
              "      <td>30.816321</td>\n",
              "      <td>0.341036</td>\n",
              "      <td>8.560677</td>\n",
              "      <td>0.226406</td>\n",
              "      <td>0.522047</td>\n",
              "      <td>0.338729</td>\n",
              "    </tr>\n",
              "    <tr>\n",
              "      <th>min</th>\n",
              "      <td>1.200000</td>\n",
              "      <td>3.600000</td>\n",
              "      <td>1.100000</td>\n",
              "      <td>0.700000</td>\n",
              "      <td>0.040000</td>\n",
              "      <td>4.000000</td>\n",
              "      <td>0.040000</td>\n",
              "      <td>0.060000</td>\n",
              "      <td>0.040000</td>\n",
              "    </tr>\n",
              "    <tr>\n",
              "      <th>25%</th>\n",
              "      <td>6.600000</td>\n",
              "      <td>5.800000</td>\n",
              "      <td>3.300000</td>\n",
              "      <td>4.600000</td>\n",
              "      <td>0.270000</td>\n",
              "      <td>10.000000</td>\n",
              "      <td>0.090000</td>\n",
              "      <td>0.480000</td>\n",
              "      <td>0.250000</td>\n",
              "    </tr>\n",
              "    <tr>\n",
              "      <th>50%</th>\n",
              "      <td>19.600000</td>\n",
              "      <td>6.800000</td>\n",
              "      <td>12.600000</td>\n",
              "      <td>12.800000</td>\n",
              "      <td>0.480000</td>\n",
              "      <td>12.000000</td>\n",
              "      <td>0.250000</td>\n",
              "      <td>0.840000</td>\n",
              "      <td>0.450000</td>\n",
              "    </tr>\n",
              "    <tr>\n",
              "      <th>75%</th>\n",
              "      <td>66.500000</td>\n",
              "      <td>7.400000</td>\n",
              "      <td>35.600000</td>\n",
              "      <td>24.700000</td>\n",
              "      <td>0.770000</td>\n",
              "      <td>12.000000</td>\n",
              "      <td>0.330000</td>\n",
              "      <td>1.330000</td>\n",
              "      <td>0.700000</td>\n",
              "    </tr>\n",
              "    <tr>\n",
              "      <th>max</th>\n",
              "      <td>128.000000</td>\n",
              "      <td>9.100000</td>\n",
              "      <td>90.700000</td>\n",
              "      <td>152.400000</td>\n",
              "      <td>1.330000</td>\n",
              "      <td>44.000000</td>\n",
              "      <td>0.920000</td>\n",
              "      <td>2.040000</td>\n",
              "      <td>1.530000</td>\n",
              "    </tr>\n",
              "  </tbody>\n",
              "</table>\n",
              "</div>\n",
              "      <button class=\"colab-df-convert\" onclick=\"convertToInteractive('df-a32728ca-e582-4996-bed6-5b50708a8f45')\"\n",
              "              title=\"Convert this dataframe to an interactive table.\"\n",
              "              style=\"display:none;\">\n",
              "        \n",
              "  <svg xmlns=\"http://www.w3.org/2000/svg\" height=\"24px\"viewBox=\"0 0 24 24\"\n",
              "       width=\"24px\">\n",
              "    <path d=\"M0 0h24v24H0V0z\" fill=\"none\"/>\n",
              "    <path d=\"M18.56 5.44l.94 2.06.94-2.06 2.06-.94-2.06-.94-.94-2.06-.94 2.06-2.06.94zm-11 1L8.5 8.5l.94-2.06 2.06-.94-2.06-.94L8.5 2.5l-.94 2.06-2.06.94zm10 10l.94 2.06.94-2.06 2.06-.94-2.06-.94-.94-2.06-.94 2.06-2.06.94z\"/><path d=\"M17.41 7.96l-1.37-1.37c-.4-.4-.92-.59-1.43-.59-.52 0-1.04.2-1.43.59L10.3 9.45l-7.72 7.72c-.78.78-.78 2.05 0 2.83L4 21.41c.39.39.9.59 1.41.59.51 0 1.02-.2 1.41-.59l7.78-7.78 2.81-2.81c.8-.78.8-2.07 0-2.86zM5.41 20L4 18.59l7.72-7.72 1.47 1.35L5.41 20z\"/>\n",
              "  </svg>\n",
              "      </button>\n",
              "      \n",
              "  <style>\n",
              "    .colab-df-container {\n",
              "      display:flex;\n",
              "      flex-wrap:wrap;\n",
              "      gap: 12px;\n",
              "    }\n",
              "\n",
              "    .colab-df-convert {\n",
              "      background-color: #E8F0FE;\n",
              "      border: none;\n",
              "      border-radius: 50%;\n",
              "      cursor: pointer;\n",
              "      display: none;\n",
              "      fill: #1967D2;\n",
              "      height: 32px;\n",
              "      padding: 0 0 0 0;\n",
              "      width: 32px;\n",
              "    }\n",
              "\n",
              "    .colab-df-convert:hover {\n",
              "      background-color: #E2EBFA;\n",
              "      box-shadow: 0px 1px 2px rgba(60, 64, 67, 0.3), 0px 1px 3px 1px rgba(60, 64, 67, 0.15);\n",
              "      fill: #174EA6;\n",
              "    }\n",
              "\n",
              "    [theme=dark] .colab-df-convert {\n",
              "      background-color: #3B4455;\n",
              "      fill: #D2E3FC;\n",
              "    }\n",
              "\n",
              "    [theme=dark] .colab-df-convert:hover {\n",
              "      background-color: #434B5C;\n",
              "      box-shadow: 0px 1px 3px 1px rgba(0, 0, 0, 0.15);\n",
              "      filter: drop-shadow(0px 1px 2px rgba(0, 0, 0, 0.3));\n",
              "      fill: #FFFFFF;\n",
              "    }\n",
              "  </style>\n",
              "\n",
              "      <script>\n",
              "        const buttonEl =\n",
              "          document.querySelector('#df-a32728ca-e582-4996-bed6-5b50708a8f45 button.colab-df-convert');\n",
              "        buttonEl.style.display =\n",
              "          google.colab.kernel.accessAllowed ? 'block' : 'none';\n",
              "\n",
              "        async function convertToInteractive(key) {\n",
              "          const element = document.querySelector('#df-a32728ca-e582-4996-bed6-5b50708a8f45');\n",
              "          const dataTable =\n",
              "            await google.colab.kernel.invokeFunction('convertToInteractive',\n",
              "                                                     [key], {});\n",
              "          if (!dataTable) return;\n",
              "\n",
              "          const docLinkHtml = 'Like what you see? Visit the ' +\n",
              "            '<a target=\"_blank\" href=https://colab.research.google.com/notebooks/data_table.ipynb>data table notebook</a>'\n",
              "            + ' to learn more about interactive tables.';\n",
              "          element.innerHTML = '';\n",
              "          dataTable['output_type'] = 'display_data';\n",
              "          await google.colab.output.renderOutput(dataTable, element);\n",
              "          const docLink = document.createElement('div');\n",
              "          docLink.innerHTML = docLinkHtml;\n",
              "          element.appendChild(docLink);\n",
              "        }\n",
              "      </script>\n",
              "    </div>\n",
              "  </div>\n",
              "  "
            ]
          },
          "metadata": {},
          "execution_count": 94
        }
      ]
    },
    {
      "cell_type": "code",
      "source": [
        "df[cuantitativas].var()\n"
      ],
      "metadata": {
        "id": "0Ew9StQurs_O",
        "colab": {
          "base_uri": "https://localhost:8080/"
        },
        "outputId": "99f6e2c3-19be-4514-f1d3-b00e857ac2ea"
      },
      "execution_count": 95,
      "outputs": [
        {
          "output_type": "execute_result",
          "data": {
            "text/plain": [
              "alcalinidad           1459.509456\n",
              "ph                       1.660102\n",
              "calcio                 621.633266\n",
              "clorofila              949.645668\n",
              "media_merc_porc          0.116305\n",
              "num_peces               73.285196\n",
              "min_merc_porc            0.051260\n",
              "max_merc_porc            0.272533\n",
              "merc_estimado_porc       0.114738\n",
              "dtype: float64"
            ]
          },
          "metadata": {},
          "execution_count": 95
        }
      ]
    },
    {
      "cell_type": "code",
      "source": [
        "df[cuantitativas].mode()"
      ],
      "metadata": {
        "id": "WwVCjnGl9JND",
        "colab": {
          "base_uri": "https://localhost:8080/",
          "height": 0
        },
        "outputId": "d54a7ff6-8998-47a4-9fe1-1574178d9e05"
      },
      "execution_count": 96,
      "outputs": [
        {
          "output_type": "execute_result",
          "data": {
            "text/plain": [
              "   alcalinidad   ph  calcio  clorofila  media_merc_porc  num_peces  \\\n",
              "0         17.3  5.8     3.0        1.6             0.34       12.0   \n",
              "1         25.4  6.9     3.3        3.2              NaN        NaN   \n",
              "2          NaN  NaN     5.2        9.6              NaN        NaN   \n",
              "3          NaN  NaN     6.3        NaN              NaN        NaN   \n",
              "4          NaN  NaN    20.5        NaN              NaN        NaN   \n",
              "5          NaN  NaN     NaN        NaN              NaN        NaN   \n",
              "6          NaN  NaN     NaN        NaN              NaN        NaN   \n",
              "7          NaN  NaN     NaN        NaN              NaN        NaN   \n",
              "8          NaN  NaN     NaN        NaN              NaN        NaN   \n",
              "\n",
              "   min_merc_porc  max_merc_porc  merc_estimado_porc  \n",
              "0           0.04           0.06                0.16  \n",
              "1            NaN           0.26                 NaN  \n",
              "2            NaN           0.40                 NaN  \n",
              "3            NaN           0.48                 NaN  \n",
              "4            NaN           0.69                 NaN  \n",
              "5            NaN           0.84                 NaN  \n",
              "6            NaN           1.40                 NaN  \n",
              "7            NaN           1.50                 NaN  \n",
              "8            NaN           1.90                 NaN  "
            ],
            "text/html": [
              "\n",
              "  <div id=\"df-569fb3b5-70f8-4fab-b099-584b249e8c84\">\n",
              "    <div class=\"colab-df-container\">\n",
              "      <div>\n",
              "<style scoped>\n",
              "    .dataframe tbody tr th:only-of-type {\n",
              "        vertical-align: middle;\n",
              "    }\n",
              "\n",
              "    .dataframe tbody tr th {\n",
              "        vertical-align: top;\n",
              "    }\n",
              "\n",
              "    .dataframe thead th {\n",
              "        text-align: right;\n",
              "    }\n",
              "</style>\n",
              "<table border=\"1\" class=\"dataframe\">\n",
              "  <thead>\n",
              "    <tr style=\"text-align: right;\">\n",
              "      <th></th>\n",
              "      <th>alcalinidad</th>\n",
              "      <th>ph</th>\n",
              "      <th>calcio</th>\n",
              "      <th>clorofila</th>\n",
              "      <th>media_merc_porc</th>\n",
              "      <th>num_peces</th>\n",
              "      <th>min_merc_porc</th>\n",
              "      <th>max_merc_porc</th>\n",
              "      <th>merc_estimado_porc</th>\n",
              "    </tr>\n",
              "  </thead>\n",
              "  <tbody>\n",
              "    <tr>\n",
              "      <th>0</th>\n",
              "      <td>17.3</td>\n",
              "      <td>5.8</td>\n",
              "      <td>3.0</td>\n",
              "      <td>1.6</td>\n",
              "      <td>0.34</td>\n",
              "      <td>12.0</td>\n",
              "      <td>0.04</td>\n",
              "      <td>0.06</td>\n",
              "      <td>0.16</td>\n",
              "    </tr>\n",
              "    <tr>\n",
              "      <th>1</th>\n",
              "      <td>25.4</td>\n",
              "      <td>6.9</td>\n",
              "      <td>3.3</td>\n",
              "      <td>3.2</td>\n",
              "      <td>NaN</td>\n",
              "      <td>NaN</td>\n",
              "      <td>NaN</td>\n",
              "      <td>0.26</td>\n",
              "      <td>NaN</td>\n",
              "    </tr>\n",
              "    <tr>\n",
              "      <th>2</th>\n",
              "      <td>NaN</td>\n",
              "      <td>NaN</td>\n",
              "      <td>5.2</td>\n",
              "      <td>9.6</td>\n",
              "      <td>NaN</td>\n",
              "      <td>NaN</td>\n",
              "      <td>NaN</td>\n",
              "      <td>0.40</td>\n",
              "      <td>NaN</td>\n",
              "    </tr>\n",
              "    <tr>\n",
              "      <th>3</th>\n",
              "      <td>NaN</td>\n",
              "      <td>NaN</td>\n",
              "      <td>6.3</td>\n",
              "      <td>NaN</td>\n",
              "      <td>NaN</td>\n",
              "      <td>NaN</td>\n",
              "      <td>NaN</td>\n",
              "      <td>0.48</td>\n",
              "      <td>NaN</td>\n",
              "    </tr>\n",
              "    <tr>\n",
              "      <th>4</th>\n",
              "      <td>NaN</td>\n",
              "      <td>NaN</td>\n",
              "      <td>20.5</td>\n",
              "      <td>NaN</td>\n",
              "      <td>NaN</td>\n",
              "      <td>NaN</td>\n",
              "      <td>NaN</td>\n",
              "      <td>0.69</td>\n",
              "      <td>NaN</td>\n",
              "    </tr>\n",
              "    <tr>\n",
              "      <th>5</th>\n",
              "      <td>NaN</td>\n",
              "      <td>NaN</td>\n",
              "      <td>NaN</td>\n",
              "      <td>NaN</td>\n",
              "      <td>NaN</td>\n",
              "      <td>NaN</td>\n",
              "      <td>NaN</td>\n",
              "      <td>0.84</td>\n",
              "      <td>NaN</td>\n",
              "    </tr>\n",
              "    <tr>\n",
              "      <th>6</th>\n",
              "      <td>NaN</td>\n",
              "      <td>NaN</td>\n",
              "      <td>NaN</td>\n",
              "      <td>NaN</td>\n",
              "      <td>NaN</td>\n",
              "      <td>NaN</td>\n",
              "      <td>NaN</td>\n",
              "      <td>1.40</td>\n",
              "      <td>NaN</td>\n",
              "    </tr>\n",
              "    <tr>\n",
              "      <th>7</th>\n",
              "      <td>NaN</td>\n",
              "      <td>NaN</td>\n",
              "      <td>NaN</td>\n",
              "      <td>NaN</td>\n",
              "      <td>NaN</td>\n",
              "      <td>NaN</td>\n",
              "      <td>NaN</td>\n",
              "      <td>1.50</td>\n",
              "      <td>NaN</td>\n",
              "    </tr>\n",
              "    <tr>\n",
              "      <th>8</th>\n",
              "      <td>NaN</td>\n",
              "      <td>NaN</td>\n",
              "      <td>NaN</td>\n",
              "      <td>NaN</td>\n",
              "      <td>NaN</td>\n",
              "      <td>NaN</td>\n",
              "      <td>NaN</td>\n",
              "      <td>1.90</td>\n",
              "      <td>NaN</td>\n",
              "    </tr>\n",
              "  </tbody>\n",
              "</table>\n",
              "</div>\n",
              "      <button class=\"colab-df-convert\" onclick=\"convertToInteractive('df-569fb3b5-70f8-4fab-b099-584b249e8c84')\"\n",
              "              title=\"Convert this dataframe to an interactive table.\"\n",
              "              style=\"display:none;\">\n",
              "        \n",
              "  <svg xmlns=\"http://www.w3.org/2000/svg\" height=\"24px\"viewBox=\"0 0 24 24\"\n",
              "       width=\"24px\">\n",
              "    <path d=\"M0 0h24v24H0V0z\" fill=\"none\"/>\n",
              "    <path d=\"M18.56 5.44l.94 2.06.94-2.06 2.06-.94-2.06-.94-.94-2.06-.94 2.06-2.06.94zm-11 1L8.5 8.5l.94-2.06 2.06-.94-2.06-.94L8.5 2.5l-.94 2.06-2.06.94zm10 10l.94 2.06.94-2.06 2.06-.94-2.06-.94-.94-2.06-.94 2.06-2.06.94z\"/><path d=\"M17.41 7.96l-1.37-1.37c-.4-.4-.92-.59-1.43-.59-.52 0-1.04.2-1.43.59L10.3 9.45l-7.72 7.72c-.78.78-.78 2.05 0 2.83L4 21.41c.39.39.9.59 1.41.59.51 0 1.02-.2 1.41-.59l7.78-7.78 2.81-2.81c.8-.78.8-2.07 0-2.86zM5.41 20L4 18.59l7.72-7.72 1.47 1.35L5.41 20z\"/>\n",
              "  </svg>\n",
              "      </button>\n",
              "      \n",
              "  <style>\n",
              "    .colab-df-container {\n",
              "      display:flex;\n",
              "      flex-wrap:wrap;\n",
              "      gap: 12px;\n",
              "    }\n",
              "\n",
              "    .colab-df-convert {\n",
              "      background-color: #E8F0FE;\n",
              "      border: none;\n",
              "      border-radius: 50%;\n",
              "      cursor: pointer;\n",
              "      display: none;\n",
              "      fill: #1967D2;\n",
              "      height: 32px;\n",
              "      padding: 0 0 0 0;\n",
              "      width: 32px;\n",
              "    }\n",
              "\n",
              "    .colab-df-convert:hover {\n",
              "      background-color: #E2EBFA;\n",
              "      box-shadow: 0px 1px 2px rgba(60, 64, 67, 0.3), 0px 1px 3px 1px rgba(60, 64, 67, 0.15);\n",
              "      fill: #174EA6;\n",
              "    }\n",
              "\n",
              "    [theme=dark] .colab-df-convert {\n",
              "      background-color: #3B4455;\n",
              "      fill: #D2E3FC;\n",
              "    }\n",
              "\n",
              "    [theme=dark] .colab-df-convert:hover {\n",
              "      background-color: #434B5C;\n",
              "      box-shadow: 0px 1px 3px 1px rgba(0, 0, 0, 0.15);\n",
              "      filter: drop-shadow(0px 1px 2px rgba(0, 0, 0, 0.3));\n",
              "      fill: #FFFFFF;\n",
              "    }\n",
              "  </style>\n",
              "\n",
              "      <script>\n",
              "        const buttonEl =\n",
              "          document.querySelector('#df-569fb3b5-70f8-4fab-b099-584b249e8c84 button.colab-df-convert');\n",
              "        buttonEl.style.display =\n",
              "          google.colab.kernel.accessAllowed ? 'block' : 'none';\n",
              "\n",
              "        async function convertToInteractive(key) {\n",
              "          const element = document.querySelector('#df-569fb3b5-70f8-4fab-b099-584b249e8c84');\n",
              "          const dataTable =\n",
              "            await google.colab.kernel.invokeFunction('convertToInteractive',\n",
              "                                                     [key], {});\n",
              "          if (!dataTable) return;\n",
              "\n",
              "          const docLinkHtml = 'Like what you see? Visit the ' +\n",
              "            '<a target=\"_blank\" href=https://colab.research.google.com/notebooks/data_table.ipynb>data table notebook</a>'\n",
              "            + ' to learn more about interactive tables.';\n",
              "          element.innerHTML = '';\n",
              "          dataTable['output_type'] = 'display_data';\n",
              "          await google.colab.output.renderOutput(dataTable, element);\n",
              "          const docLink = document.createElement('div');\n",
              "          docLink.innerHTML = docLinkHtml;\n",
              "          element.appendChild(docLink);\n",
              "        }\n",
              "      </script>\n",
              "    </div>\n",
              "  </div>\n",
              "  "
            ]
          },
          "metadata": {},
          "execution_count": 96
        }
      ]
    },
    {
      "cell_type": "markdown",
      "source": [
        "### Variables cualitativas\n",
        "- Tabla de distribución de frecuencia\n",
        "\n",
        "- Moda"
      ],
      "metadata": {
        "id": "8i2c8iJP5gpp"
      }
    },
    {
      "cell_type": "code",
      "source": [
        "pd.crosstab(df['nombre'], 'Freq')"
      ],
      "metadata": {
        "id": "vRL0kU0L5jfa",
        "colab": {
          "base_uri": "https://localhost:8080/",
          "height": 0
        },
        "outputId": "60f15cfb-1cdf-446d-c4e7-1e11baaa21ed"
      },
      "execution_count": 97,
      "outputs": [
        {
          "output_type": "execute_result",
          "data": {
            "text/plain": [
              "col_0              Freq\n",
              "nombre                 \n",
              "Alligator             1\n",
              "Annie                 1\n",
              "Apopka                1\n",
              "Blue Cypress          1\n",
              "Brick                 1\n",
              "Bryant                1\n",
              "Cherry                1\n",
              "Crescent              1\n",
              "Deer Point            1\n",
              "Dias                  1\n",
              "Dorr                  1\n",
              "Down                  1\n",
              "East Tohopekaliga     1\n",
              "Eaton                 1\n",
              "Farm-13               1\n",
              "George                1\n",
              "Griffin               1\n",
              "Harney                1\n",
              "Hart                  1\n",
              "Hatchineha            1\n",
              "Iamonia               1\n",
              "Istokpoga             1\n",
              "Jackson               1\n",
              "Josephine             1\n",
              "Kingsley              1\n",
              "Kissimmee             1\n",
              "Lochloosa             1\n",
              "Louisa                1\n",
              "Miccasukee            1\n",
              "Minneola              1\n",
              "Monroe                1\n",
              "Newmans               1\n",
              "Ocean Pond            1\n",
              "Ocheese Pond          1\n",
              "Okeechobee            1\n",
              "Orange                1\n",
              "Panasoffkee           1\n",
              "Parker                1\n",
              "Placid                1\n",
              "Puzzle                1\n",
              "Rodman                1\n",
              "Rousseau              1\n",
              "Sampson               1\n",
              "Shipp                 1\n",
              "Talquin               1\n",
              "Tarpon                1\n",
              "Tohopekaliga          1\n",
              "Trafford              1\n",
              "Trout                 1\n",
              "Tsala Apopka          1\n",
              "Weir                  1\n",
              "Wildcat               1\n",
              "Yale                  1"
            ],
            "text/html": [
              "\n",
              "  <div id=\"df-ea24a61b-cbae-45ec-b456-48f1215cbf5d\">\n",
              "    <div class=\"colab-df-container\">\n",
              "      <div>\n",
              "<style scoped>\n",
              "    .dataframe tbody tr th:only-of-type {\n",
              "        vertical-align: middle;\n",
              "    }\n",
              "\n",
              "    .dataframe tbody tr th {\n",
              "        vertical-align: top;\n",
              "    }\n",
              "\n",
              "    .dataframe thead th {\n",
              "        text-align: right;\n",
              "    }\n",
              "</style>\n",
              "<table border=\"1\" class=\"dataframe\">\n",
              "  <thead>\n",
              "    <tr style=\"text-align: right;\">\n",
              "      <th>col_0</th>\n",
              "      <th>Freq</th>\n",
              "    </tr>\n",
              "    <tr>\n",
              "      <th>nombre</th>\n",
              "      <th></th>\n",
              "    </tr>\n",
              "  </thead>\n",
              "  <tbody>\n",
              "    <tr>\n",
              "      <th>Alligator</th>\n",
              "      <td>1</td>\n",
              "    </tr>\n",
              "    <tr>\n",
              "      <th>Annie</th>\n",
              "      <td>1</td>\n",
              "    </tr>\n",
              "    <tr>\n",
              "      <th>Apopka</th>\n",
              "      <td>1</td>\n",
              "    </tr>\n",
              "    <tr>\n",
              "      <th>Blue Cypress</th>\n",
              "      <td>1</td>\n",
              "    </tr>\n",
              "    <tr>\n",
              "      <th>Brick</th>\n",
              "      <td>1</td>\n",
              "    </tr>\n",
              "    <tr>\n",
              "      <th>Bryant</th>\n",
              "      <td>1</td>\n",
              "    </tr>\n",
              "    <tr>\n",
              "      <th>Cherry</th>\n",
              "      <td>1</td>\n",
              "    </tr>\n",
              "    <tr>\n",
              "      <th>Crescent</th>\n",
              "      <td>1</td>\n",
              "    </tr>\n",
              "    <tr>\n",
              "      <th>Deer Point</th>\n",
              "      <td>1</td>\n",
              "    </tr>\n",
              "    <tr>\n",
              "      <th>Dias</th>\n",
              "      <td>1</td>\n",
              "    </tr>\n",
              "    <tr>\n",
              "      <th>Dorr</th>\n",
              "      <td>1</td>\n",
              "    </tr>\n",
              "    <tr>\n",
              "      <th>Down</th>\n",
              "      <td>1</td>\n",
              "    </tr>\n",
              "    <tr>\n",
              "      <th>East Tohopekaliga</th>\n",
              "      <td>1</td>\n",
              "    </tr>\n",
              "    <tr>\n",
              "      <th>Eaton</th>\n",
              "      <td>1</td>\n",
              "    </tr>\n",
              "    <tr>\n",
              "      <th>Farm-13</th>\n",
              "      <td>1</td>\n",
              "    </tr>\n",
              "    <tr>\n",
              "      <th>George</th>\n",
              "      <td>1</td>\n",
              "    </tr>\n",
              "    <tr>\n",
              "      <th>Griffin</th>\n",
              "      <td>1</td>\n",
              "    </tr>\n",
              "    <tr>\n",
              "      <th>Harney</th>\n",
              "      <td>1</td>\n",
              "    </tr>\n",
              "    <tr>\n",
              "      <th>Hart</th>\n",
              "      <td>1</td>\n",
              "    </tr>\n",
              "    <tr>\n",
              "      <th>Hatchineha</th>\n",
              "      <td>1</td>\n",
              "    </tr>\n",
              "    <tr>\n",
              "      <th>Iamonia</th>\n",
              "      <td>1</td>\n",
              "    </tr>\n",
              "    <tr>\n",
              "      <th>Istokpoga</th>\n",
              "      <td>1</td>\n",
              "    </tr>\n",
              "    <tr>\n",
              "      <th>Jackson</th>\n",
              "      <td>1</td>\n",
              "    </tr>\n",
              "    <tr>\n",
              "      <th>Josephine</th>\n",
              "      <td>1</td>\n",
              "    </tr>\n",
              "    <tr>\n",
              "      <th>Kingsley</th>\n",
              "      <td>1</td>\n",
              "    </tr>\n",
              "    <tr>\n",
              "      <th>Kissimmee</th>\n",
              "      <td>1</td>\n",
              "    </tr>\n",
              "    <tr>\n",
              "      <th>Lochloosa</th>\n",
              "      <td>1</td>\n",
              "    </tr>\n",
              "    <tr>\n",
              "      <th>Louisa</th>\n",
              "      <td>1</td>\n",
              "    </tr>\n",
              "    <tr>\n",
              "      <th>Miccasukee</th>\n",
              "      <td>1</td>\n",
              "    </tr>\n",
              "    <tr>\n",
              "      <th>Minneola</th>\n",
              "      <td>1</td>\n",
              "    </tr>\n",
              "    <tr>\n",
              "      <th>Monroe</th>\n",
              "      <td>1</td>\n",
              "    </tr>\n",
              "    <tr>\n",
              "      <th>Newmans</th>\n",
              "      <td>1</td>\n",
              "    </tr>\n",
              "    <tr>\n",
              "      <th>Ocean Pond</th>\n",
              "      <td>1</td>\n",
              "    </tr>\n",
              "    <tr>\n",
              "      <th>Ocheese Pond</th>\n",
              "      <td>1</td>\n",
              "    </tr>\n",
              "    <tr>\n",
              "      <th>Okeechobee</th>\n",
              "      <td>1</td>\n",
              "    </tr>\n",
              "    <tr>\n",
              "      <th>Orange</th>\n",
              "      <td>1</td>\n",
              "    </tr>\n",
              "    <tr>\n",
              "      <th>Panasoffkee</th>\n",
              "      <td>1</td>\n",
              "    </tr>\n",
              "    <tr>\n",
              "      <th>Parker</th>\n",
              "      <td>1</td>\n",
              "    </tr>\n",
              "    <tr>\n",
              "      <th>Placid</th>\n",
              "      <td>1</td>\n",
              "    </tr>\n",
              "    <tr>\n",
              "      <th>Puzzle</th>\n",
              "      <td>1</td>\n",
              "    </tr>\n",
              "    <tr>\n",
              "      <th>Rodman</th>\n",
              "      <td>1</td>\n",
              "    </tr>\n",
              "    <tr>\n",
              "      <th>Rousseau</th>\n",
              "      <td>1</td>\n",
              "    </tr>\n",
              "    <tr>\n",
              "      <th>Sampson</th>\n",
              "      <td>1</td>\n",
              "    </tr>\n",
              "    <tr>\n",
              "      <th>Shipp</th>\n",
              "      <td>1</td>\n",
              "    </tr>\n",
              "    <tr>\n",
              "      <th>Talquin</th>\n",
              "      <td>1</td>\n",
              "    </tr>\n",
              "    <tr>\n",
              "      <th>Tarpon</th>\n",
              "      <td>1</td>\n",
              "    </tr>\n",
              "    <tr>\n",
              "      <th>Tohopekaliga</th>\n",
              "      <td>1</td>\n",
              "    </tr>\n",
              "    <tr>\n",
              "      <th>Trafford</th>\n",
              "      <td>1</td>\n",
              "    </tr>\n",
              "    <tr>\n",
              "      <th>Trout</th>\n",
              "      <td>1</td>\n",
              "    </tr>\n",
              "    <tr>\n",
              "      <th>Tsala Apopka</th>\n",
              "      <td>1</td>\n",
              "    </tr>\n",
              "    <tr>\n",
              "      <th>Weir</th>\n",
              "      <td>1</td>\n",
              "    </tr>\n",
              "    <tr>\n",
              "      <th>Wildcat</th>\n",
              "      <td>1</td>\n",
              "    </tr>\n",
              "    <tr>\n",
              "      <th>Yale</th>\n",
              "      <td>1</td>\n",
              "    </tr>\n",
              "  </tbody>\n",
              "</table>\n",
              "</div>\n",
              "      <button class=\"colab-df-convert\" onclick=\"convertToInteractive('df-ea24a61b-cbae-45ec-b456-48f1215cbf5d')\"\n",
              "              title=\"Convert this dataframe to an interactive table.\"\n",
              "              style=\"display:none;\">\n",
              "        \n",
              "  <svg xmlns=\"http://www.w3.org/2000/svg\" height=\"24px\"viewBox=\"0 0 24 24\"\n",
              "       width=\"24px\">\n",
              "    <path d=\"M0 0h24v24H0V0z\" fill=\"none\"/>\n",
              "    <path d=\"M18.56 5.44l.94 2.06.94-2.06 2.06-.94-2.06-.94-.94-2.06-.94 2.06-2.06.94zm-11 1L8.5 8.5l.94-2.06 2.06-.94-2.06-.94L8.5 2.5l-.94 2.06-2.06.94zm10 10l.94 2.06.94-2.06 2.06-.94-2.06-.94-.94-2.06-.94 2.06-2.06.94z\"/><path d=\"M17.41 7.96l-1.37-1.37c-.4-.4-.92-.59-1.43-.59-.52 0-1.04.2-1.43.59L10.3 9.45l-7.72 7.72c-.78.78-.78 2.05 0 2.83L4 21.41c.39.39.9.59 1.41.59.51 0 1.02-.2 1.41-.59l7.78-7.78 2.81-2.81c.8-.78.8-2.07 0-2.86zM5.41 20L4 18.59l7.72-7.72 1.47 1.35L5.41 20z\"/>\n",
              "  </svg>\n",
              "      </button>\n",
              "      \n",
              "  <style>\n",
              "    .colab-df-container {\n",
              "      display:flex;\n",
              "      flex-wrap:wrap;\n",
              "      gap: 12px;\n",
              "    }\n",
              "\n",
              "    .colab-df-convert {\n",
              "      background-color: #E8F0FE;\n",
              "      border: none;\n",
              "      border-radius: 50%;\n",
              "      cursor: pointer;\n",
              "      display: none;\n",
              "      fill: #1967D2;\n",
              "      height: 32px;\n",
              "      padding: 0 0 0 0;\n",
              "      width: 32px;\n",
              "    }\n",
              "\n",
              "    .colab-df-convert:hover {\n",
              "      background-color: #E2EBFA;\n",
              "      box-shadow: 0px 1px 2px rgba(60, 64, 67, 0.3), 0px 1px 3px 1px rgba(60, 64, 67, 0.15);\n",
              "      fill: #174EA6;\n",
              "    }\n",
              "\n",
              "    [theme=dark] .colab-df-convert {\n",
              "      background-color: #3B4455;\n",
              "      fill: #D2E3FC;\n",
              "    }\n",
              "\n",
              "    [theme=dark] .colab-df-convert:hover {\n",
              "      background-color: #434B5C;\n",
              "      box-shadow: 0px 1px 3px 1px rgba(0, 0, 0, 0.15);\n",
              "      filter: drop-shadow(0px 1px 2px rgba(0, 0, 0, 0.3));\n",
              "      fill: #FFFFFF;\n",
              "    }\n",
              "  </style>\n",
              "\n",
              "      <script>\n",
              "        const buttonEl =\n",
              "          document.querySelector('#df-ea24a61b-cbae-45ec-b456-48f1215cbf5d button.colab-df-convert');\n",
              "        buttonEl.style.display =\n",
              "          google.colab.kernel.accessAllowed ? 'block' : 'none';\n",
              "\n",
              "        async function convertToInteractive(key) {\n",
              "          const element = document.querySelector('#df-ea24a61b-cbae-45ec-b456-48f1215cbf5d');\n",
              "          const dataTable =\n",
              "            await google.colab.kernel.invokeFunction('convertToInteractive',\n",
              "                                                     [key], {});\n",
              "          if (!dataTable) return;\n",
              "\n",
              "          const docLinkHtml = 'Like what you see? Visit the ' +\n",
              "            '<a target=\"_blank\" href=https://colab.research.google.com/notebooks/data_table.ipynb>data table notebook</a>'\n",
              "            + ' to learn more about interactive tables.';\n",
              "          element.innerHTML = '';\n",
              "          dataTable['output_type'] = 'display_data';\n",
              "          await google.colab.output.renderOutput(dataTable, element);\n",
              "          const docLink = document.createElement('div');\n",
              "          docLink.innerHTML = docLinkHtml;\n",
              "          element.appendChild(docLink);\n",
              "        }\n",
              "      </script>\n",
              "    </div>\n",
              "  </div>\n",
              "  "
            ]
          },
          "metadata": {},
          "execution_count": 97
        }
      ]
    },
    {
      "cell_type": "code",
      "source": [
        "pd.crosstab(df['edad_peces'], 'Freq')"
      ],
      "metadata": {
        "id": "_6fzAcTsE6vw",
        "colab": {
          "base_uri": "https://localhost:8080/",
          "height": 0
        },
        "outputId": "db322dc6-555e-4781-ae1e-0487b3b5cfca"
      },
      "execution_count": 98,
      "outputs": [
        {
          "output_type": "execute_result",
          "data": {
            "text/plain": [
              "col_0       Freq\n",
              "edad_peces      \n",
              "0             10\n",
              "1             43"
            ],
            "text/html": [
              "\n",
              "  <div id=\"df-75ec0376-44d8-4142-a003-3517a3ac578d\">\n",
              "    <div class=\"colab-df-container\">\n",
              "      <div>\n",
              "<style scoped>\n",
              "    .dataframe tbody tr th:only-of-type {\n",
              "        vertical-align: middle;\n",
              "    }\n",
              "\n",
              "    .dataframe tbody tr th {\n",
              "        vertical-align: top;\n",
              "    }\n",
              "\n",
              "    .dataframe thead th {\n",
              "        text-align: right;\n",
              "    }\n",
              "</style>\n",
              "<table border=\"1\" class=\"dataframe\">\n",
              "  <thead>\n",
              "    <tr style=\"text-align: right;\">\n",
              "      <th>col_0</th>\n",
              "      <th>Freq</th>\n",
              "    </tr>\n",
              "    <tr>\n",
              "      <th>edad_peces</th>\n",
              "      <th></th>\n",
              "    </tr>\n",
              "  </thead>\n",
              "  <tbody>\n",
              "    <tr>\n",
              "      <th>0</th>\n",
              "      <td>10</td>\n",
              "    </tr>\n",
              "    <tr>\n",
              "      <th>1</th>\n",
              "      <td>43</td>\n",
              "    </tr>\n",
              "  </tbody>\n",
              "</table>\n",
              "</div>\n",
              "      <button class=\"colab-df-convert\" onclick=\"convertToInteractive('df-75ec0376-44d8-4142-a003-3517a3ac578d')\"\n",
              "              title=\"Convert this dataframe to an interactive table.\"\n",
              "              style=\"display:none;\">\n",
              "        \n",
              "  <svg xmlns=\"http://www.w3.org/2000/svg\" height=\"24px\"viewBox=\"0 0 24 24\"\n",
              "       width=\"24px\">\n",
              "    <path d=\"M0 0h24v24H0V0z\" fill=\"none\"/>\n",
              "    <path d=\"M18.56 5.44l.94 2.06.94-2.06 2.06-.94-2.06-.94-.94-2.06-.94 2.06-2.06.94zm-11 1L8.5 8.5l.94-2.06 2.06-.94-2.06-.94L8.5 2.5l-.94 2.06-2.06.94zm10 10l.94 2.06.94-2.06 2.06-.94-2.06-.94-.94-2.06-.94 2.06-2.06.94z\"/><path d=\"M17.41 7.96l-1.37-1.37c-.4-.4-.92-.59-1.43-.59-.52 0-1.04.2-1.43.59L10.3 9.45l-7.72 7.72c-.78.78-.78 2.05 0 2.83L4 21.41c.39.39.9.59 1.41.59.51 0 1.02-.2 1.41-.59l7.78-7.78 2.81-2.81c.8-.78.8-2.07 0-2.86zM5.41 20L4 18.59l7.72-7.72 1.47 1.35L5.41 20z\"/>\n",
              "  </svg>\n",
              "      </button>\n",
              "      \n",
              "  <style>\n",
              "    .colab-df-container {\n",
              "      display:flex;\n",
              "      flex-wrap:wrap;\n",
              "      gap: 12px;\n",
              "    }\n",
              "\n",
              "    .colab-df-convert {\n",
              "      background-color: #E8F0FE;\n",
              "      border: none;\n",
              "      border-radius: 50%;\n",
              "      cursor: pointer;\n",
              "      display: none;\n",
              "      fill: #1967D2;\n",
              "      height: 32px;\n",
              "      padding: 0 0 0 0;\n",
              "      width: 32px;\n",
              "    }\n",
              "\n",
              "    .colab-df-convert:hover {\n",
              "      background-color: #E2EBFA;\n",
              "      box-shadow: 0px 1px 2px rgba(60, 64, 67, 0.3), 0px 1px 3px 1px rgba(60, 64, 67, 0.15);\n",
              "      fill: #174EA6;\n",
              "    }\n",
              "\n",
              "    [theme=dark] .colab-df-convert {\n",
              "      background-color: #3B4455;\n",
              "      fill: #D2E3FC;\n",
              "    }\n",
              "\n",
              "    [theme=dark] .colab-df-convert:hover {\n",
              "      background-color: #434B5C;\n",
              "      box-shadow: 0px 1px 3px 1px rgba(0, 0, 0, 0.15);\n",
              "      filter: drop-shadow(0px 1px 2px rgba(0, 0, 0, 0.3));\n",
              "      fill: #FFFFFF;\n",
              "    }\n",
              "  </style>\n",
              "\n",
              "      <script>\n",
              "        const buttonEl =\n",
              "          document.querySelector('#df-75ec0376-44d8-4142-a003-3517a3ac578d button.colab-df-convert');\n",
              "        buttonEl.style.display =\n",
              "          google.colab.kernel.accessAllowed ? 'block' : 'none';\n",
              "\n",
              "        async function convertToInteractive(key) {\n",
              "          const element = document.querySelector('#df-75ec0376-44d8-4142-a003-3517a3ac578d');\n",
              "          const dataTable =\n",
              "            await google.colab.kernel.invokeFunction('convertToInteractive',\n",
              "                                                     [key], {});\n",
              "          if (!dataTable) return;\n",
              "\n",
              "          const docLinkHtml = 'Like what you see? Visit the ' +\n",
              "            '<a target=\"_blank\" href=https://colab.research.google.com/notebooks/data_table.ipynb>data table notebook</a>'\n",
              "            + ' to learn more about interactive tables.';\n",
              "          element.innerHTML = '';\n",
              "          dataTable['output_type'] = 'display_data';\n",
              "          await google.colab.output.renderOutput(dataTable, element);\n",
              "          const docLink = document.createElement('div');\n",
              "          docLink.innerHTML = docLinkHtml;\n",
              "          element.appendChild(docLink);\n",
              "        }\n",
              "      </script>\n",
              "    </div>\n",
              "  </div>\n",
              "  "
            ]
          },
          "metadata": {},
          "execution_count": 98
        }
      ]
    },
    {
      "cell_type": "code",
      "source": [
        "df[cualitativas].mode()"
      ],
      "metadata": {
        "id": "Lmx59-yKGlI0",
        "colab": {
          "base_uri": "https://localhost:8080/",
          "height": 0
        },
        "outputId": "54638afc-21a5-4772-fa2b-8d5a783519bc"
      },
      "execution_count": 99,
      "outputs": [
        {
          "output_type": "execute_result",
          "data": {
            "text/plain": [
              "               nombre  edad_peces\n",
              "0           Alligator         1.0\n",
              "1               Annie         NaN\n",
              "2              Apopka         NaN\n",
              "3        Blue Cypress         NaN\n",
              "4               Brick         NaN\n",
              "5              Bryant         NaN\n",
              "6              Cherry         NaN\n",
              "7            Crescent         NaN\n",
              "8          Deer Point         NaN\n",
              "9                Dias         NaN\n",
              "10               Dorr         NaN\n",
              "11               Down         NaN\n",
              "12  East Tohopekaliga         NaN\n",
              "13              Eaton         NaN\n",
              "14            Farm-13         NaN\n",
              "15             George         NaN\n",
              "16            Griffin         NaN\n",
              "17             Harney         NaN\n",
              "18               Hart         NaN\n",
              "19         Hatchineha         NaN\n",
              "20            Iamonia         NaN\n",
              "21          Istokpoga         NaN\n",
              "22            Jackson         NaN\n",
              "23          Josephine         NaN\n",
              "24           Kingsley         NaN\n",
              "25          Kissimmee         NaN\n",
              "26          Lochloosa         NaN\n",
              "27             Louisa         NaN\n",
              "28         Miccasukee         NaN\n",
              "29           Minneola         NaN\n",
              "30             Monroe         NaN\n",
              "31            Newmans         NaN\n",
              "32         Ocean Pond         NaN\n",
              "33       Ocheese Pond         NaN\n",
              "34         Okeechobee         NaN\n",
              "35             Orange         NaN\n",
              "36        Panasoffkee         NaN\n",
              "37             Parker         NaN\n",
              "38             Placid         NaN\n",
              "39             Puzzle         NaN\n",
              "40             Rodman         NaN\n",
              "41           Rousseau         NaN\n",
              "42            Sampson         NaN\n",
              "43              Shipp         NaN\n",
              "44            Talquin         NaN\n",
              "45             Tarpon         NaN\n",
              "46       Tohopekaliga         NaN\n",
              "47           Trafford         NaN\n",
              "48              Trout         NaN\n",
              "49       Tsala Apopka         NaN\n",
              "50               Weir         NaN\n",
              "51            Wildcat         NaN\n",
              "52               Yale         NaN"
            ],
            "text/html": [
              "\n",
              "  <div id=\"df-546877c2-141b-4665-b753-f1a1ba1a7ab5\">\n",
              "    <div class=\"colab-df-container\">\n",
              "      <div>\n",
              "<style scoped>\n",
              "    .dataframe tbody tr th:only-of-type {\n",
              "        vertical-align: middle;\n",
              "    }\n",
              "\n",
              "    .dataframe tbody tr th {\n",
              "        vertical-align: top;\n",
              "    }\n",
              "\n",
              "    .dataframe thead th {\n",
              "        text-align: right;\n",
              "    }\n",
              "</style>\n",
              "<table border=\"1\" class=\"dataframe\">\n",
              "  <thead>\n",
              "    <tr style=\"text-align: right;\">\n",
              "      <th></th>\n",
              "      <th>nombre</th>\n",
              "      <th>edad_peces</th>\n",
              "    </tr>\n",
              "  </thead>\n",
              "  <tbody>\n",
              "    <tr>\n",
              "      <th>0</th>\n",
              "      <td>Alligator</td>\n",
              "      <td>1.0</td>\n",
              "    </tr>\n",
              "    <tr>\n",
              "      <th>1</th>\n",
              "      <td>Annie</td>\n",
              "      <td>NaN</td>\n",
              "    </tr>\n",
              "    <tr>\n",
              "      <th>2</th>\n",
              "      <td>Apopka</td>\n",
              "      <td>NaN</td>\n",
              "    </tr>\n",
              "    <tr>\n",
              "      <th>3</th>\n",
              "      <td>Blue Cypress</td>\n",
              "      <td>NaN</td>\n",
              "    </tr>\n",
              "    <tr>\n",
              "      <th>4</th>\n",
              "      <td>Brick</td>\n",
              "      <td>NaN</td>\n",
              "    </tr>\n",
              "    <tr>\n",
              "      <th>5</th>\n",
              "      <td>Bryant</td>\n",
              "      <td>NaN</td>\n",
              "    </tr>\n",
              "    <tr>\n",
              "      <th>6</th>\n",
              "      <td>Cherry</td>\n",
              "      <td>NaN</td>\n",
              "    </tr>\n",
              "    <tr>\n",
              "      <th>7</th>\n",
              "      <td>Crescent</td>\n",
              "      <td>NaN</td>\n",
              "    </tr>\n",
              "    <tr>\n",
              "      <th>8</th>\n",
              "      <td>Deer Point</td>\n",
              "      <td>NaN</td>\n",
              "    </tr>\n",
              "    <tr>\n",
              "      <th>9</th>\n",
              "      <td>Dias</td>\n",
              "      <td>NaN</td>\n",
              "    </tr>\n",
              "    <tr>\n",
              "      <th>10</th>\n",
              "      <td>Dorr</td>\n",
              "      <td>NaN</td>\n",
              "    </tr>\n",
              "    <tr>\n",
              "      <th>11</th>\n",
              "      <td>Down</td>\n",
              "      <td>NaN</td>\n",
              "    </tr>\n",
              "    <tr>\n",
              "      <th>12</th>\n",
              "      <td>East Tohopekaliga</td>\n",
              "      <td>NaN</td>\n",
              "    </tr>\n",
              "    <tr>\n",
              "      <th>13</th>\n",
              "      <td>Eaton</td>\n",
              "      <td>NaN</td>\n",
              "    </tr>\n",
              "    <tr>\n",
              "      <th>14</th>\n",
              "      <td>Farm-13</td>\n",
              "      <td>NaN</td>\n",
              "    </tr>\n",
              "    <tr>\n",
              "      <th>15</th>\n",
              "      <td>George</td>\n",
              "      <td>NaN</td>\n",
              "    </tr>\n",
              "    <tr>\n",
              "      <th>16</th>\n",
              "      <td>Griffin</td>\n",
              "      <td>NaN</td>\n",
              "    </tr>\n",
              "    <tr>\n",
              "      <th>17</th>\n",
              "      <td>Harney</td>\n",
              "      <td>NaN</td>\n",
              "    </tr>\n",
              "    <tr>\n",
              "      <th>18</th>\n",
              "      <td>Hart</td>\n",
              "      <td>NaN</td>\n",
              "    </tr>\n",
              "    <tr>\n",
              "      <th>19</th>\n",
              "      <td>Hatchineha</td>\n",
              "      <td>NaN</td>\n",
              "    </tr>\n",
              "    <tr>\n",
              "      <th>20</th>\n",
              "      <td>Iamonia</td>\n",
              "      <td>NaN</td>\n",
              "    </tr>\n",
              "    <tr>\n",
              "      <th>21</th>\n",
              "      <td>Istokpoga</td>\n",
              "      <td>NaN</td>\n",
              "    </tr>\n",
              "    <tr>\n",
              "      <th>22</th>\n",
              "      <td>Jackson</td>\n",
              "      <td>NaN</td>\n",
              "    </tr>\n",
              "    <tr>\n",
              "      <th>23</th>\n",
              "      <td>Josephine</td>\n",
              "      <td>NaN</td>\n",
              "    </tr>\n",
              "    <tr>\n",
              "      <th>24</th>\n",
              "      <td>Kingsley</td>\n",
              "      <td>NaN</td>\n",
              "    </tr>\n",
              "    <tr>\n",
              "      <th>25</th>\n",
              "      <td>Kissimmee</td>\n",
              "      <td>NaN</td>\n",
              "    </tr>\n",
              "    <tr>\n",
              "      <th>26</th>\n",
              "      <td>Lochloosa</td>\n",
              "      <td>NaN</td>\n",
              "    </tr>\n",
              "    <tr>\n",
              "      <th>27</th>\n",
              "      <td>Louisa</td>\n",
              "      <td>NaN</td>\n",
              "    </tr>\n",
              "    <tr>\n",
              "      <th>28</th>\n",
              "      <td>Miccasukee</td>\n",
              "      <td>NaN</td>\n",
              "    </tr>\n",
              "    <tr>\n",
              "      <th>29</th>\n",
              "      <td>Minneola</td>\n",
              "      <td>NaN</td>\n",
              "    </tr>\n",
              "    <tr>\n",
              "      <th>30</th>\n",
              "      <td>Monroe</td>\n",
              "      <td>NaN</td>\n",
              "    </tr>\n",
              "    <tr>\n",
              "      <th>31</th>\n",
              "      <td>Newmans</td>\n",
              "      <td>NaN</td>\n",
              "    </tr>\n",
              "    <tr>\n",
              "      <th>32</th>\n",
              "      <td>Ocean Pond</td>\n",
              "      <td>NaN</td>\n",
              "    </tr>\n",
              "    <tr>\n",
              "      <th>33</th>\n",
              "      <td>Ocheese Pond</td>\n",
              "      <td>NaN</td>\n",
              "    </tr>\n",
              "    <tr>\n",
              "      <th>34</th>\n",
              "      <td>Okeechobee</td>\n",
              "      <td>NaN</td>\n",
              "    </tr>\n",
              "    <tr>\n",
              "      <th>35</th>\n",
              "      <td>Orange</td>\n",
              "      <td>NaN</td>\n",
              "    </tr>\n",
              "    <tr>\n",
              "      <th>36</th>\n",
              "      <td>Panasoffkee</td>\n",
              "      <td>NaN</td>\n",
              "    </tr>\n",
              "    <tr>\n",
              "      <th>37</th>\n",
              "      <td>Parker</td>\n",
              "      <td>NaN</td>\n",
              "    </tr>\n",
              "    <tr>\n",
              "      <th>38</th>\n",
              "      <td>Placid</td>\n",
              "      <td>NaN</td>\n",
              "    </tr>\n",
              "    <tr>\n",
              "      <th>39</th>\n",
              "      <td>Puzzle</td>\n",
              "      <td>NaN</td>\n",
              "    </tr>\n",
              "    <tr>\n",
              "      <th>40</th>\n",
              "      <td>Rodman</td>\n",
              "      <td>NaN</td>\n",
              "    </tr>\n",
              "    <tr>\n",
              "      <th>41</th>\n",
              "      <td>Rousseau</td>\n",
              "      <td>NaN</td>\n",
              "    </tr>\n",
              "    <tr>\n",
              "      <th>42</th>\n",
              "      <td>Sampson</td>\n",
              "      <td>NaN</td>\n",
              "    </tr>\n",
              "    <tr>\n",
              "      <th>43</th>\n",
              "      <td>Shipp</td>\n",
              "      <td>NaN</td>\n",
              "    </tr>\n",
              "    <tr>\n",
              "      <th>44</th>\n",
              "      <td>Talquin</td>\n",
              "      <td>NaN</td>\n",
              "    </tr>\n",
              "    <tr>\n",
              "      <th>45</th>\n",
              "      <td>Tarpon</td>\n",
              "      <td>NaN</td>\n",
              "    </tr>\n",
              "    <tr>\n",
              "      <th>46</th>\n",
              "      <td>Tohopekaliga</td>\n",
              "      <td>NaN</td>\n",
              "    </tr>\n",
              "    <tr>\n",
              "      <th>47</th>\n",
              "      <td>Trafford</td>\n",
              "      <td>NaN</td>\n",
              "    </tr>\n",
              "    <tr>\n",
              "      <th>48</th>\n",
              "      <td>Trout</td>\n",
              "      <td>NaN</td>\n",
              "    </tr>\n",
              "    <tr>\n",
              "      <th>49</th>\n",
              "      <td>Tsala Apopka</td>\n",
              "      <td>NaN</td>\n",
              "    </tr>\n",
              "    <tr>\n",
              "      <th>50</th>\n",
              "      <td>Weir</td>\n",
              "      <td>NaN</td>\n",
              "    </tr>\n",
              "    <tr>\n",
              "      <th>51</th>\n",
              "      <td>Wildcat</td>\n",
              "      <td>NaN</td>\n",
              "    </tr>\n",
              "    <tr>\n",
              "      <th>52</th>\n",
              "      <td>Yale</td>\n",
              "      <td>NaN</td>\n",
              "    </tr>\n",
              "  </tbody>\n",
              "</table>\n",
              "</div>\n",
              "      <button class=\"colab-df-convert\" onclick=\"convertToInteractive('df-546877c2-141b-4665-b753-f1a1ba1a7ab5')\"\n",
              "              title=\"Convert this dataframe to an interactive table.\"\n",
              "              style=\"display:none;\">\n",
              "        \n",
              "  <svg xmlns=\"http://www.w3.org/2000/svg\" height=\"24px\"viewBox=\"0 0 24 24\"\n",
              "       width=\"24px\">\n",
              "    <path d=\"M0 0h24v24H0V0z\" fill=\"none\"/>\n",
              "    <path d=\"M18.56 5.44l.94 2.06.94-2.06 2.06-.94-2.06-.94-.94-2.06-.94 2.06-2.06.94zm-11 1L8.5 8.5l.94-2.06 2.06-.94-2.06-.94L8.5 2.5l-.94 2.06-2.06.94zm10 10l.94 2.06.94-2.06 2.06-.94-2.06-.94-.94-2.06-.94 2.06-2.06.94z\"/><path d=\"M17.41 7.96l-1.37-1.37c-.4-.4-.92-.59-1.43-.59-.52 0-1.04.2-1.43.59L10.3 9.45l-7.72 7.72c-.78.78-.78 2.05 0 2.83L4 21.41c.39.39.9.59 1.41.59.51 0 1.02-.2 1.41-.59l7.78-7.78 2.81-2.81c.8-.78.8-2.07 0-2.86zM5.41 20L4 18.59l7.72-7.72 1.47 1.35L5.41 20z\"/>\n",
              "  </svg>\n",
              "      </button>\n",
              "      \n",
              "  <style>\n",
              "    .colab-df-container {\n",
              "      display:flex;\n",
              "      flex-wrap:wrap;\n",
              "      gap: 12px;\n",
              "    }\n",
              "\n",
              "    .colab-df-convert {\n",
              "      background-color: #E8F0FE;\n",
              "      border: none;\n",
              "      border-radius: 50%;\n",
              "      cursor: pointer;\n",
              "      display: none;\n",
              "      fill: #1967D2;\n",
              "      height: 32px;\n",
              "      padding: 0 0 0 0;\n",
              "      width: 32px;\n",
              "    }\n",
              "\n",
              "    .colab-df-convert:hover {\n",
              "      background-color: #E2EBFA;\n",
              "      box-shadow: 0px 1px 2px rgba(60, 64, 67, 0.3), 0px 1px 3px 1px rgba(60, 64, 67, 0.15);\n",
              "      fill: #174EA6;\n",
              "    }\n",
              "\n",
              "    [theme=dark] .colab-df-convert {\n",
              "      background-color: #3B4455;\n",
              "      fill: #D2E3FC;\n",
              "    }\n",
              "\n",
              "    [theme=dark] .colab-df-convert:hover {\n",
              "      background-color: #434B5C;\n",
              "      box-shadow: 0px 1px 3px 1px rgba(0, 0, 0, 0.15);\n",
              "      filter: drop-shadow(0px 1px 2px rgba(0, 0, 0, 0.3));\n",
              "      fill: #FFFFFF;\n",
              "    }\n",
              "  </style>\n",
              "\n",
              "      <script>\n",
              "        const buttonEl =\n",
              "          document.querySelector('#df-546877c2-141b-4665-b753-f1a1ba1a7ab5 button.colab-df-convert');\n",
              "        buttonEl.style.display =\n",
              "          google.colab.kernel.accessAllowed ? 'block' : 'none';\n",
              "\n",
              "        async function convertToInteractive(key) {\n",
              "          const element = document.querySelector('#df-546877c2-141b-4665-b753-f1a1ba1a7ab5');\n",
              "          const dataTable =\n",
              "            await google.colab.kernel.invokeFunction('convertToInteractive',\n",
              "                                                     [key], {});\n",
              "          if (!dataTable) return;\n",
              "\n",
              "          const docLinkHtml = 'Like what you see? Visit the ' +\n",
              "            '<a target=\"_blank\" href=https://colab.research.google.com/notebooks/data_table.ipynb>data table notebook</a>'\n",
              "            + ' to learn more about interactive tables.';\n",
              "          element.innerHTML = '';\n",
              "          dataTable['output_type'] = 'display_data';\n",
              "          await google.colab.output.renderOutput(dataTable, element);\n",
              "          const docLink = document.createElement('div');\n",
              "          docLink.innerHTML = docLinkHtml;\n",
              "          element.appendChild(docLink);\n",
              "        }\n",
              "      </script>\n",
              "    </div>\n",
              "  </div>\n",
              "  "
            ]
          },
          "metadata": {},
          "execution_count": 99
        }
      ]
    },
    {
      "cell_type": "markdown",
      "source": [
        "\n",
        "Observaciones\n",
        "\n",
        "- El valor estimado por la regresión aparenta estar bastante cerca del valor real\n",
        "- La mayoría de los peces son maduros"
      ],
      "metadata": {
        "id": "AfixfDxen7S5"
      }
    },
    {
      "cell_type": "markdown",
      "source": [
        "## 2. Explora los datos usando herramientas de visualización\n"
      ],
      "metadata": {
        "id": "S4LDysyk50HJ"
      }
    },
    {
      "cell_type": "markdown",
      "source": [
        "### Variables cuantitativas:\n",
        "- Medidas de posición: cuartiles, outlier (valores atípicos), boxplots\n",
        "\n",
        "- Análisis de distribución de los datos (Histogramas). Identificar si tiene forma simétrica o asimétrica.\n",
        "\n"
      ],
      "metadata": {
        "id": "lot6oR6x6HZj"
      }
    },
    {
      "cell_type": "code",
      "source": [
        "cuantitativas"
      ],
      "metadata": {
        "id": "kQRNpExqr5GZ",
        "colab": {
          "base_uri": "https://localhost:8080/"
        },
        "outputId": "b73e05a7-e3b3-4eb4-d95f-30857447261b"
      },
      "execution_count": 100,
      "outputs": [
        {
          "output_type": "execute_result",
          "data": {
            "text/plain": [
              "['alcalinidad',\n",
              " 'ph',\n",
              " 'calcio',\n",
              " 'clorofila',\n",
              " 'media_merc_porc',\n",
              " 'num_peces',\n",
              " 'min_merc_porc',\n",
              " 'max_merc_porc',\n",
              " 'merc_estimado_porc']"
            ]
          },
          "metadata": {},
          "execution_count": 100
        }
      ]
    },
    {
      "cell_type": "code",
      "source": [
        "fig, axes = plt.subplots(3,3, figsize=(10, 10))\n",
        "for i,el in enumerate(cuantitativas):\n",
        "    a = df.boxplot(el, ax=axes.flatten()[i])\n",
        "\n",
        "\n",
        "#fig = plt.figure(figsize=(15,5),facecolor='w') \n",
        "# fig.delaxes(axes[2,2]) # remove empty subplot\n",
        "plt.tight_layout() \n",
        "\n",
        "plt.show()"
      ],
      "metadata": {
        "id": "MW38ynMbtFTl",
        "colab": {
          "base_uri": "https://localhost:8080/",
          "height": 645
        },
        "outputId": "f462febe-df8d-4066-8a37-ad0b43cdb1da"
      },
      "execution_count": 101,
      "outputs": [
        {
          "output_type": "display_data",
          "data": {
            "text/plain": [
              "<Figure size 720x720 with 9 Axes>"
            ],
            "image/png": "[encoded data removed]"
          },
          "metadata": {
            "needs_background": "light"
          }
        }
      ]
    },
    {
      "cell_type": "code",
      "source": [
        "outliers = []\n",
        "for i,el in enumerate(cuantitativas):\n",
        "  std_value= df[el].std()\n",
        "  outliers.append(df.loc[np.abs( (df[el] - df[el].mean()) / df[el].std())  > 3, [el]])\n",
        "  display(outliers[i])\n",
        "  print(\"Cantidad de outliers:\")\n",
        "  display(outliers[i].count())"
      ],
      "metadata": {
        "id": "mTTnY2RbLm_j",
        "colab": {
          "base_uri": "https://localhost:8080/",
          "height": 1000
        },
        "outputId": "c46b7a0b-a536-4d41-d9ee-5603bc3e6f35"
      },
      "execution_count": 102,
      "outputs": [
        {
          "output_type": "display_data",
          "data": {
            "text/plain": [
              "Empty DataFrame\n",
              "Columns: [alcalinidad]\n",
              "Index: []"
            ],
            "text/html": [
              "\n",
              "  <div id=\"df-42cc946a-e9e6-490f-82da-be232b802778\">\n",
              "    <div class=\"colab-df-container\">\n",
              "      <div>\n",
              "<style scoped>\n",
              "    .dataframe tbody tr th:only-of-type {\n",
              "        vertical-align: middle;\n",
              "    }\n",
              "\n",
              "    .dataframe tbody tr th {\n",
              "        vertical-align: top;\n",
              "    }\n",
              "\n",
              "    .dataframe thead th {\n",
              "        text-align: right;\n",
              "    }\n",
              "</style>\n",
              "<table border=\"1\" class=\"dataframe\">\n",
              "  <thead>\n",
              "    <tr style=\"text-align: right;\">\n",
              "      <th></th>\n",
              "      <th>alcalinidad</th>\n",
              "    </tr>\n",
              "    <tr>\n",
              "      <th>X1</th>\n",
              "      <th></th>\n",
              "    </tr>\n",
              "  </thead>\n",
              "  <tbody>\n",
              "  </tbody>\n",
              "</table>\n",
              "</div>\n",
              "      <button class=\"colab-df-convert\" onclick=\"convertToInteractive('df-42cc946a-e9e6-490f-82da-be232b802778')\"\n",
              "              title=\"Convert this dataframe to an interactive table.\"\n",
              "              style=\"display:none;\">\n",
              "        \n",
              "  <svg xmlns=\"http://www.w3.org/2000/svg\" height=\"24px\"viewBox=\"0 0 24 24\"\n",
              "       width=\"24px\">\n",
              "    <path d=\"M0 0h24v24H0V0z\" fill=\"none\"/>\n",
              "    <path d=\"M18.56 5.44l.94 2.06.94-2.06 2.06-.94-2.06-.94-.94-2.06-.94 2.06-2.06.94zm-11 1L8.5 8.5l.94-2.06 2.06-.94-2.06-.94L8.5 2.5l-.94 2.06-2.06.94zm10 10l.94 2.06.94-2.06 2.06-.94-2.06-.94-.94-2.06-.94 2.06-2.06.94z\"/><path d=\"M17.41 7.96l-1.37-1.37c-.4-.4-.92-.59-1.43-.59-.52 0-1.04.2-1.43.59L10.3 9.45l-7.72 7.72c-.78.78-.78 2.05 0 2.83L4 21.41c.39.39.9.59 1.41.59.51 0 1.02-.2 1.41-.59l7.78-7.78 2.81-2.81c.8-.78.8-2.07 0-2.86zM5.41 20L4 18.59l7.72-7.72 1.47 1.35L5.41 20z\"/>\n",
              "  </svg>\n",
              "      </button>\n",
              "      \n",
              "  <style>\n",
              "    .colab-df-container {\n",
              "      display:flex;\n",
              "      flex-wrap:wrap;\n",
              "      gap: 12px;\n",
              "    }\n",
              "\n",
              "    .colab-df-convert {\n",
              "      background-color: #E8F0FE;\n",
              "      border: none;\n",
              "      border-radius: 50%;\n",
              "      cursor: pointer;\n",
              "      display: none;\n",
              "      fill: #1967D2;\n",
              "      height: 32px;\n",
              "      padding: 0 0 0 0;\n",
              "      width: 32px;\n",
              "    }\n",
              "\n",
              "    .colab-df-convert:hover {\n",
              "      background-color: #E2EBFA;\n",
              "      box-shadow: 0px 1px 2px rgba(60, 64, 67, 0.3), 0px 1px 3px 1px rgba(60, 64, 67, 0.15);\n",
              "      fill: #174EA6;\n",
              "    }\n",
              "\n",
              "    [theme=dark] .colab-df-convert {\n",
              "      background-color: #3B4455;\n",
              "      fill: #D2E3FC;\n",
              "    }\n",
              "\n",
              "    [theme=dark] .colab-df-convert:hover {\n",
              "      background-color: #434B5C;\n",
              "      box-shadow: 0px 1px 3px 1px rgba(0, 0, 0, 0.15);\n",
              "      filter: drop-shadow(0px 1px 2px rgba(0, 0, 0, 0.3));\n",
              "      fill: #FFFFFF;\n",
              "    }\n",
              "  </style>\n",
              "\n",
              "      <script>\n",
              "        const buttonEl =\n",
              "          document.querySelector('#df-42cc946a-e9e6-490f-82da-be232b802778 button.colab-df-convert');\n",
              "        buttonEl.style.display =\n",
              "          google.colab.kernel.accessAllowed ? 'block' : 'none';\n",
              "\n",
              "        async function convertToInteractive(key) {\n",
              "          const element = document.querySelector('#df-42cc946a-e9e6-490f-82da-be232b802778');\n",
              "          const dataTable =\n",
              "            await google.colab.kernel.invokeFunction('convertToInteractive',\n",
              "                                                     [key], {});\n",
              "          if (!dataTable) return;\n",
              "\n",
              "          const docLinkHtml = 'Like what you see? Visit the ' +\n",
              "            '<a target=\"_blank\" href=https://colab.research.google.com/notebooks/data_table.ipynb>data table notebook</a>'\n",
              "            + ' to learn more about interactive tables.';\n",
              "          element.innerHTML = '';\n",
              "          dataTable['output_type'] = 'display_data';\n",
              "          await google.colab.output.renderOutput(dataTable, element);\n",
              "          const docLink = document.createElement('div');\n",
              "          docLink.innerHTML = docLinkHtml;\n",
              "          element.appendChild(docLink);\n",
              "        }\n",
              "      </script>\n",
              "    </div>\n",
              "  </div>\n",
              "  "
            ]
          },
          "metadata": {}
        },
        {
          "output_type": "stream",
          "name": "stdout",
          "text": [
            "Cantidad de outliers:\n"
          ]
        },
        {
          "output_type": "display_data",
          "data": {
            "text/plain": [
              "alcalinidad    0\n",
              "dtype: int64"
            ]
          },
          "metadata": {}
        },
        {
          "output_type": "display_data",
          "data": {
            "text/plain": [
              "Empty DataFrame\n",
              "Columns: [ph]\n",
              "Index: []"
            ],
            "text/html": [
              "\n",
              "  <div id=\"df-cc53a96d-88bb-43dc-b228-0545b1a27823\">\n",
              "    <div class=\"colab-df-container\">\n",
              "      <div>\n",
              "<style scoped>\n",
              "    .dataframe tbody tr th:only-of-type {\n",
              "        vertical-align: middle;\n",
              "    }\n",
              "\n",
              "    .dataframe tbody tr th {\n",
              "        vertical-align: top;\n",
              "    }\n",
              "\n",
              "    .dataframe thead th {\n",
              "        text-align: right;\n",
              "    }\n",
              "</style>\n",
              "<table border=\"1\" class=\"dataframe\">\n",
              "  <thead>\n",
              "    <tr style=\"text-align: right;\">\n",
              "      <th></th>\n",
              "      <th>ph</th>\n",
              "    </tr>\n",
              "    <tr>\n",
              "      <th>X1</th>\n",
              "      <th></th>\n",
              "    </tr>\n",
              "  </thead>\n",
              "  <tbody>\n",
              "  </tbody>\n",
              "</table>\n",
              "</div>\n",
              "      <button class=\"colab-df-convert\" onclick=\"convertToInteractive('df-cc53a96d-88bb-43dc-b228-0545b1a27823')\"\n",
              "              title=\"Convert this dataframe to an interactive table.\"\n",
              "              style=\"display:none;\">\n",
              "        \n",
              "  <svg xmlns=\"http://www.w3.org/2000/svg\" height=\"24px\"viewBox=\"0 0 24 24\"\n",
              "       width=\"24px\">\n",
              "    <path d=\"M0 0h24v24H0V0z\" fill=\"none\"/>\n",
              "    <path d=\"M18.56 5.44l.94 2.06.94-2.06 2.06-.94-2.06-.94-.94-2.06-.94 2.06-2.06.94zm-11 1L8.5 8.5l.94-2.06 2.06-.94-2.06-.94L8.5 2.5l-.94 2.06-2.06.94zm10 10l.94 2.06.94-2.06 2.06-.94-2.06-.94-.94-2.06-.94 2.06-2.06.94z\"/><path d=\"M17.41 7.96l-1.37-1.37c-.4-.4-.92-.59-1.43-.59-.52 0-1.04.2-1.43.59L10.3 9.45l-7.72 7.72c-.78.78-.78 2.05 0 2.83L4 21.41c.39.39.9.59 1.41.59.51 0 1.02-.2 1.41-.59l7.78-7.78 2.81-2.81c.8-.78.8-2.07 0-2.86zM5.41 20L4 18.59l7.72-7.72 1.47 1.35L5.41 20z\"/>\n",
              "  </svg>\n",
              "      </button>\n",
              "      \n",
              "  <style>\n",
              "    .colab-df-container {\n",
              "      display:flex;\n",
              "      flex-wrap:wrap;\n",
              "      gap: 12px;\n",
              "    }\n",
              "\n",
              "    .colab-df-convert {\n",
              "      background-color: #E8F0FE;\n",
              "      border: none;\n",
              "      border-radius: 50%;\n",
              "      cursor: pointer;\n",
              "      display: none;\n",
              "      fill: #1967D2;\n",
              "      height: 32px;\n",
              "      padding: 0 0 0 0;\n",
              "      width: 32px;\n",
              "    }\n",
              "\n",
              "    .colab-df-convert:hover {\n",
              "      background-color: #E2EBFA;\n",
              "      box-shadow: 0px 1px 2px rgba(60, 64, 67, 0.3), 0px 1px 3px 1px rgba(60, 64, 67, 0.15);\n",
              "      fill: #174EA6;\n",
              "    }\n",
              "\n",
              "    [theme=dark] .colab-df-convert {\n",
              "      background-color: #3B4455;\n",
              "      fill: #D2E3FC;\n",
              "    }\n",
              "\n",
              "    [theme=dark] .colab-df-convert:hover {\n",
              "      background-color: #434B5C;\n",
              "      box-shadow: 0px 1px 3px 1px rgba(0, 0, 0, 0.15);\n",
              "      filter: drop-shadow(0px 1px 2px rgba(0, 0, 0, 0.3));\n",
              "      fill: #FFFFFF;\n",
              "    }\n",
              "  </style>\n",
              "\n",
              "      <script>\n",
              "        const buttonEl =\n",
              "          document.querySelector('#df-cc53a96d-88bb-43dc-b228-0545b1a27823 button.colab-df-convert');\n",
              "        buttonEl.style.display =\n",
              "          google.colab.kernel.accessAllowed ? 'block' : 'none';\n",
              "\n",
              "        async function convertToInteractive(key) {\n",
              "          const element = document.querySelector('#df-cc53a96d-88bb-43dc-b228-0545b1a27823');\n",
              "          const dataTable =\n",
              "            await google.colab.kernel.invokeFunction('convertToInteractive',\n",
              "                                                     [key], {});\n",
              "          if (!dataTable) return;\n",
              "\n",
              "          const docLinkHtml = 'Like what you see? Visit the ' +\n",
              "            '<a target=\"_blank\" href=https://colab.research.google.com/notebooks/data_table.ipynb>data table notebook</a>'\n",
              "            + ' to learn more about interactive tables.';\n",
              "          element.innerHTML = '';\n",
              "          dataTable['output_type'] = 'display_data';\n",
              "          await google.colab.output.renderOutput(dataTable, element);\n",
              "          const docLink = document.createElement('div');\n",
              "          docLink.innerHTML = docLinkHtml;\n",
              "          element.appendChild(docLink);\n",
              "        }\n",
              "      </script>\n",
              "    </div>\n",
              "  </div>\n",
              "  "
            ]
          },
          "metadata": {}
        },
        {
          "output_type": "stream",
          "name": "stdout",
          "text": [
            "Cantidad de outliers:\n"
          ]
        },
        {
          "output_type": "display_data",
          "data": {
            "text/plain": [
              "ph    0\n",
              "dtype: int64"
            ]
          },
          "metadata": {}
        },
        {
          "output_type": "display_data",
          "data": {
            "text/plain": [
              "Empty DataFrame\n",
              "Columns: [calcio]\n",
              "Index: []"
            ],
            "text/html": [
              "\n",
              "  <div id=\"df-7adf7754-ae7d-4d7b-9a0b-8e6eb843ff5f\">\n",
              "    <div class=\"colab-df-container\">\n",
              "      <div>\n",
              "<style scoped>\n",
              "    .dataframe tbody tr th:only-of-type {\n",
              "        vertical-align: middle;\n",
              "    }\n",
              "\n",
              "    .dataframe tbody tr th {\n",
              "        vertical-align: top;\n",
              "    }\n",
              "\n",
              "    .dataframe thead th {\n",
              "        text-align: right;\n",
              "    }\n",
              "</style>\n",
              "<table border=\"1\" class=\"dataframe\">\n",
              "  <thead>\n",
              "    <tr style=\"text-align: right;\">\n",
              "      <th></th>\n",
              "      <th>calcio</th>\n",
              "    </tr>\n",
              "    <tr>\n",
              "      <th>X1</th>\n",
              "      <th></th>\n",
              "    </tr>\n",
              "  </thead>\n",
              "  <tbody>\n",
              "  </tbody>\n",
              "</table>\n",
              "</div>\n",
              "      <button class=\"colab-df-convert\" onclick=\"convertToInteractive('df-7adf7754-ae7d-4d7b-9a0b-8e6eb843ff5f')\"\n",
              "              title=\"Convert this dataframe to an interactive table.\"\n",
              "              style=\"display:none;\">\n",
              "        \n",
              "  <svg xmlns=\"http://www.w3.org/2000/svg\" height=\"24px\"viewBox=\"0 0 24 24\"\n",
              "       width=\"24px\">\n",
              "    <path d=\"M0 0h24v24H0V0z\" fill=\"none\"/>\n",
              "    <path d=\"M18.56 5.44l.94 2.06.94-2.06 2.06-.94-2.06-.94-.94-2.06-.94 2.06-2.06.94zm-11 1L8.5 8.5l.94-2.06 2.06-.94-2.06-.94L8.5 2.5l-.94 2.06-2.06.94zm10 10l.94 2.06.94-2.06 2.06-.94-2.06-.94-.94-2.06-.94 2.06-2.06.94z\"/><path d=\"M17.41 7.96l-1.37-1.37c-.4-.4-.92-.59-1.43-.59-.52 0-1.04.2-1.43.59L10.3 9.45l-7.72 7.72c-.78.78-.78 2.05 0 2.83L4 21.41c.39.39.9.59 1.41.59.51 0 1.02-.2 1.41-.59l7.78-7.78 2.81-2.81c.8-.78.8-2.07 0-2.86zM5.41 20L4 18.59l7.72-7.72 1.47 1.35L5.41 20z\"/>\n",
              "  </svg>\n",
              "      </button>\n",
              "      \n",
              "  <style>\n",
              "    .colab-df-container {\n",
              "      display:flex;\n",
              "      flex-wrap:wrap;\n",
              "      gap: 12px;\n",
              "    }\n",
              "\n",
              "    .colab-df-convert {\n",
              "      background-color: #E8F0FE;\n",
              "      border: none;\n",
              "      border-radius: 50%;\n",
              "      cursor: pointer;\n",
              "      display: none;\n",
              "      fill: #1967D2;\n",
              "      height: 32px;\n",
              "      padding: 0 0 0 0;\n",
              "      width: 32px;\n",
              "    }\n",
              "\n",
              "    .colab-df-convert:hover {\n",
              "      background-color: #E2EBFA;\n",
              "      box-shadow: 0px 1px 2px rgba(60, 64, 67, 0.3), 0px 1px 3px 1px rgba(60, 64, 67, 0.15);\n",
              "      fill: #174EA6;\n",
              "    }\n",
              "\n",
              "    [theme=dark] .colab-df-convert {\n",
              "      background-color: #3B4455;\n",
              "      fill: #D2E3FC;\n",
              "    }\n",
              "\n",
              "    [theme=dark] .colab-df-convert:hover {\n",
              "      background-color: #434B5C;\n",
              "      box-shadow: 0px 1px 3px 1px rgba(0, 0, 0, 0.15);\n",
              "      filter: drop-shadow(0px 1px 2px rgba(0, 0, 0, 0.3));\n",
              "      fill: #FFFFFF;\n",
              "    }\n",
              "  </style>\n",
              "\n",
              "      <script>\n",
              "        const buttonEl =\n",
              "          document.querySelector('#df-7adf7754-ae7d-4d7b-9a0b-8e6eb843ff5f button.colab-df-convert');\n",
              "        buttonEl.style.display =\n",
              "          google.colab.kernel.accessAllowed ? 'block' : 'none';\n",
              "\n",
              "        async function convertToInteractive(key) {\n",
              "          const element = document.querySelector('#df-7adf7754-ae7d-4d7b-9a0b-8e6eb843ff5f');\n",
              "          const dataTable =\n",
              "            await google.colab.kernel.invokeFunction('convertToInteractive',\n",
              "                                                     [key], {});\n",
              "          if (!dataTable) return;\n",
              "\n",
              "          const docLinkHtml = 'Like what you see? Visit the ' +\n",
              "            '<a target=\"_blank\" href=https://colab.research.google.com/notebooks/data_table.ipynb>data table notebook</a>'\n",
              "            + ' to learn more about interactive tables.';\n",
              "          element.innerHTML = '';\n",
              "          dataTable['output_type'] = 'display_data';\n",
              "          await google.colab.output.renderOutput(dataTable, element);\n",
              "          const docLink = document.createElement('div');\n",
              "          docLink.innerHTML = docLinkHtml;\n",
              "          element.appendChild(docLink);\n",
              "        }\n",
              "      </script>\n",
              "    </div>\n",
              "  </div>\n",
              "  "
            ]
          },
          "metadata": {}
        },
        {
          "output_type": "stream",
          "name": "stdout",
          "text": [
            "Cantidad de outliers:\n"
          ]
        },
        {
          "output_type": "display_data",
          "data": {
            "text/plain": [
              "calcio    0\n",
              "dtype: int64"
            ]
          },
          "metadata": {}
        },
        {
          "output_type": "display_data",
          "data": {
            "text/plain": [
              "    clorofila\n",
              "X1           \n",
              "3       128.3\n",
              "38      152.4"
            ],
            "text/html": [
              "\n",
              "  <div id=\"df-2e967e7a-a6c7-4e41-8a04-952441b4ab01\">\n",
              "    <div class=\"colab-df-container\">\n",
              "      <div>\n",
              "<style scoped>\n",
              "    .dataframe tbody tr th:only-of-type {\n",
              "        vertical-align: middle;\n",
              "    }\n",
              "\n",
              "    .dataframe tbody tr th {\n",
              "        vertical-align: top;\n",
              "    }\n",
              "\n",
              "    .dataframe thead th {\n",
              "        text-align: right;\n",
              "    }\n",
              "</style>\n",
              "<table border=\"1\" class=\"dataframe\">\n",
              "  <thead>\n",
              "    <tr style=\"text-align: right;\">\n",
              "      <th></th>\n",
              "      <th>clorofila</th>\n",
              "    </tr>\n",
              "    <tr>\n",
              "      <th>X1</th>\n",
              "      <th></th>\n",
              "    </tr>\n",
              "  </thead>\n",
              "  <tbody>\n",
              "    <tr>\n",
              "      <th>3</th>\n",
              "      <td>128.3</td>\n",
              "    </tr>\n",
              "    <tr>\n",
              "      <th>38</th>\n",
              "      <td>152.4</td>\n",
              "    </tr>\n",
              "  </tbody>\n",
              "</table>\n",
              "</div>\n",
              "      <button class=\"colab-df-convert\" onclick=\"convertToInteractive('df-2e967e7a-a6c7-4e41-8a04-952441b4ab01')\"\n",
              "              title=\"Convert this dataframe to an interactive table.\"\n",
              "              style=\"display:none;\">\n",
              "        \n",
              "  <svg xmlns=\"http://www.w3.org/2000/svg\" height=\"24px\"viewBox=\"0 0 24 24\"\n",
              "       width=\"24px\">\n",
              "    <path d=\"M0 0h24v24H0V0z\" fill=\"none\"/>\n",
              "    <path d=\"M18.56 5.44l.94 2.06.94-2.06 2.06-.94-2.06-.94-.94-2.06-.94 2.06-2.06.94zm-11 1L8.5 8.5l.94-2.06 2.06-.94-2.06-.94L8.5 2.5l-.94 2.06-2.06.94zm10 10l.94 2.06.94-2.06 2.06-.94-2.06-.94-.94-2.06-.94 2.06-2.06.94z\"/><path d=\"M17.41 7.96l-1.37-1.37c-.4-.4-.92-.59-1.43-.59-.52 0-1.04.2-1.43.59L10.3 9.45l-7.72 7.72c-.78.78-.78 2.05 0 2.83L4 21.41c.39.39.9.59 1.41.59.51 0 1.02-.2 1.41-.59l7.78-7.78 2.81-2.81c.8-.78.8-2.07 0-2.86zM5.41 20L4 18.59l7.72-7.72 1.47 1.35L5.41 20z\"/>\n",
              "  </svg>\n",
              "      </button>\n",
              "      \n",
              "  <style>\n",
              "    .colab-df-container {\n",
              "      display:flex;\n",
              "      flex-wrap:wrap;\n",
              "      gap: 12px;\n",
              "    }\n",
              "\n",
              "    .colab-df-convert {\n",
              "      background-color: #E8F0FE;\n",
              "      border: none;\n",
              "      border-radius: 50%;\n",
              "      cursor: pointer;\n",
              "      display: none;\n",
              "      fill: #1967D2;\n",
              "      height: 32px;\n",
              "      padding: 0 0 0 0;\n",
              "      width: 32px;\n",
              "    }\n",
              "\n",
              "    .colab-df-convert:hover {\n",
              "      background-color: #E2EBFA;\n",
              "      box-shadow: 0px 1px 2px rgba(60, 64, 67, 0.3), 0px 1px 3px 1px rgba(60, 64, 67, 0.15);\n",
              "      fill: #174EA6;\n",
              "    }\n",
              "\n",
              "    [theme=dark] .colab-df-convert {\n",
              "      background-color: #3B4455;\n",
              "      fill: #D2E3FC;\n",
              "    }\n",
              "\n",
              "    [theme=dark] .colab-df-convert:hover {\n",
              "      background-color: #434B5C;\n",
              "      box-shadow: 0px 1px 3px 1px rgba(0, 0, 0, 0.15);\n",
              "      filter: drop-shadow(0px 1px 2px rgba(0, 0, 0, 0.3));\n",
              "      fill: #FFFFFF;\n",
              "    }\n",
              "  </style>\n",
              "\n",
              "      <script>\n",
              "        const buttonEl =\n",
              "          document.querySelector('#df-2e967e7a-a6c7-4e41-8a04-952441b4ab01 button.colab-df-convert');\n",
              "        buttonEl.style.display =\n",
              "          google.colab.kernel.accessAllowed ? 'block' : 'none';\n",
              "\n",
              "        async function convertToInteractive(key) {\n",
              "          const element = document.querySelector('#df-2e967e7a-a6c7-4e41-8a04-952441b4ab01');\n",
              "          const dataTable =\n",
              "            await google.colab.kernel.invokeFunction('convertToInteractive',\n",
              "                                                     [key], {});\n",
              "          if (!dataTable) return;\n",
              "\n",
              "          const docLinkHtml = 'Like what you see? Visit the ' +\n",
              "            '<a target=\"_blank\" href=https://colab.research.google.com/notebooks/data_table.ipynb>data table notebook</a>'\n",
              "            + ' to learn more about interactive tables.';\n",
              "          element.innerHTML = '';\n",
              "          dataTable['output_type'] = 'display_data';\n",
              "          await google.colab.output.renderOutput(dataTable, element);\n",
              "          const docLink = document.createElement('div');\n",
              "          docLink.innerHTML = docLinkHtml;\n",
              "          element.appendChild(docLink);\n",
              "        }\n",
              "      </script>\n",
              "    </div>\n",
              "  </div>\n",
              "  "
            ]
          },
          "metadata": {}
        },
        {
          "output_type": "stream",
          "name": "stdout",
          "text": [
            "Cantidad de outliers:\n"
          ]
        },
        {
          "output_type": "display_data",
          "data": {
            "text/plain": [
              "clorofila    2\n",
              "dtype: int64"
            ]
          },
          "metadata": {}
        },
        {
          "output_type": "display_data",
          "data": {
            "text/plain": [
              "Empty DataFrame\n",
              "Columns: [media_merc_porc]\n",
              "Index: []"
            ],
            "text/html": [
              "\n",
              "  <div id=\"df-1cebed74-1aaa-4416-b942-de1ada9cb38b\">\n",
              "    <div class=\"colab-df-container\">\n",
              "      <div>\n",
              "<style scoped>\n",
              "    .dataframe tbody tr th:only-of-type {\n",
              "        vertical-align: middle;\n",
              "    }\n",
              "\n",
              "    .dataframe tbody tr th {\n",
              "        vertical-align: top;\n",
              "    }\n",
              "\n",
              "    .dataframe thead th {\n",
              "        text-align: right;\n",
              "    }\n",
              "</style>\n",
              "<table border=\"1\" class=\"dataframe\">\n",
              "  <thead>\n",
              "    <tr style=\"text-align: right;\">\n",
              "      <th></th>\n",
              "      <th>media_merc_porc</th>\n",
              "    </tr>\n",
              "    <tr>\n",
              "      <th>X1</th>\n",
              "      <th></th>\n",
              "    </tr>\n",
              "  </thead>\n",
              "  <tbody>\n",
              "  </tbody>\n",
              "</table>\n",
              "</div>\n",
              "      <button class=\"colab-df-convert\" onclick=\"convertToInteractive('df-1cebed74-1aaa-4416-b942-de1ada9cb38b')\"\n",
              "              title=\"Convert this dataframe to an interactive table.\"\n",
              "              style=\"display:none;\">\n",
              "        \n",
              "  <svg xmlns=\"http://www.w3.org/2000/svg\" height=\"24px\"viewBox=\"0 0 24 24\"\n",
              "       width=\"24px\">\n",
              "    <path d=\"M0 0h24v24H0V0z\" fill=\"none\"/>\n",
              "    <path d=\"M18.56 5.44l.94 2.06.94-2.06 2.06-.94-2.06-.94-.94-2.06-.94 2.06-2.06.94zm-11 1L8.5 8.5l.94-2.06 2.06-.94-2.06-.94L8.5 2.5l-.94 2.06-2.06.94zm10 10l.94 2.06.94-2.06 2.06-.94-2.06-.94-.94-2.06-.94 2.06-2.06.94z\"/><path d=\"M17.41 7.96l-1.37-1.37c-.4-.4-.92-.59-1.43-.59-.52 0-1.04.2-1.43.59L10.3 9.45l-7.72 7.72c-.78.78-.78 2.05 0 2.83L4 21.41c.39.39.9.59 1.41.59.51 0 1.02-.2 1.41-.59l7.78-7.78 2.81-2.81c.8-.78.8-2.07 0-2.86zM5.41 20L4 18.59l7.72-7.72 1.47 1.35L5.41 20z\"/>\n",
              "  </svg>\n",
              "      </button>\n",
              "      \n",
              "  <style>\n",
              "    .colab-df-container {\n",
              "      display:flex;\n",
              "      flex-wrap:wrap;\n",
              "      gap: 12px;\n",
              "    }\n",
              "\n",
              "    .colab-df-convert {\n",
              "      background-color: #E8F0FE;\n",
              "      border: none;\n",
              "      border-radius: 50%;\n",
              "      cursor: pointer;\n",
              "      display: none;\n",
              "      fill: #1967D2;\n",
              "      height: 32px;\n",
              "      padding: 0 0 0 0;\n",
              "      width: 32px;\n",
              "    }\n",
              "\n",
              "    .colab-df-convert:hover {\n",
              "      background-color: #E2EBFA;\n",
              "      box-shadow: 0px 1px 2px rgba(60, 64, 67, 0.3), 0px 1px 3px 1px rgba(60, 64, 67, 0.15);\n",
              "      fill: #174EA6;\n",
              "    }\n",
              "\n",
              "    [theme=dark] .colab-df-convert {\n",
              "      background-color: #3B4455;\n",
              "      fill: #D2E3FC;\n",
              "    }\n",
              "\n",
              "    [theme=dark] .colab-df-convert:hover {\n",
              "      background-color: #434B5C;\n",
              "      box-shadow: 0px 1px 3px 1px rgba(0, 0, 0, 0.15);\n",
              "      filter: drop-shadow(0px 1px 2px rgba(0, 0, 0, 0.3));\n",
              "      fill: #FFFFFF;\n",
              "    }\n",
              "  </style>\n",
              "\n",
              "      <script>\n",
              "        const buttonEl =\n",
              "          document.querySelector('#df-1cebed74-1aaa-4416-b942-de1ada9cb38b button.colab-df-convert');\n",
              "        buttonEl.style.display =\n",
              "          google.colab.kernel.accessAllowed ? 'block' : 'none';\n",
              "\n",
              "        async function convertToInteractive(key) {\n",
              "          const element = document.querySelector('#df-1cebed74-1aaa-4416-b942-de1ada9cb38b');\n",
              "          const dataTable =\n",
              "            await google.colab.kernel.invokeFunction('convertToInteractive',\n",
              "                                                     [key], {});\n",
              "          if (!dataTable) return;\n",
              "\n",
              "          const docLinkHtml = 'Like what you see? Visit the ' +\n",
              "            '<a target=\"_blank\" href=https://colab.research.google.com/notebooks/data_table.ipynb>data table notebook</a>'\n",
              "            + ' to learn more about interactive tables.';\n",
              "          element.innerHTML = '';\n",
              "          dataTable['output_type'] = 'display_data';\n",
              "          await google.colab.output.renderOutput(dataTable, element);\n",
              "          const docLink = document.createElement('div');\n",
              "          docLink.innerHTML = docLinkHtml;\n",
              "          element.appendChild(docLink);\n",
              "        }\n",
              "      </script>\n",
              "    </div>\n",
              "  </div>\n",
              "  "
            ]
          },
          "metadata": {}
        },
        {
          "output_type": "stream",
          "name": "stdout",
          "text": [
            "Cantidad de outliers:\n"
          ]
        },
        {
          "output_type": "display_data",
          "data": {
            "text/plain": [
              "media_merc_porc    0\n",
              "dtype: int64"
            ]
          },
          "metadata": {}
        },
        {
          "output_type": "display_data",
          "data": {
            "text/plain": [
              "    num_peces\n",
              "X1           \n",
              "14         43\n",
              "17         40\n",
              "51         44"
            ],
            "text/html": [
              "\n",
              "  <div id=\"df-c31a2b71-ad0f-4b55-a965-a343260ca3d3\">\n",
              "    <div class=\"colab-df-container\">\n",
              "      <div>\n",
              "<style scoped>\n",
              "    .dataframe tbody tr th:only-of-type {\n",
              "        vertical-align: middle;\n",
              "    }\n",
              "\n",
              "    .dataframe tbody tr th {\n",
              "        vertical-align: top;\n",
              "    }\n",
              "\n",
              "    .dataframe thead th {\n",
              "        text-align: right;\n",
              "    }\n",
              "</style>\n",
              "<table border=\"1\" class=\"dataframe\">\n",
              "  <thead>\n",
              "    <tr style=\"text-align: right;\">\n",
              "      <th></th>\n",
              "      <th>num_peces</th>\n",
              "    </tr>\n",
              "    <tr>\n",
              "      <th>X1</th>\n",
              "      <th></th>\n",
              "    </tr>\n",
              "  </thead>\n",
              "  <tbody>\n",
              "    <tr>\n",
              "      <th>14</th>\n",
              "      <td>43</td>\n",
              "    </tr>\n",
              "    <tr>\n",
              "      <th>17</th>\n",
              "      <td>40</td>\n",
              "    </tr>\n",
              "    <tr>\n",
              "      <th>51</th>\n",
              "      <td>44</td>\n",
              "    </tr>\n",
              "  </tbody>\n",
              "</table>\n",
              "</div>\n",
              "      <button class=\"colab-df-convert\" onclick=\"convertToInteractive('df-c31a2b71-ad0f-4b55-a965-a343260ca3d3')\"\n",
              "              title=\"Convert this dataframe to an interactive table.\"\n",
              "              style=\"display:none;\">\n",
              "        \n",
              "  <svg xmlns=\"http://www.w3.org/2000/svg\" height=\"24px\"viewBox=\"0 0 24 24\"\n",
              "       width=\"24px\">\n",
              "    <path d=\"M0 0h24v24H0V0z\" fill=\"none\"/>\n",
              "    <path d=\"M18.56 5.44l.94 2.06.94-2.06 2.06-.94-2.06-.94-.94-2.06-.94 2.06-2.06.94zm-11 1L8.5 8.5l.94-2.06 2.06-.94-2.06-.94L8.5 2.5l-.94 2.06-2.06.94zm10 10l.94 2.06.94-2.06 2.06-.94-2.06-.94-.94-2.06-.94 2.06-2.06.94z\"/><path d=\"M17.41 7.96l-1.37-1.37c-.4-.4-.92-.59-1.43-.59-.52 0-1.04.2-1.43.59L10.3 9.45l-7.72 7.72c-.78.78-.78 2.05 0 2.83L4 21.41c.39.39.9.59 1.41.59.51 0 1.02-.2 1.41-.59l7.78-7.78 2.81-2.81c.8-.78.8-2.07 0-2.86zM5.41 20L4 18.59l7.72-7.72 1.47 1.35L5.41 20z\"/>\n",
              "  </svg>\n",
              "      </button>\n",
              "      \n",
              "  <style>\n",
              "    .colab-df-container {\n",
              "      display:flex;\n",
              "      flex-wrap:wrap;\n",
              "      gap: 12px;\n",
              "    }\n",
              "\n",
              "    .colab-df-convert {\n",
              "      background-color: #E8F0FE;\n",
              "      border: none;\n",
              "      border-radius: 50%;\n",
              "      cursor: pointer;\n",
              "      display: none;\n",
              "      fill: #1967D2;\n",
              "      height: 32px;\n",
              "      padding: 0 0 0 0;\n",
              "      width: 32px;\n",
              "    }\n",
              "\n",
              "    .colab-df-convert:hover {\n",
              "      background-color: #E2EBFA;\n",
              "      box-shadow: 0px 1px 2px rgba(60, 64, 67, 0.3), 0px 1px 3px 1px rgba(60, 64, 67, 0.15);\n",
              "      fill: #174EA6;\n",
              "    }\n",
              "\n",
              "    [theme=dark] .colab-df-convert {\n",
              "      background-color: #3B4455;\n",
              "      fill: #D2E3FC;\n",
              "    }\n",
              "\n",
              "    [theme=dark] .colab-df-convert:hover {\n",
              "      background-color: #434B5C;\n",
              "      box-shadow: 0px 1px 3px 1px rgba(0, 0, 0, 0.15);\n",
              "      filter: drop-shadow(0px 1px 2px rgba(0, 0, 0, 0.3));\n",
              "      fill: #FFFFFF;\n",
              "    }\n",
              "  </style>\n",
              "\n",
              "      <script>\n",
              "        const buttonEl =\n",
              "          document.querySelector('#df-c31a2b71-ad0f-4b55-a965-a343260ca3d3 button.colab-df-convert');\n",
              "        buttonEl.style.display =\n",
              "          google.colab.kernel.accessAllowed ? 'block' : 'none';\n",
              "\n",
              "        async function convertToInteractive(key) {\n",
              "          const element = document.querySelector('#df-c31a2b71-ad0f-4b55-a965-a343260ca3d3');\n",
              "          const dataTable =\n",
              "            await google.colab.kernel.invokeFunction('convertToInteractive',\n",
              "                                                     [key], {});\n",
              "          if (!dataTable) return;\n",
              "\n",
              "          const docLinkHtml = 'Like what you see? Visit the ' +\n",
              "            '<a target=\"_blank\" href=https://colab.research.google.com/notebooks/data_table.ipynb>data table notebook</a>'\n",
              "            + ' to learn more about interactive tables.';\n",
              "          element.innerHTML = '';\n",
              "          dataTable['output_type'] = 'display_data';\n",
              "          await google.colab.output.renderOutput(dataTable, element);\n",
              "          const docLink = document.createElement('div');\n",
              "          docLink.innerHTML = docLinkHtml;\n",
              "          element.appendChild(docLink);\n",
              "        }\n",
              "      </script>\n",
              "    </div>\n",
              "  </div>\n",
              "  "
            ]
          },
          "metadata": {}
        },
        {
          "output_type": "stream",
          "name": "stdout",
          "text": [
            "Cantidad de outliers:\n"
          ]
        },
        {
          "output_type": "display_data",
          "data": {
            "text/plain": [
              "num_peces    3\n",
              "dtype: int64"
            ]
          },
          "metadata": {}
        },
        {
          "output_type": "display_data",
          "data": {
            "text/plain": [
              "Empty DataFrame\n",
              "Columns: [min_merc_porc]\n",
              "Index: []"
            ],
            "text/html": [
              "\n",
              "  <div id=\"df-3acc6006-3400-4a24-b478-36d01ec42d33\">\n",
              "    <div class=\"colab-df-container\">\n",
              "      <div>\n",
              "<style scoped>\n",
              "    .dataframe tbody tr th:only-of-type {\n",
              "        vertical-align: middle;\n",
              "    }\n",
              "\n",
              "    .dataframe tbody tr th {\n",
              "        vertical-align: top;\n",
              "    }\n",
              "\n",
              "    .dataframe thead th {\n",
              "        text-align: right;\n",
              "    }\n",
              "</style>\n",
              "<table border=\"1\" class=\"dataframe\">\n",
              "  <thead>\n",
              "    <tr style=\"text-align: right;\">\n",
              "      <th></th>\n",
              "      <th>min_merc_porc</th>\n",
              "    </tr>\n",
              "    <tr>\n",
              "      <th>X1</th>\n",
              "      <th></th>\n",
              "    </tr>\n",
              "  </thead>\n",
              "  <tbody>\n",
              "  </tbody>\n",
              "</table>\n",
              "</div>\n",
              "      <button class=\"colab-df-convert\" onclick=\"convertToInteractive('df-3acc6006-3400-4a24-b478-36d01ec42d33')\"\n",
              "              title=\"Convert this dataframe to an interactive table.\"\n",
              "              style=\"display:none;\">\n",
              "        \n",
              "  <svg xmlns=\"http://www.w3.org/2000/svg\" height=\"24px\"viewBox=\"0 0 24 24\"\n",
              "       width=\"24px\">\n",
              "    <path d=\"M0 0h24v24H0V0z\" fill=\"none\"/>\n",
              "    <path d=\"M18.56 5.44l.94 2.06.94-2.06 2.06-.94-2.06-.94-.94-2.06-.94 2.06-2.06.94zm-11 1L8.5 8.5l.94-2.06 2.06-.94-2.06-.94L8.5 2.5l-.94 2.06-2.06.94zm10 10l.94 2.06.94-2.06 2.06-.94-2.06-.94-.94-2.06-.94 2.06-2.06.94z\"/><path d=\"M17.41 7.96l-1.37-1.37c-.4-.4-.92-.59-1.43-.59-.52 0-1.04.2-1.43.59L10.3 9.45l-7.72 7.72c-.78.78-.78 2.05 0 2.83L4 21.41c.39.39.9.59 1.41.59.51 0 1.02-.2 1.41-.59l7.78-7.78 2.81-2.81c.8-.78.8-2.07 0-2.86zM5.41 20L4 18.59l7.72-7.72 1.47 1.35L5.41 20z\"/>\n",
              "  </svg>\n",
              "      </button>\n",
              "      \n",
              "  <style>\n",
              "    .colab-df-container {\n",
              "      display:flex;\n",
              "      flex-wrap:wrap;\n",
              "      gap: 12px;\n",
              "    }\n",
              "\n",
              "    .colab-df-convert {\n",
              "      background-color: #E8F0FE;\n",
              "      border: none;\n",
              "      border-radius: 50%;\n",
              "      cursor: pointer;\n",
              "      display: none;\n",
              "      fill: #1967D2;\n",
              "      height: 32px;\n",
              "      padding: 0 0 0 0;\n",
              "      width: 32px;\n",
              "    }\n",
              "\n",
              "    .colab-df-convert:hover {\n",
              "      background-color: #E2EBFA;\n",
              "      box-shadow: 0px 1px 2px rgba(60, 64, 67, 0.3), 0px 1px 3px 1px rgba(60, 64, 67, 0.15);\n",
              "      fill: #174EA6;\n",
              "    }\n",
              "\n",
              "    [theme=dark] .colab-df-convert {\n",
              "      background-color: #3B4455;\n",
              "      fill: #D2E3FC;\n",
              "    }\n",
              "\n",
              "    [theme=dark] .colab-df-convert:hover {\n",
              "      background-color: #434B5C;\n",
              "      box-shadow: 0px 1px 3px 1px rgba(0, 0, 0, 0.15);\n",
              "      filter: drop-shadow(0px 1px 2px rgba(0, 0, 0, 0.3));\n",
              "      fill: #FFFFFF;\n",
              "    }\n",
              "  </style>\n",
              "\n",
              "      <script>\n",
              "        const buttonEl =\n",
              "          document.querySelector('#df-3acc6006-3400-4a24-b478-36d01ec42d33 button.colab-df-convert');\n",
              "        buttonEl.style.display =\n",
              "          google.colab.kernel.accessAllowed ? 'block' : 'none';\n",
              "\n",
              "        async function convertToInteractive(key) {\n",
              "          const element = document.querySelector('#df-3acc6006-3400-4a24-b478-36d01ec42d33');\n",
              "          const dataTable =\n",
              "            await google.colab.kernel.invokeFunction('convertToInteractive',\n",
              "                                                     [key], {});\n",
              "          if (!dataTable) return;\n",
              "\n",
              "          const docLinkHtml = 'Like what you see? Visit the ' +\n",
              "            '<a target=\"_blank\" href=https://colab.research.google.com/notebooks/data_table.ipynb>data table notebook</a>'\n",
              "            + ' to learn more about interactive tables.';\n",
              "          element.innerHTML = '';\n",
              "          dataTable['output_type'] = 'display_data';\n",
              "          await google.colab.output.renderOutput(dataTable, element);\n",
              "          const docLink = document.createElement('div');\n",
              "          docLink.innerHTML = docLinkHtml;\n",
              "          element.appendChild(docLink);\n",
              "        }\n",
              "      </script>\n",
              "    </div>\n",
              "  </div>\n",
              "  "
            ]
          },
          "metadata": {}
        },
        {
          "output_type": "stream",
          "name": "stdout",
          "text": [
            "Cantidad de outliers:\n"
          ]
        },
        {
          "output_type": "display_data",
          "data": {
            "text/plain": [
              "min_merc_porc    0\n",
              "dtype: int64"
            ]
          },
          "metadata": {}
        },
        {
          "output_type": "display_data",
          "data": {
            "text/plain": [
              "Empty DataFrame\n",
              "Columns: [max_merc_porc]\n",
              "Index: []"
            ],
            "text/html": [
              "\n",
              "  <div id=\"df-abbd0fa1-0628-4686-8fa7-fdfc86af6fba\">\n",
              "    <div class=\"colab-df-container\">\n",
              "      <div>\n",
              "<style scoped>\n",
              "    .dataframe tbody tr th:only-of-type {\n",
              "        vertical-align: middle;\n",
              "    }\n",
              "\n",
              "    .dataframe tbody tr th {\n",
              "        vertical-align: top;\n",
              "    }\n",
              "\n",
              "    .dataframe thead th {\n",
              "        text-align: right;\n",
              "    }\n",
              "</style>\n",
              "<table border=\"1\" class=\"dataframe\">\n",
              "  <thead>\n",
              "    <tr style=\"text-align: right;\">\n",
              "      <th></th>\n",
              "      <th>max_merc_porc</th>\n",
              "    </tr>\n",
              "    <tr>\n",
              "      <th>X1</th>\n",
              "      <th></th>\n",
              "    </tr>\n",
              "  </thead>\n",
              "  <tbody>\n",
              "  </tbody>\n",
              "</table>\n",
              "</div>\n",
              "      <button class=\"colab-df-convert\" onclick=\"convertToInteractive('df-abbd0fa1-0628-4686-8fa7-fdfc86af6fba')\"\n",
              "              title=\"Convert this dataframe to an interactive table.\"\n",
              "              style=\"display:none;\">\n",
              "        \n",
              "  <svg xmlns=\"http://www.w3.org/2000/svg\" height=\"24px\"viewBox=\"0 0 24 24\"\n",
              "       width=\"24px\">\n",
              "    <path d=\"M0 0h24v24H0V0z\" fill=\"none\"/>\n",
              "    <path d=\"M18.56 5.44l.94 2.06.94-2.06 2.06-.94-2.06-.94-.94-2.06-.94 2.06-2.06.94zm-11 1L8.5 8.5l.94-2.06 2.06-.94-2.06-.94L8.5 2.5l-.94 2.06-2.06.94zm10 10l.94 2.06.94-2.06 2.06-.94-2.06-.94-.94-2.06-.94 2.06-2.06.94z\"/><path d=\"M17.41 7.96l-1.37-1.37c-.4-.4-.92-.59-1.43-.59-.52 0-1.04.2-1.43.59L10.3 9.45l-7.72 7.72c-.78.78-.78 2.05 0 2.83L4 21.41c.39.39.9.59 1.41.59.51 0 1.02-.2 1.41-.59l7.78-7.78 2.81-2.81c.8-.78.8-2.07 0-2.86zM5.41 20L4 18.59l7.72-7.72 1.47 1.35L5.41 20z\"/>\n",
              "  </svg>\n",
              "      </button>\n",
              "      \n",
              "  <style>\n",
              "    .colab-df-container {\n",
              "      display:flex;\n",
              "      flex-wrap:wrap;\n",
              "      gap: 12px;\n",
              "    }\n",
              "\n",
              "    .colab-df-convert {\n",
              "      background-color: #E8F0FE;\n",
              "      border: none;\n",
              "      border-radius: 50%;\n",
              "      cursor: pointer;\n",
              "      display: none;\n",
              "      fill: #1967D2;\n",
              "      height: 32px;\n",
              "      padding: 0 0 0 0;\n",
              "      width: 32px;\n",
              "    }\n",
              "\n",
              "    .colab-df-convert:hover {\n",
              "      background-color: #E2EBFA;\n",
              "      box-shadow: 0px 1px 2px rgba(60, 64, 67, 0.3), 0px 1px 3px 1px rgba(60, 64, 67, 0.15);\n",
              "      fill: #174EA6;\n",
              "    }\n",
              "\n",
              "    [theme=dark] .colab-df-convert {\n",
              "      background-color: #3B4455;\n",
              "      fill: #D2E3FC;\n",
              "    }\n",
              "\n",
              "    [theme=dark] .colab-df-convert:hover {\n",
              "      background-color: #434B5C;\n",
              "      box-shadow: 0px 1px 3px 1px rgba(0, 0, 0, 0.15);\n",
              "      filter: drop-shadow(0px 1px 2px rgba(0, 0, 0, 0.3));\n",
              "      fill: #FFFFFF;\n",
              "    }\n",
              "  </style>\n",
              "\n",
              "      <script>\n",
              "        const buttonEl =\n",
              "          document.querySelector('#df-abbd0fa1-0628-4686-8fa7-fdfc86af6fba button.colab-df-convert');\n",
              "        buttonEl.style.display =\n",
              "          google.colab.kernel.accessAllowed ? 'block' : 'none';\n",
              "\n",
              "        async function convertToInteractive(key) {\n",
              "          const element = document.querySelector('#df-abbd0fa1-0628-4686-8fa7-fdfc86af6fba');\n",
              "          const dataTable =\n",
              "            await google.colab.kernel.invokeFunction('convertToInteractive',\n",
              "                                                     [key], {});\n",
              "          if (!dataTable) return;\n",
              "\n",
              "          const docLinkHtml = 'Like what you see? Visit the ' +\n",
              "            '<a target=\"_blank\" href=https://colab.research.google.com/notebooks/data_table.ipynb>data table notebook</a>'\n",
              "            + ' to learn more about interactive tables.';\n",
              "          element.innerHTML = '';\n",
              "          dataTable['output_type'] = 'display_data';\n",
              "          await google.colab.output.renderOutput(dataTable, element);\n",
              "          const docLink = document.createElement('div');\n",
              "          docLink.innerHTML = docLinkHtml;\n",
              "          element.appendChild(docLink);\n",
              "        }\n",
              "      </script>\n",
              "    </div>\n",
              "  </div>\n",
              "  "
            ]
          },
          "metadata": {}
        },
        {
          "output_type": "stream",
          "name": "stdout",
          "text": [
            "Cantidad de outliers:\n"
          ]
        },
        {
          "output_type": "display_data",
          "data": {
            "text/plain": [
              "max_merc_porc    0\n",
              "dtype: int64"
            ]
          },
          "metadata": {}
        },
        {
          "output_type": "display_data",
          "data": {
            "text/plain": [
              "    merc_estimado_porc\n",
              "X1                    \n",
              "1                 1.53"
            ],
            "text/html": [
              "\n",
              "  <div id=\"df-6d39b3d4-86d0-4efc-9bca-7704b267fa26\">\n",
              "    <div class=\"colab-df-container\">\n",
              "      <div>\n",
              "<style scoped>\n",
              "    .dataframe tbody tr th:only-of-type {\n",
              "        vertical-align: middle;\n",
              "    }\n",
              "\n",
              "    .dataframe tbody tr th {\n",
              "        vertical-align: top;\n",
              "    }\n",
              "\n",
              "    .dataframe thead th {\n",
              "        text-align: right;\n",
              "    }\n",
              "</style>\n",
              "<table border=\"1\" class=\"dataframe\">\n",
              "  <thead>\n",
              "    <tr style=\"text-align: right;\">\n",
              "      <th></th>\n",
              "      <th>merc_estimado_porc</th>\n",
              "    </tr>\n",
              "    <tr>\n",
              "      <th>X1</th>\n",
              "      <th></th>\n",
              "    </tr>\n",
              "  </thead>\n",
              "  <tbody>\n",
              "    <tr>\n",
              "      <th>1</th>\n",
              "      <td>1.53</td>\n",
              "    </tr>\n",
              "  </tbody>\n",
              "</table>\n",
              "</div>\n",
              "      <button class=\"colab-df-convert\" onclick=\"convertToInteractive('df-6d39b3d4-86d0-4efc-9bca-7704b267fa26')\"\n",
              "              title=\"Convert this dataframe to an interactive table.\"\n",
              "              style=\"display:none;\">\n",
              "        \n",
              "  <svg xmlns=\"http://www.w3.org/2000/svg\" height=\"24px\"viewBox=\"0 0 24 24\"\n",
              "       width=\"24px\">\n",
              "    <path d=\"M0 0h24v24H0V0z\" fill=\"none\"/>\n",
              "    <path d=\"M18.56 5.44l.94 2.06.94-2.06 2.06-.94-2.06-.94-.94-2.06-.94 2.06-2.06.94zm-11 1L8.5 8.5l.94-2.06 2.06-.94-2.06-.94L8.5 2.5l-.94 2.06-2.06.94zm10 10l.94 2.06.94-2.06 2.06-.94-2.06-.94-.94-2.06-.94 2.06-2.06.94z\"/><path d=\"M17.41 7.96l-1.37-1.37c-.4-.4-.92-.59-1.43-.59-.52 0-1.04.2-1.43.59L10.3 9.45l-7.72 7.72c-.78.78-.78 2.05 0 2.83L4 21.41c.39.39.9.59 1.41.59.51 0 1.02-.2 1.41-.59l7.78-7.78 2.81-2.81c.8-.78.8-2.07 0-2.86zM5.41 20L4 18.59l7.72-7.72 1.47 1.35L5.41 20z\"/>\n",
              "  </svg>\n",
              "      </button>\n",
              "      \n",
              "  <style>\n",
              "    .colab-df-container {\n",
              "      display:flex;\n",
              "      flex-wrap:wrap;\n",
              "      gap: 12px;\n",
              "    }\n",
              "\n",
              "    .colab-df-convert {\n",
              "      background-color: #E8F0FE;\n",
              "      border: none;\n",
              "      border-radius: 50%;\n",
              "      cursor: pointer;\n",
              "      display: none;\n",
              "      fill: #1967D2;\n",
              "      height: 32px;\n",
              "      padding: 0 0 0 0;\n",
              "      width: 32px;\n",
              "    }\n",
              "\n",
              "    .colab-df-convert:hover {\n",
              "      background-color: #E2EBFA;\n",
              "      box-shadow: 0px 1px 2px rgba(60, 64, 67, 0.3), 0px 1px 3px 1px rgba(60, 64, 67, 0.15);\n",
              "      fill: #174EA6;\n",
              "    }\n",
              "\n",
              "    [theme=dark] .colab-df-convert {\n",
              "      background-color: #3B4455;\n",
              "      fill: #D2E3FC;\n",
              "    }\n",
              "\n",
              "    [theme=dark] .colab-df-convert:hover {\n",
              "      background-color: #434B5C;\n",
              "      box-shadow: 0px 1px 3px 1px rgba(0, 0, 0, 0.15);\n",
              "      filter: drop-shadow(0px 1px 2px rgba(0, 0, 0, 0.3));\n",
              "      fill: #FFFFFF;\n",
              "    }\n",
              "  </style>\n",
              "\n",
              "      <script>\n",
              "        const buttonEl =\n",
              "          document.querySelector('#df-6d39b3d4-86d0-4efc-9bca-7704b267fa26 button.colab-df-convert');\n",
              "        buttonEl.style.display =\n",
              "          google.colab.kernel.accessAllowed ? 'block' : 'none';\n",
              "\n",
              "        async function convertToInteractive(key) {\n",
              "          const element = document.querySelector('#df-6d39b3d4-86d0-4efc-9bca-7704b267fa26');\n",
              "          const dataTable =\n",
              "            await google.colab.kernel.invokeFunction('convertToInteractive',\n",
              "                                                     [key], {});\n",
              "          if (!dataTable) return;\n",
              "\n",
              "          const docLinkHtml = 'Like what you see? Visit the ' +\n",
              "            '<a target=\"_blank\" href=https://colab.research.google.com/notebooks/data_table.ipynb>data table notebook</a>'\n",
              "            + ' to learn more about interactive tables.';\n",
              "          element.innerHTML = '';\n",
              "          dataTable['output_type'] = 'display_data';\n",
              "          await google.colab.output.renderOutput(dataTable, element);\n",
              "          const docLink = document.createElement('div');\n",
              "          docLink.innerHTML = docLinkHtml;\n",
              "          element.appendChild(docLink);\n",
              "        }\n",
              "      </script>\n",
              "    </div>\n",
              "  </div>\n",
              "  "
            ]
          },
          "metadata": {}
        },
        {
          "output_type": "stream",
          "name": "stdout",
          "text": [
            "Cantidad de outliers:\n"
          ]
        },
        {
          "output_type": "display_data",
          "data": {
            "text/plain": [
              "merc_estimado_porc    1\n",
              "dtype: int64"
            ]
          },
          "metadata": {}
        }
      ]
    },
    {
      "cell_type": "code",
      "source": [
        "# std_value= df[\"num_peces\"].std()\n",
        "# df = df.loc[(df[\"num_peces\"] < 3  * std_value) & (df[\"num_peces\"] > -3 * std_value)]"
      ],
      "metadata": {
        "id": "zQNOTZTMW4Pc"
      },
      "execution_count": 103,
      "outputs": []
    },
    {
      "cell_type": "code",
      "source": [
        "fig, axes = plt.subplots(3,3, figsize=(10, 10))\n",
        "for i,el in enumerate(cuantitativas):\n",
        "    a = df.hist(el, ax=axes.flatten()[i])\n",
        "\n",
        "\n",
        "#fig = plt.figure(figsize=(15,5),facecolor='w') \n",
        "# fig.delaxes(axes[2,2]) # remove empty subplot\n",
        "plt.tight_layout() \n",
        "\n",
        "plt.show()"
      ],
      "metadata": {
        "id": "Uvb6R7mZwVAo",
        "colab": {
          "base_uri": "https://localhost:8080/",
          "height": 645
        },
        "outputId": "ef014136-adda-4528-8f24-95ad659fba2c"
      },
      "execution_count": 104,
      "outputs": [
        {
          "output_type": "display_data",
          "data": {
            "text/plain": [
              "<Figure size 720x720 with 9 Axes>"
            ],
            "image/png": "[encoded data removed]"
          },
          "metadata": {
            "needs_background": "light"
          }
        }
      ]
    },
    {
      "cell_type": "markdown",
      "source": [
        "**Comparación de número de peces con concentración de mercurio**"
      ],
      "metadata": {
        "id": "ROa6IDmvajUO"
      }
    },
    {
      "cell_type": "code",
      "source": [
        "sns.barplot(x = df[\"num_peces\"], y = df[\"media_merc_porc\"])\n",
        "plt.show()"
      ],
      "metadata": {
        "id": "XwYli25I_8-T",
        "colab": {
          "base_uri": "https://localhost:8080/",
          "height": 279
        },
        "outputId": "93c070d6-2585-4b47-cd8d-924ce0267304"
      },
      "execution_count": 105,
      "outputs": [
        {
          "output_type": "display_data",
          "data": {
            "text/plain": [
              "<Figure size 432x288 with 1 Axes>"
            ],
            "image/png": "[encoded data removed]"
          },
          "metadata": {
            "needs_background": "light"
          }
        }
      ]
    },
    {
      "cell_type": "markdown",
      "source": [
        "**Observaciones**\n",
        "\n",
        "*   La concentración media de mercurio cambia con la cantidad de peces.\n",
        "*   Parece que la concentración del mercurio comparada con la cantidad de peces cambia de forma aleatoria, es decir, no se observa algún patrón o tendencia que se siga.\n",
        "\n"
      ],
      "metadata": {
        "id": "0ShKcBVoar2u"
      }
    },
    {
      "cell_type": "markdown",
      "source": [
        "**Comparación de alcalinidad con concentración de mercurio**"
      ],
      "metadata": {
        "id": "VnqxBAXjbkLG"
      }
    },
    {
      "cell_type": "code",
      "source": [
        "sns.barplot(x = df[\"alcalinidad\"], y = df[\"media_merc_porc\"])\n",
        "plt.show()"
      ],
      "metadata": {
        "id": "yOQn9VNBb1CD",
        "colab": {
          "base_uri": "https://localhost:8080/",
          "height": 279
        },
        "outputId": "4aa8003b-c313-4f7b-bc1d-22c4d4d60734"
      },
      "execution_count": 106,
      "outputs": [
        {
          "output_type": "display_data",
          "data": {
            "text/plain": [
              "<Figure size 432x288 with 1 Axes>"
            ],
            "image/png": "[encoded data removed]"
          },
          "metadata": {
            "needs_background": "light"
          }
        }
      ]
    },
    {
      "cell_type": "markdown",
      "source": [
        "**Observaciones**\n",
        "\n",
        "- Parece haber una tendencia negativa, disminuyendo la concentración de mercurio cuando aumenta la alcalinidad. (Posible variable a tomar en cuenta)"
      ],
      "metadata": {
        "id": "L4f_WVvjd0nj"
      }
    },
    {
      "cell_type": "markdown",
      "source": [
        "**Comparación de clorofila con concentración de mercurio**"
      ],
      "metadata": {
        "id": "Cm4IRciXbums"
      }
    },
    {
      "cell_type": "code",
      "source": [
        "sns.barplot(x = df[\"clorofila\"], y = df[\"media_merc_porc\"])\n",
        "plt.show()"
      ],
      "metadata": {
        "id": "CPM5TDxxb_8Y",
        "colab": {
          "base_uri": "https://localhost:8080/",
          "height": 279
        },
        "outputId": "23508792-12c9-4941-88ad-047e76702735"
      },
      "execution_count": 107,
      "outputs": [
        {
          "output_type": "display_data",
          "data": {
            "text/plain": [
              "<Figure size 432x288 with 1 Axes>"
            ],
            "image/png": "[encoded data removed]"
          },
          "metadata": {
            "needs_background": "light"
          }
        }
      ]
    },
    {
      "cell_type": "markdown",
      "source": [
        "**Observaciones**\n",
        "\n",
        "- Aunque aparentemente se muestre una tendencia negativa igual que la alcalinidad, es menos notable y con valores menos consistentes."
      ],
      "metadata": {
        "id": "msyQlIk1eCyM"
      }
    },
    {
      "cell_type": "markdown",
      "source": [
        "**Comparación de calcio con concentración de mercurio**"
      ],
      "metadata": {
        "id": "qfpmsYpObyCx"
      }
    },
    {
      "cell_type": "code",
      "source": [
        "sns.barplot(x = df[\"calcio\"], y = df[\"media_merc_porc\"])\n",
        "plt.show()"
      ],
      "metadata": {
        "id": "OOBLlcSVcDUa",
        "colab": {
          "base_uri": "https://localhost:8080/",
          "height": 279
        },
        "outputId": "f2095a32-3f50-4b22-d561-ed36f6a68af6"
      },
      "execution_count": 108,
      "outputs": [
        {
          "output_type": "display_data",
          "data": {
            "text/plain": [
              "<Figure size 432x288 with 1 Axes>"
            ],
            "image/png": "[encoded data removed]"
          },
          "metadata": {
            "needs_background": "light"
          }
        }
      ]
    },
    {
      "cell_type": "markdown",
      "source": [
        "**Observaciones**\n",
        "\n",
        "- Parecen haber 3 intervalos consecutivos que muestran una tendencia negativa"
      ],
      "metadata": {
        "id": "UPWMK6pDuuTk"
      }
    },
    {
      "cell_type": "markdown",
      "source": [
        "### Variables categóricas:\n",
        "- Distribución de los datos (diagramas de barras, diagramas de pastel)"
      ],
      "metadata": {
        "id": "miLaVFw36Iy7"
      }
    },
    {
      "cell_type": "code",
      "source": [
        "cualitativas"
      ],
      "metadata": {
        "id": "mmDROSLD3Xyr",
        "colab": {
          "base_uri": "https://localhost:8080/"
        },
        "outputId": "96238dd1-9231-40a9-94ec-25c2c1660a19"
      },
      "execution_count": 109,
      "outputs": [
        {
          "output_type": "execute_result",
          "data": {
            "text/plain": [
              "['nombre', 'edad_peces']"
            ]
          },
          "metadata": {},
          "execution_count": 109
        }
      ]
    },
    {
      "cell_type": "code",
      "source": [
        "df.groupby(['nombre'])['nombre'].count().plot.pie(y = 'count', autopct='%1.0f%%')\n",
        "plt.show()\n",
        "df.groupby(['nombre'])['nombre'].count().plot.bar(y = 'count')\n",
        "plt.show()"
      ],
      "metadata": {
        "id": "TptsqkM4vrFp",
        "colab": {
          "base_uri": "https://localhost:8080/",
          "height": 0
        },
        "outputId": "6500dcdc-dde6-4fee-a813-ec25db48ab88"
      },
      "execution_count": 110,
      "outputs": [
        {
          "output_type": "display_data",
          "data": {
            "text/plain": [
              "<Figure size 432x288 with 1 Axes>"
            ],
            "image/png": "[encoded data removed]"
          },
          "metadata": {}
        },
        {
          "output_type": "display_data",
          "data": {
            "text/plain": [
              "<Figure size 432x288 with 1 Axes>"
            ],
            "image/png": "[encoded data removed]"
          },
          "metadata": {
            "needs_background": "light"
          }
        }
      ]
    },
    {
      "cell_type": "code",
      "source": [
        "sns.barplot(x = df[\"nombre\"], y = df[\"media_merc_porc\"])\n",
        "plt.show()"
      ],
      "metadata": {
        "id": "Min2jVR8xPEI",
        "colab": {
          "base_uri": "https://localhost:8080/",
          "height": 0
        },
        "outputId": "b0d00d6f-4a45-4253-fcb1-d40b089b5bb1"
      },
      "execution_count": 111,
      "outputs": [
        {
          "output_type": "display_data",
          "data": {
            "text/plain": [
              "<Figure size 432x288 with 1 Axes>"
            ],
            "image/png": "[encoded data removed]"
          },
          "metadata": {
            "needs_background": "light"
          }
        }
      ]
    },
    {
      "cell_type": "markdown",
      "source": [
        "**Observaciones**\n",
        "\n",
        "- No parece haber algún patrón en la concentración de mercurio con respecto al nombre del lago"
      ],
      "metadata": {
        "id": "zX78-0KyvEhw"
      }
    },
    {
      "cell_type": "code",
      "source": [
        "df.groupby(['edad_peces'])['edad_peces'].count().plot.pie(y = 'count', autopct='%1.0f%%')\n",
        "plt.show()\n",
        "df.groupby(['edad_peces'])['edad_peces'].count().plot.bar(y = 'count')\n",
        "plt.show()"
      ],
      "metadata": {
        "id": "OYtwmA0m4cLI",
        "colab": {
          "base_uri": "https://localhost:8080/",
          "height": 0
        },
        "outputId": "6c2acc76-5bad-470c-9295-d749902c581c"
      },
      "execution_count": 112,
      "outputs": [
        {
          "output_type": "display_data",
          "data": {
            "text/plain": [
              "<Figure size 432x288 with 1 Axes>"
            ],
            "image/png": "[encoded data removed]"
          },
          "metadata": {}
        },
        {
          "output_type": "display_data",
          "data": {
            "text/plain": [
              "<Figure size 432x288 with 1 Axes>"
            ],
            "image/png": "[encoded data removed]"
          },
          "metadata": {
            "needs_background": "light"
          }
        }
      ]
    },
    {
      "cell_type": "code",
      "source": [
        "sns.barplot(x = df[\"edad_peces\"], y = df[\"media_merc_porc\"])\n",
        "plt.show()"
      ],
      "metadata": {
        "id": "b45BRkJSxI9o",
        "colab": {
          "base_uri": "https://localhost:8080/",
          "height": 0
        },
        "outputId": "b19d246c-3224-43c7-d5a3-436c623dabe5"
      },
      "execution_count": 113,
      "outputs": [
        {
          "output_type": "display_data",
          "data": {
            "text/plain": [
              "<Figure size 432x288 with 1 Axes>"
            ],
            "image/png": "[encoded data removed]"
          },
          "metadata": {
            "needs_background": "light"
          }
        }
      ]
    },
    {
      "cell_type": "markdown",
      "source": [
        "**Observaciones**\n",
        "\n",
        "- Aunque la concentración de mercurio es aparentemente mayor en los peces maduros, la desviación estándar de los peces jóvenes es muy alta y engloba de muy cerca la media de los maduros. (Podría no ser significante para el modelo).\n",
        "\n",
        "-  Ya que no se repite ningún nombre, se decidió no tomarlo en cuenta para el modelo."
      ],
      "metadata": {
        "id": "9GUQhaTTvRnG"
      }
    },
    {
      "cell_type": "markdown",
      "source": [
        "## 3. Explora la correlación entre las variables. Identifica cuáles son las correlaciones más fuertes y qué sentido tiene relacionarlas."
      ],
      "metadata": {
        "id": "IOIDN0DL6N5N"
      }
    },
    {
      "cell_type": "code",
      "source": [
        "num_data = df.drop(['nombre'], axis = 1)\n",
        "plt.figure(figsize=(13,10))\n",
        "cor = num_data.corr()\n",
        "sns.heatmap(cor, annot=True, cmap=plt.cm.Reds,annot_kws = {'fontsize':15})"
      ],
      "metadata": {
        "id": "Cq6fGQ_7yieW",
        "colab": {
          "base_uri": "https://localhost:8080/",
          "height": 563
        },
        "outputId": "489f4adf-356a-490d-9da9-9485f81bf81d"
      },
      "execution_count": 114,
      "outputs": [
        {
          "output_type": "execute_result",
          "data": {
            "text/plain": [
              "<matplotlib.axes._subplots.AxesSubplot at 0x7f67e6bb0bd0>"
            ]
          },
          "metadata": {},
          "execution_count": 114
        },
        {
          "output_type": "display_data",
          "data": {
            "text/plain": [
              "<Figure size 936x720 with 2 Axes>"
            ],
            "image/png": "[encoded data removed]"
          },
          "metadata": {
            "needs_background": "light"
          }
        }
      ]
    },
    {
      "cell_type": "markdown",
      "source": [
        "**Observaciones**\n",
        "\n",
        "- La correlación del mínimo, máximo y estimado de concentración de mercurio con la media de concentración de mercurio 0.93, 0.92, 0.96 respectivamente.\n",
        "\n",
        "- La alcalinidad y el ph muestran una correlación alta de 0.72 debido a que el ph muestra el nivel de acidez del agua. (Posible razón para realizar un cambio en la preparación de datos)\n",
        "\n",
        "- La alcalinidad y el calcio muestran una correlación de 0.83. Ya que la alcalinidad es una medida con respecto al calcio. (Posible razón para realizar un cambio en la preparación de datos)\n"
      ],
      "metadata": {
        "id": "BPbXo8bXzVnz"
      }
    },
    {
      "cell_type": "code",
      "source": [
        "%load_ext rpy2.ipython"
      ],
      "metadata": {
        "id": "O6JOEl0RkMGL",
        "colab": {
          "base_uri": "https://localhost:8080/"
        },
        "outputId": "08d3d5c1-d6cc-4374-9473-366596494f5c"
      },
      "execution_count": 115,
      "outputs": [
        {
          "output_type": "stream",
          "name": "stdout",
          "text": [
            "The rpy2.ipython extension is already loaded. To reload it, use:\n",
            "  %reload_ext rpy2.ipython\n"
          ]
        }
      ]
    },
    {
      "cell_type": "code",
      "source": [
        "%%R\n",
        "install.packages(\"survival\")\n",
        "install.packages(\"lattice\")\n",
        "install.packages(\"ggplot2\")\n",
        "install.packages(\"Hmisc\")\n",
        "install.packages(\"GGally\")\n",
        "install.packages(\"car\")\n",
        "install.packages(\"MASS\")\n",
        "install.packages(\"VGAM\")\n",
        "install.packages('e1071')\n",
        "install.packages('nortest')"
      ],
      "metadata": {
        "id": "0iZhS3jq1M1L"
      },
      "execution_count": 116,
      "outputs": []
    },
    {
      "cell_type": "code",
      "source": [
        "%%R\n",
        "library(GGally)\n",
        "library(Hmisc)\n",
        "library(ggplot2)\n",
        "library(MASS) # Boxcox\n",
        "library(VGAM) # Yeo jhoson\n",
        "library(e1071) # cursosis y sesgo\n",
        "library(survival)\n",
        "library(lattice)\n",
        "library(car)\n",
        "library(nortest)"
      ],
      "metadata": {
        "id": "Fjioc2lN1-2w"
      },
      "execution_count": 117,
      "outputs": []
    },
    {
      "cell_type": "code",
      "source": [
        "df.columns"
      ],
      "metadata": {
        "id": "ALbQufPd3rv1",
        "colab": {
          "base_uri": "https://localhost:8080/"
        },
        "outputId": "e0800261-1f7d-4270-9293-241d17a75b1b"
      },
      "execution_count": 118,
      "outputs": [
        {
          "output_type": "execute_result",
          "data": {
            "text/plain": [
              "Index(['nombre', 'alcalinidad', 'ph', 'calcio', 'clorofila', 'media_merc_porc',\n",
              "       'num_peces', 'min_merc_porc', 'max_merc_porc', 'merc_estimado_porc',\n",
              "       'edad_peces'],\n",
              "      dtype='object')"
            ]
          },
          "metadata": {},
          "execution_count": 118
        }
      ]
    },
    {
      "cell_type": "code",
      "source": [
        "%%R -i df\n",
        "media_merc_porc = df$media_merc_porc\n",
        "\n",
        "alcalinidad = df$alcalinidad\n",
        "ph = df$ph\n",
        "calcio = df$calcio\n",
        "clorofila = df$clorofila\n",
        "num_peces = df$num_peces\n",
        "min_merc_porc = df$min_merc_porc\n",
        "max_merc_porc = df$max_merc_porc\n",
        "merc_estimado_porc = df$merc_estimado_porc\n",
        "edad_peces = df$edad_peces"
      ],
      "metadata": {
        "id": "AUAGGZV01VvP"
      },
      "execution_count": 119,
      "outputs": []
    },
    {
      "cell_type": "code",
      "source": [
        "%%R\n",
        "alcalinidad_box<-boxcox(alcalinidad~1)\n",
        "alcalinidad_value = alcalinidad_box$x[which.max(alcalinidad_box$y)]\n",
        "alcalinidad_value\n",
        "\n",
        "ph_box<-boxcox(ph~1)\n",
        "ph_value = ph_box$x[which.max(ph_box$y)]\n",
        "ph_value\n",
        "\n",
        "calcio_box<-boxcox(calcio~1)\n",
        "calcio_value = calcio_box$x[which.max(calcio_box$y)]\n",
        "calcio_value\n",
        "\n",
        "clorofila_box<-boxcox(clorofila~1)\n",
        "clorofila_value = clorofila_box$x[which.max(clorofila_box$y)]\n",
        "clorofila_value\n",
        "\n",
        "num_peces_box<-boxcox(num_peces~1)\n",
        "num_peces_value = num_peces_box$x[which.max(num_peces_box$y)]\n",
        "num_peces_value\n",
        "\n",
        "edad_peces_box<-boxcox(edad_peces+1~1)\n",
        "edad_peces_value = edad_peces_box$x[which.max(edad_peces_box$y)]\n",
        "edad_peces_value\n",
        "\n",
        "media_merc_porc_box<-boxcox(media_merc_porc~1)\n",
        "media_merc_porc_value = media_merc_porc_box$x[which.max(media_merc_porc_box$y)]\n",
        "media_merc_porc_value\n",
        "\n",
        "\n"
      ],
      "metadata": {
        "colab": {
          "base_uri": "https://localhost:8080/",
          "height": 1000
        },
        "id": "w6wDIudbKebH",
        "outputId": "c8eb905e-e48d-491c-9819-c451dd889c61"
      },
      "execution_count": 120,
      "outputs": [
        {
          "output_type": "stream",
          "name": "stdout",
          "text": [
            "[1] 0.4646465\n"
          ]
        },
        {
          "output_type": "display_data",
          "data": {
            "image/png": "[encoded data removed]"
          },
          "metadata": {}
        },
        {
          "output_type": "display_data",
          "data": {
            "image/png": "[encoded data removed]"
          },
          "metadata": {}
        },
        {
          "output_type": "display_data",
          "data": {
            "image/png": "[encoded data removed]"
          },
          "metadata": {}
        },
        {
          "output_type": "display_data",
          "data": {
            "image/png": "[encoded data removed]"
          },
          "metadata": {}
        },
        {
          "output_type": "display_data",
          "data": {
            "image/png": "[encoded data removed]"
          },
          "metadata": {}
        },
        {
          "output_type": "display_data",
          "data": {
            "image/png": "[encoded data removed]"
          },
          "metadata": {}
        },
        {
          "output_type": "display_data",
          "data": {
            "image/png": "[encoded data removed]"
          },
          "metadata": {}
        }
      ]
    },
    {
      "cell_type": "code",
      "source": [
        "%%R\n",
        "hist(alcalinidad)\n",
        "alcalinidad_normalized = log(alcalinidad)\n",
        "hist(alcalinidad_normalized)\n",
        "ad.test(alcalinidad_normalized)\n",
        "\n",
        "\n"
      ],
      "metadata": {
        "colab": {
          "base_uri": "https://localhost:8080/",
          "height": 1000
        },
        "id": "MX0oFepyM-nM",
        "outputId": "9efb3772-eede-4021-e2d9-b151cd555f4d"
      },
      "execution_count": 122,
      "outputs": [
        {
          "output_type": "stream",
          "name": "stdout",
          "text": [
            "\n",
            "\tAnderson-Darling normality test\n",
            "\n",
            "data:  alcalinidad_normalized\n",
            "A = 0.87042, p-value = 0.02387\n",
            "\n"
          ]
        },
        {
          "output_type": "display_data",
          "data": {
            "image/png": "[encoded data removed]"
          },
          "metadata": {}
        },
        {
          "output_type": "display_data",
          "data": {
            "image/png": "[encoded data removed]"
          },
          "metadata": {}
        }
      ]
    },
    {
      "cell_type": "code",
      "source": [
        "%%R\n",
        "hist(ph)\n",
        "ph_normalized = ph\n",
        "hist(ph_normalized)\n",
        "p=ad.test(ph)\n",
        "p2=ad.test(ph_normalized)\n",
        "# p$p.value\n",
        "p2$p.value"
      ],
      "metadata": {
        "colab": {
          "base_uri": "https://localhost:8080/",
          "height": 994
        },
        "id": "5pCg8TMVNsjQ",
        "outputId": "e864d15e-5be7-486d-d171-8e94c859b6df"
      },
      "execution_count": 123,
      "outputs": [
        {
          "output_type": "stream",
          "name": "stdout",
          "text": [
            "[1] 0.4611135\n"
          ]
        },
        {
          "output_type": "display_data",
          "data": {
            "image/png": "[encoded data removed]"
          },
          "metadata": {}
        },
        {
          "output_type": "display_data",
          "data": {
            "image/png": "[encoded data removed]"
          },
          "metadata": {}
        }
      ]
    },
    {
      "cell_type": "code",
      "source": [
        "%%R\n",
        "hist(calcio)\n",
        "calcio_normalized = log(calcio)\n",
        "hist(calcio_normalized)\n",
        "p=ad.test(calcio)\n",
        "p2=ad.test(calcio_normalized)\n",
        "# p$p.value\n",
        "p2$p.value"
      ],
      "metadata": {
        "colab": {
          "base_uri": "https://localhost:8080/",
          "height": 994
        },
        "id": "AsG1syrNUiS0",
        "outputId": "20a8c897-0cf7-4a8d-f8d9-6120d1ae0092"
      },
      "execution_count": 124,
      "outputs": [
        {
          "output_type": "stream",
          "name": "stdout",
          "text": [
            "[1] 0.03976374\n"
          ]
        },
        {
          "output_type": "display_data",
          "data": {
            "image/png": "[encoded data removed]"
          },
          "metadata": {}
        },
        {
          "output_type": "display_data",
          "data": {
            "image/png": "[encoded data removed]"
          },
          "metadata": {}
        }
      ]
    },
    {
      "cell_type": "code",
      "source": [
        "%%R\n",
        "hist(clorofila)\n",
        "clorofila_normalized = log(clorofila)\n",
        "hist(clorofila_normalized)\n",
        "p=ad.test(clorofila)\n",
        "p2=ad.test(clorofila_normalized)\n",
        "# p$p.value\n",
        "p2$p.value"
      ],
      "metadata": {
        "colab": {
          "base_uri": "https://localhost:8080/",
          "height": 994
        },
        "id": "U2QOnBPMV2Bm",
        "outputId": "26e551b8-141e-4871-ab01-9d64615bf779"
      },
      "execution_count": 125,
      "outputs": [
        {
          "output_type": "stream",
          "name": "stdout",
          "text": [
            "[1] 0.9213303\n"
          ]
        },
        {
          "output_type": "display_data",
          "data": {
            "image/png": "[encoded data removed]"
          },
          "metadata": {}
        },
        {
          "output_type": "display_data",
          "data": {
            "image/png": "[encoded data removed]"
          },
          "metadata": {}
        }
      ]
    },
    {
      "cell_type": "code",
      "source": [
        "%%R\n",
        "hist(num_peces)\n",
        "num_peces_normalized = (num_peces ^ num_peces_value - 1) / num_peces_value\n",
        "hist(num_peces_normalized)\n",
        "p=ad.test(num_peces)\n",
        "p2=ad.test(num_peces_normalized)\n",
        "# p$p.value\n",
        "p2$p.value"
      ],
      "metadata": {
        "colab": {
          "base_uri": "https://localhost:8080/",
          "height": 994
        },
        "id": "WrB1CW7nWGtH",
        "outputId": "57a2831a-6c1c-4a79-d02c-872f58d07176"
      },
      "execution_count": 126,
      "outputs": [
        {
          "output_type": "stream",
          "name": "stdout",
          "text": [
            "[1] 2.611868e-09\n"
          ]
        },
        {
          "output_type": "display_data",
          "data": {
            "image/png": "[encoded data removed]"
          },
          "metadata": {}
        },
        {
          "output_type": "display_data",
          "data": {
            "image/png": "[encoded data removed]"
          },
          "metadata": {}
        }
      ]
    },
    {
      "cell_type": "code",
      "source": [
        "%%R\n",
        "hist(media_merc_porc)\n",
        "media_merc_porc_normalized = (media_merc_porc ^ media_merc_porc_value - 1) / media_merc_porc_value\n",
        "hist(media_merc_porc_normalized)\n",
        "p=ad.test(media_merc_porc)\n",
        "p2=ad.test(media_merc_porc_normalized)\n",
        "# p$p.value\n",
        "p2$p.value"
      ],
      "metadata": {
        "colab": {
          "base_uri": "https://localhost:8080/",
          "height": 994
        },
        "id": "Q-nk6mbzbQON",
        "outputId": "054f91eb-986a-4250-d6dc-ff642197fa6b"
      },
      "execution_count": 127,
      "outputs": [
        {
          "output_type": "stream",
          "name": "stdout",
          "text": [
            "[1] 0.7863925\n"
          ]
        },
        {
          "output_type": "display_data",
          "data": {
            "image/png": "[encoded data removed]"
          },
          "metadata": {}
        },
        {
          "output_type": "display_data",
          "data": {
            "image/png": "[encoded data removed]"
          },
          "metadata": {}
        }
      ]
    },
    {
      "cell_type": "code",
      "source": [
        "cuantitativas"
      ],
      "metadata": {
        "colab": {
          "base_uri": "https://localhost:8080/"
        },
        "id": "xzoidQx7M73z",
        "outputId": "3c3e5cb9-c687-4700-8ef6-a90c12983baa"
      },
      "execution_count": 128,
      "outputs": [
        {
          "output_type": "execute_result",
          "data": {
            "text/plain": [
              "['alcalinidad',\n",
              " 'ph',\n",
              " 'calcio',\n",
              " 'clorofila',\n",
              " 'media_merc_porc',\n",
              " 'num_peces',\n",
              " 'min_merc_porc',\n",
              " 'max_merc_porc',\n",
              " 'merc_estimado_porc']"
            ]
          },
          "metadata": {},
          "execution_count": 128
        }
      ]
    },
    {
      "cell_type": "code",
      "source": [
        "cualitativas"
      ],
      "metadata": {
        "colab": {
          "base_uri": "https://localhost:8080/"
        },
        "id": "iA58vFbDM9gg",
        "outputId": "c155358a-9d58-4484-9eca-bcc86a6727ea"
      },
      "execution_count": 129,
      "outputs": [
        {
          "output_type": "execute_result",
          "data": {
            "text/plain": [
              "['nombre', 'edad_peces']"
            ]
          },
          "metadata": {},
          "execution_count": 129
        }
      ]
    },
    {
      "cell_type": "code",
      "source": [
        "%%R\n",
        "alcalinidad = alcalinidad_normalized\n",
        "calcio = calcio_normalized\n",
        "ph = ph_normalized\n",
        "clorofila = clorofila_normalized\n",
        "media_merc_porc = media_merc_porc_normalized\n",
        "num_peces = num_peces_normalized"
      ],
      "metadata": {
        "id": "pLQXdgvYbNll"
      },
      "execution_count": 130,
      "outputs": []
    },
    {
      "cell_type": "code",
      "source": [
        "%%R\n",
        "alcalinidad = (alcalinidad-mean(alcalinidad))/sd(alcalinidad)\n",
        "calcio = (calcio -mean(calcio))/sd(calcio)\n",
        "ph = (ph-mean(ph))/sd(ph)\n",
        "clorofila = (clorofila-mean(clorofila))/sd(clorofila)\n",
        "media_merc_porc = (media_merc_porc-mean(media_merc_porc))/sd(media_merc_porc)\n",
        "num_peces = (num_peces-mean(num_peces))/sd(num_peces)\n",
        "edad_peces = (edad_peces-mean(edad_peces))/sd(edad_peces)"
      ],
      "metadata": {
        "id": "bUPxBd1vM7LA"
      },
      "execution_count": 150,
      "outputs": []
    },
    {
      "cell_type": "code",
      "source": [
        "%%R -i df\n",
        "forMatrix <- subset(df, select= -c(nombre))\n",
        "rcorr(as.matrix(forMatrix))"
      ],
      "metadata": {
        "id": "h-igAYRF67IA",
        "colab": {
          "base_uri": "https://localhost:8080/"
        },
        "outputId": "ce963542-7ed9-4466-b7d3-52f28ae48ceb"
      },
      "execution_count": 132,
      "outputs": [
        {
          "output_type": "stream",
          "name": "stdout",
          "text": [
            "                   alcalinidad    ph calcio clorofila media_merc_porc num_peces\n",
            "alcalinidad               1.00  0.72   0.83      0.48           -0.59      0.01\n",
            "ph                        0.72  1.00   0.58      0.61           -0.58     -0.02\n",
            "calcio                    0.83  0.58   1.00      0.41           -0.40     -0.09\n",
            "clorofila                 0.48  0.61   0.41      1.00           -0.49     -0.01\n",
            "media_merc_porc          -0.59 -0.58  -0.40     -0.49            1.00      0.08\n",
            "num_peces                 0.01 -0.02  -0.09     -0.01            0.08      1.00\n",
            "min_merc_porc            -0.53 -0.54  -0.33     -0.40            0.93     -0.08\n",
            "max_merc_porc            -0.60 -0.55  -0.41     -0.48            0.92      0.16\n",
            "merc_estimado_porc       -0.63 -0.61  -0.46     -0.51            0.96      0.03\n",
            "edad_peces               -0.09  0.04   0.00     -0.28            0.11      0.21\n",
            "                   min_merc_porc max_merc_porc merc_estimado_porc edad_peces\n",
            "alcalinidad                -0.53         -0.60              -0.63      -0.09\n",
            "ph                         -0.54         -0.55              -0.61       0.04\n",
            "calcio                     -0.33         -0.41              -0.46       0.00\n",
            "clorofila                  -0.40         -0.48              -0.51      -0.28\n",
            "media_merc_porc             0.93          0.92               0.96       0.11\n",
            "num_peces                  -0.08          0.16               0.03       0.21\n",
            "min_merc_porc               1.00          0.77               0.92       0.10\n",
            "max_merc_porc               0.77          1.00               0.86       0.09\n",
            "merc_estimado_porc          0.92          0.86               1.00       0.09\n",
            "edad_peces                  0.10          0.09               0.09       1.00\n",
            "\n",
            "n= 53 \n",
            "\n",
            "\n",
            "P\n",
            "                   alcalinidad ph     calcio clorofila media_merc_porc\n",
            "alcalinidad                    0.0000 0.0000 0.0003    0.0000         \n",
            "ph                 0.0000             0.0000 0.0000    0.0000         \n",
            "calcio             0.0000      0.0000        0.0023    0.0029         \n",
            "clorofila          0.0003      0.0000 0.0023           0.0002         \n",
            "media_merc_porc    0.0000      0.0000 0.0029 0.0002                   \n",
            "num_peces          0.9417      0.8948 0.5245 0.9331    0.5737         \n",
            "min_merc_porc      0.0000      0.0000 0.0150 0.0030    0.0000         \n",
            "max_merc_porc      0.0000      0.0000 0.0024 0.0002    0.0000         \n",
            "merc_estimado_porc 0.0000      0.0000 0.0005 0.0001    0.0000         \n",
            "edad_peces         0.4989      0.7870 0.9880 0.0400    0.4383         \n",
            "                   num_peces min_merc_porc max_merc_porc merc_estimado_porc\n",
            "alcalinidad        0.9417    0.0000        0.0000        0.0000            \n",
            "ph                 0.8948    0.0000        0.0000        0.0000            \n",
            "calcio             0.5245    0.0150        0.0024        0.0005            \n",
            "clorofila          0.9331    0.0030        0.0002        0.0001            \n",
            "media_merc_porc    0.5737    0.0000        0.0000        0.0000            \n",
            "num_peces                    0.5611        0.2492        0.8545            \n",
            "min_merc_porc      0.5611                  0.0000        0.0000            \n",
            "max_merc_porc      0.2492    0.0000                      0.0000            \n",
            "merc_estimado_porc 0.8545    0.0000        0.0000                          \n",
            "edad_peces         0.1351    0.4733        0.5043        0.5243            \n",
            "                   edad_peces\n",
            "alcalinidad        0.4989    \n",
            "ph                 0.7870    \n",
            "calcio             0.9880    \n",
            "clorofila          0.0400    \n",
            "media_merc_porc    0.4383    \n",
            "num_peces          0.1351    \n",
            "min_merc_porc      0.4733    \n",
            "max_merc_porc      0.5043    \n",
            "merc_estimado_porc 0.5243    \n",
            "edad_peces                   \n"
          ]
        }
      ]
    },
    {
      "cell_type": "markdown",
      "source": [
        "### Análisis de correlación"
      ],
      "metadata": {
        "id": "mhORpLcD8HFK"
      }
    },
    {
      "cell_type": "markdown",
      "source": [
        "### Hipótesis\n",
        "\n"
      ],
      "metadata": {
        "id": "uHw0ykTa7owP"
      }
    },
    {
      "cell_type": "markdown",
      "source": [
        "Para analizar la correlación se establecen las siguientes hipótesis:\n",
        "\n",
        "$H_0: \\rho = 0$\n",
        "\n",
        "$H_1: \\rho \\neq 0$"
      ],
      "metadata": {
        "id": "XtwdpfR07wc_"
      }
    },
    {
      "cell_type": "markdown",
      "source": [
        "### Regla de decisión:\n",
        "\n"
      ],
      "metadata": {
        "id": "e9Cr1EVy7qIV"
      }
    },
    {
      "cell_type": "markdown",
      "source": [
        "\n",
        "$\\alpha = 0.05$\n",
        "\n",
        "Se rechaza $H_0$ si valor p < $\\alpha$"
      ],
      "metadata": {
        "id": "m7_9mWWi7xzo"
      }
    },
    {
      "cell_type": "markdown",
      "source": [
        "### Análisis de resultado\n",
        "\n"
      ],
      "metadata": {
        "id": "ro-pPu0F2HrL"
      }
    },
    {
      "cell_type": "markdown",
      "source": [
        "\n",
        "**alcalinidad** \n",
        "\n",
        "valor p = 0.0000\n",
        "\n",
        "Debido a que el valor p de la alcalinidad es menor de 0.05, la hipótesis nula se rechaza.\n",
        "\n",
        "Por lo tanto $\\rho \\neq 0$, hay correlación.\n",
        "<br><br>\n",
        "**ph**\n",
        "\n",
        "valor p =  0.0000   \n",
        "\n",
        "Debido a que el valor p del ph es menor de 0.05, la hipótesis nula se rechaza.\n",
        "\n",
        "Por lo tanto $\\rho \\neq 0$, hay correlación.\n",
        "<br><br>\n",
        "**calcio**\n",
        "\n",
        "valor p =  0.0029\n",
        "\n",
        "Debido a que el valor p del calcio es menor de 0.05, la hipótesis nula se rechaza.\n",
        "\n",
        "Por lo tanto $\\rho \\neq 0$, hay correlación.\n",
        "<br><br>\n",
        "**clorofila**\n",
        "\n",
        "valor p =  0.0002\n",
        "\n",
        "Debido a que el valor p de la clorofila es menor de 0.05, la hipótesis nula se rechaza.\n",
        "\n",
        "Por lo tanto $\\rho \\neq 0$, hay correlación.\n",
        "<br><br>\n",
        "**num_peces**\n",
        "\n",
        "valor p =  0.5737\n",
        "\n",
        "Debido a que el valor p del número de peces es mayor de 0.05, la hipótesis nula no se rechaza\n",
        "\n",
        "Por lo tanto $\\rho = 0$, no hay correlación.\n",
        "<br><br>\n",
        "**min_merc_porc**\n",
        "\n",
        "valor p =  0.0000\n",
        "\n",
        "Debido a que el valor p de la concentración mínima de mercurio es menor de 0.05, la hipótesis nula se rechaza.\n",
        "\n",
        "Por lo tanto $\\rho \\neq 0$, hay correlación.\n",
        "<br><br>\n",
        "**max_merc_porc**\n",
        "\n",
        "valor p =  0.0000\n",
        "\n",
        "Debido a que el valor p de la concentración máxima de mercurio es menor de 0.05, la hipótesis nula se rechaza.\n",
        "\n",
        "Por lo tanto $\\rho \\neq 0$, hay correlación.\n",
        "<br><br>\n",
        "**merc_estimado_porc**\n",
        "\n",
        "valor p =  0.0000\n",
        "\n",
        "Debido a que el valor p de la estimación de concentración de mercurio es menor de 0.05, la hipótesis nula se rechaza.\n",
        "\n",
        "Por lo tanto $\\rho \\neq 0$, hay correlación.\n",
        "<br><br>\n",
        "**edad_peces**\n",
        "\n",
        "valor p =  0.4383\n",
        "\n",
        "Debido a que el valor p de la edad de los peces es mayor de 0.05, la hipótesis nula no se rechaza.\n",
        "\n",
        "Por lo tanto $\\rho = 0$, no hay correlación."
      ],
      "metadata": {
        "id": "9NCxa5_N71YE"
      }
    },
    {
      "cell_type": "markdown",
      "source": [
        "Analiza los datos y pregunta base"
      ],
      "metadata": {
        "id": "xvGDHVviPNLR"
      }
    },
    {
      "cell_type": "markdown",
      "source": [
        "### Variables significativas"
      ],
      "metadata": {
        "id": "0SmP71UG8L5O"
      }
    },
    {
      "cell_type": "markdown",
      "source": [
        "\n",
        "- Alcalinidad\n",
        "- Ph\n",
        "- Calcio\n",
        "- Colorofila\n",
        "- Mínimo de concentración de mercurio\n",
        "- Máximo de concentración de mercurio\n",
        "- Estimación de concentración de mercurio"
      ],
      "metadata": {
        "id": "J71OzILP8UYo"
      }
    },
    {
      "cell_type": "markdown",
      "source": [
        "### Variables no significativas"
      ],
      "metadata": {
        "id": "kQjftoos9eYo"
      }
    },
    {
      "cell_type": "markdown",
      "source": [
        "- Número de peces\n",
        "- Edad de los peces"
      ],
      "metadata": {
        "id": "n7Zsgo4q9hHg"
      }
    },
    {
      "cell_type": "markdown",
      "source": [
        "### Elección del mejor modelo"
      ],
      "metadata": {
        "id": "hAh-AGEO80ox"
      }
    },
    {
      "cell_type": "markdown",
      "source": [
        "Se decidirá el mejor modelo utilizando el método mixto de eliminación y agregación de atributos así como la utilización del criterio de información de Akaike"
      ],
      "metadata": {
        "id": "BvTRxtvZ82nM"
      }
    },
    {
      "cell_type": "code",
      "source": [
        "%%R\n",
        "R = lm(media_merc_porc ~ alcalinidad + ph + calcio + clorofila + min_merc_porc + max_merc_porc + merc_estimado_porc)\n",
        "summary(R)"
      ],
      "metadata": {
        "id": "cS525u9n4MEg",
        "colab": {
          "base_uri": "https://localhost:8080/"
        },
        "outputId": "e053ff20-7715-4346-c4d6-808a770063d3"
      },
      "execution_count": 133,
      "outputs": [
        {
          "output_type": "stream",
          "name": "stdout",
          "text": [
            "\n",
            "Call:\n",
            "lm(formula = media_merc_porc ~ alcalinidad + ph + calcio + clorofila + \n",
            "    min_merc_porc + max_merc_porc + merc_estimado_porc)\n",
            "\n",
            "Residuals:\n",
            "     Min       1Q   Median       3Q      Max \n",
            "-0.63361 -0.13694  0.04449  0.17486  0.45236 \n",
            "\n",
            "Coefficients:\n",
            "                   Estimate Std. Error t value Pr(>|t|)    \n",
            "(Intercept)        -1.46683    0.09794 -14.977  < 2e-16 ***\n",
            "alcalinidad         0.01369    0.09569   0.143  0.88686    \n",
            "ph                  0.03264    0.07740   0.422  0.67524    \n",
            "calcio             -0.08580    0.07668  -1.119  0.26915    \n",
            "clorofila          -0.07877    0.05396  -1.460  0.15127    \n",
            "min_merc_porc       1.44460    0.44635   3.236  0.00227 ** \n",
            "max_merc_porc       1.02467    0.14346   7.143 6.27e-09 ***\n",
            "merc_estimado_porc  0.32445    0.42948   0.755  0.45392    \n",
            "---\n",
            "Signif. codes:  0 ‘***’ 0.001 ‘**’ 0.01 ‘*’ 0.05 ‘.’ 0.1 ‘ ’ 1\n",
            "\n",
            "Residual standard error: 0.2588 on 45 degrees of freedom\n",
            "Multiple R-squared:  0.942,\tAdjusted R-squared:  0.933 \n",
            "F-statistic: 104.5 on 7 and 45 DF,  p-value: < 2.2e-16\n",
            "\n"
          ]
        }
      ]
    },
    {
      "cell_type": "code",
      "source": [
        "%%R\n",
        "step(R, direction = \"both\", trace = 1)"
      ],
      "metadata": {
        "id": "WuM28Qyf44C4",
        "colab": {
          "base_uri": "https://localhost:8080/"
        },
        "outputId": "6664f7e5-24a1-4d4b-b72a-7e37d041c3bb"
      },
      "execution_count": 134,
      "outputs": [
        {
          "output_type": "stream",
          "name": "stdout",
          "text": [
            "Start:  AIC=-135.96\n",
            "media_merc_porc ~ alcalinidad + ph + calcio + clorofila + min_merc_porc + \n",
            "    max_merc_porc + merc_estimado_porc\n",
            "\n",
            "                     Df Sum of Sq    RSS      AIC\n",
            "- alcalinidad         1    0.0014 3.0149 -137.936\n",
            "- ph                  1    0.0119 3.0255 -137.751\n",
            "- merc_estimado_porc  1    0.0382 3.0518 -137.292\n",
            "- calcio              1    0.0838 3.0974 -136.506\n",
            "<none>                            3.0136 -135.960\n",
            "- clorofila           1    0.1427 3.1563 -135.508\n",
            "- min_merc_porc       1    0.7015 3.7150 -126.869\n",
            "- max_merc_porc       1    3.4164 6.4299  -97.794\n",
            "\n",
            "Step:  AIC=-137.94\n",
            "media_merc_porc ~ ph + calcio + clorofila + min_merc_porc + max_merc_porc + \n",
            "    merc_estimado_porc\n",
            "\n",
            "                     Df Sum of Sq    RSS      AIC\n",
            "- ph                  1    0.0185 3.0334 -139.612\n",
            "- merc_estimado_porc  1    0.0370 3.0519 -139.290\n",
            "- calcio              1    0.1110 3.1259 -138.021\n",
            "<none>                            3.0149 -137.936\n",
            "- clorofila           1    0.1517 3.1667 -137.334\n",
            "+ alcalinidad         1    0.0014 3.0136 -135.960\n",
            "- min_merc_porc       1    0.7103 3.7252 -128.724\n",
            "- max_merc_porc       1    3.4163 6.4312  -99.784\n",
            "\n",
            "Step:  AIC=-139.61\n",
            "media_merc_porc ~ calcio + clorofila + min_merc_porc + max_merc_porc + \n",
            "    merc_estimado_porc\n",
            "\n",
            "                     Df Sum of Sq    RSS     AIC\n",
            "- merc_estimado_porc  1    0.0540 3.0874 -140.68\n",
            "- calcio              1    0.1062 3.1396 -139.79\n",
            "<none>                            3.0334 -139.61\n",
            "- clorofila           1    0.1365 3.1698 -139.28\n",
            "+ ph                  1    0.0185 3.0149 -137.94\n",
            "+ alcalinidad         1    0.0079 3.0255 -137.75\n",
            "- min_merc_porc       1    0.6976 3.7310 -130.64\n",
            "- max_merc_porc       1    3.5438 6.5772 -100.59\n",
            "\n",
            "Step:  AIC=-140.68\n",
            "media_merc_porc ~ calcio + clorofila + min_merc_porc + max_merc_porc\n",
            "\n",
            "                     Df Sum of Sq    RSS      AIC\n",
            "<none>                            3.0874 -140.677\n",
            "- calcio              1    0.1584 3.2458 -140.025\n",
            "+ merc_estimado_porc  1    0.0540 3.0334 -139.612\n",
            "+ ph                  1    0.0355 3.0519 -139.290\n",
            "+ alcalinidad         1    0.0031 3.0843 -138.731\n",
            "- clorofila           1    0.2531 3.3405 -138.501\n",
            "- min_merc_porc       1    3.0567 6.1441 -106.205\n",
            "- max_merc_porc       1    6.5441 9.6315  -82.379\n",
            "\n",
            "Call:\n",
            "lm(formula = media_merc_porc ~ calcio + clorofila + min_merc_porc + \n",
            "    max_merc_porc)\n",
            "\n",
            "Coefficients:\n",
            "  (Intercept)         calcio      clorofila  min_merc_porc  max_merc_porc  \n",
            "     -1.42154       -0.06803       -0.08344        1.70520        1.07991  \n",
            "\n"
          ]
        }
      ]
    },
    {
      "cell_type": "markdown",
      "source": [
        "Aunque las variables para el mejor modelo son **min_merc_porc, max_merc_porc y merc_estimado_porc**, el mínimo y máximo son obtenidos tras la captura de datos y como intentamos predecir la concentración del mercurio no tendría sentido tomarlas en cuenta, pues tenerlas significa que ya conocemos dicho valor. El valor estimado ya es una regresión, por lo que tampoco se tomará en cuenta.\n",
        "Debido a esta exclusión de variables es necesario realizar nuevamente la significancia de las variables y buscar el mejor modelo."
      ],
      "metadata": {
        "id": "TyI7-ON1fyUM"
      }
    },
    {
      "cell_type": "code",
      "source": [
        "%%R\n",
        "R = lm(media_merc_porc ~ alcalinidad + ph + calcio + clorofila)\n",
        "summary(R)"
      ],
      "metadata": {
        "id": "3wLQL7fOixMc",
        "colab": {
          "base_uri": "https://localhost:8080/"
        },
        "outputId": "dff4f9ff-ada9-406a-86c6-a706a746fffd"
      },
      "execution_count": 135,
      "outputs": [
        {
          "output_type": "stream",
          "name": "stdout",
          "text": [
            "\n",
            "Call:\n",
            "lm(formula = media_merc_porc ~ alcalinidad + ph + calcio + clorofila)\n",
            "\n",
            "Residuals:\n",
            "     Min       1Q   Median       3Q      Max \n",
            "-1.32873 -0.46892  0.00616  0.31554  2.09669 \n",
            "\n",
            "Coefficients:\n",
            "              Estimate Std. Error t value Pr(>|t|)   \n",
            "(Intercept) -7.410e-17  9.865e-02   0.000  1.00000   \n",
            "alcalinidad -7.817e-01  2.271e-01  -3.441  0.00121 **\n",
            "ph          -5.759e-02  2.030e-01  -0.284  0.77782   \n",
            "calcio       2.752e-01  2.035e-01   1.352  0.18264   \n",
            "clorofila   -1.898e-01  1.309e-01  -1.449  0.15372   \n",
            "---\n",
            "Signif. codes:  0 ‘***’ 0.001 ‘**’ 0.01 ‘*’ 0.05 ‘.’ 0.1 ‘ ’ 1\n",
            "\n",
            "Residual standard error: 0.7182 on 48 degrees of freedom\n",
            "Multiple R-squared:  0.5239,\tAdjusted R-squared:  0.4842 \n",
            "F-statistic:  13.2 on 4 and 48 DF,  p-value: 2.5e-07\n",
            "\n"
          ]
        }
      ]
    },
    {
      "cell_type": "code",
      "source": [
        "%%R\n",
        "step(R, direction = \"both\", trace = 1)"
      ],
      "metadata": {
        "id": "QckcF-NZiyQy",
        "colab": {
          "base_uri": "https://localhost:8080/"
        },
        "outputId": "dfcc442d-e029-4062-ea40-0b403d021c81"
      },
      "execution_count": 136,
      "outputs": [
        {
          "output_type": "stream",
          "name": "stdout",
          "text": [
            "Start:  AIC=-30.34\n",
            "media_merc_porc ~ alcalinidad + ph + calcio + clorofila\n",
            "\n",
            "              Df Sum of Sq    RSS     AIC\n",
            "- ph           1    0.0415 24.800 -32.251\n",
            "- calcio       1    0.9431 25.702 -30.358\n",
            "<none>                     24.759 -30.340\n",
            "- clorofila    1    1.0836 25.842 -30.069\n",
            "- alcalinidad  1    6.1090 30.867 -20.651\n",
            "\n",
            "Step:  AIC=-32.25\n",
            "media_merc_porc ~ alcalinidad + calcio + clorofila\n",
            "\n",
            "              Df Sum of Sq    RSS     AIC\n",
            "- calcio       1    0.9016 25.702 -32.358\n",
            "<none>                     24.800 -32.251\n",
            "- clorofila    1    1.5601 26.360 -31.017\n",
            "+ ph           1    0.0415 24.758 -30.340\n",
            "- alcalinidad  1    8.2080 33.008 -19.098\n",
            "\n",
            "Step:  AIC=-32.36\n",
            "media_merc_porc ~ alcalinidad + clorofila\n",
            "\n",
            "              Df Sum of Sq    RSS     AIC\n",
            "<none>                     25.702 -32.358\n",
            "+ calcio       1    0.9016 24.800 -32.251\n",
            "- clorofila    1    1.3443 27.046 -31.656\n",
            "+ ph           1    0.0000 25.702 -30.358\n",
            "- alcalinidad  1   13.0297 38.731 -12.623\n",
            "\n",
            "Call:\n",
            "lm(formula = media_merc_porc ~ alcalinidad + clorofila)\n",
            "\n",
            "Coefficients:\n",
            "(Intercept)  alcalinidad    clorofila  \n",
            " -6.420e-17   -5.915e-01   -1.900e-01  \n",
            "\n"
          ]
        }
      ]
    },
    {
      "cell_type": "markdown",
      "source": [
        "**Mejor modelo**\n",
        "\n",
        "Se encontró que el mejor modelo para predecir la concentración media de mercurio en un lago es mediante los atributos **alcalinidad** y **clorofila**."
      ],
      "metadata": {
        "id": "snyefu__C66A"
      }
    },
    {
      "cell_type": "code",
      "source": [
        "%%R\n",
        "R = lm(media_merc_porc ~ alcalinidad + clorofila)\n",
        "summary(R)"
      ],
      "metadata": {
        "colab": {
          "base_uri": "https://localhost:8080/"
        },
        "id": "WkBvRCY8c0ek",
        "outputId": "eead2260-d7a4-46b1-ef63-97678398f798"
      },
      "execution_count": 137,
      "outputs": [
        {
          "output_type": "stream",
          "name": "stdout",
          "text": [
            "\n",
            "Call:\n",
            "lm(formula = media_merc_porc ~ alcalinidad + clorofila)\n",
            "\n",
            "Residuals:\n",
            "     Min       1Q   Median       3Q      Max \n",
            "-1.37619 -0.47221 -0.07086  0.29015  2.27102 \n",
            "\n",
            "Coefficients:\n",
            "              Estimate Std. Error t value Pr(>|t|)    \n",
            "(Intercept) -6.420e-17  9.848e-02   0.000    1.000    \n",
            "alcalinidad -5.915e-01  1.175e-01  -5.035 6.59e-06 ***\n",
            "clorofila   -1.900e-01  1.175e-01  -1.617    0.112    \n",
            "---\n",
            "Signif. codes:  0 ‘***’ 0.001 ‘**’ 0.01 ‘*’ 0.05 ‘.’ 0.1 ‘ ’ 1\n",
            "\n",
            "Residual standard error: 0.717 on 50 degrees of freedom\n",
            "Multiple R-squared:  0.5057,\tAdjusted R-squared:  0.486 \n",
            "F-statistic: 25.58 on 2 and 50 DF,  p-value: 2.233e-08\n",
            "\n"
          ]
        }
      ]
    },
    {
      "cell_type": "code",
      "source": [
        "%%R\n",
        "media_merc_porc"
      ],
      "metadata": {
        "colab": {
          "base_uri": "https://localhost:8080/"
        },
        "id": "l4QmVCFu6Fyj",
        "outputId": "1a2d1135-8582-4112-fba5-2c5c88f011fd"
      },
      "execution_count": 149,
      "outputs": [
        {
          "output_type": "stream",
          "name": "stdout",
          "text": [
            " [1]  1.70862298  1.88209491 -2.02681749 -0.07251709  1.65511904 -0.66306747\n",
            " [7]  0.04750189 -1.01232467  0.92519846  0.88117213  0.65176948  0.10550390\n",
            "[13]  0.07666134  1.58265402 -1.92251876 -1.21715927 -1.01232467  0.79133881\n",
            "[19]  1.43359767  1.23870232  0.45545723  0.27241515 -0.16641854  0.69897064\n",
            "[25] -0.40094698  0.35228043 -0.40094698  0.94699869  0.10550390 -0.40094698\n",
            "[31] -0.62355734 -0.40094698  1.01157830  0.27241515 -1.11150829 -1.06117857\n",
            "[37] -1.01232467 -2.02681749  0.07666134  1.47140119 -1.16344937 -1.52012452\n",
            "[43]  0.04750189 -0.91858821  0.99018615  0.16227664  0.50573087 -0.66306747\n",
            "[49]  1.15777212 -0.19853244 -0.10342556 -0.74450935 -0.66306747\n"
          ]
        }
      ]
    },
    {
      "cell_type": "markdown",
      "source": [
        "# Análisis de los residuos:\n",
        "\n"
      ],
      "metadata": {
        "id": "47z9iDjuaeXO"
      }
    },
    {
      "cell_type": "markdown",
      "source": [
        "## Normalidad de los residuos"
      ],
      "metadata": {
        "id": "C1mK8lTf5YRK"
      }
    },
    {
      "cell_type": "markdown",
      "source": [
        "###  Hipótesis:\n",
        "\n",
        "$H_0:$ Los datos provienen de una población normal\n",
        "\n",
        "$H_1:$ Los datos no provienen de una población normal"
      ],
      "metadata": {
        "id": "Myg9Tn2f5oOy"
      }
    },
    {
      "cell_type": "markdown",
      "source": [
        "\n",
        "### Regla de decisión:\n",
        "\n",
        "$\\alpha = 0.05$\n",
        "\n",
        "Se rechaza $H_0$ si valor p < $\\alpha$"
      ],
      "metadata": {
        "id": "_O0sOKbS5qvj"
      }
    },
    {
      "cell_type": "markdown",
      "source": [
        "\n",
        "\n",
        "### Análisis de resultado\n"
      ],
      "metadata": {
        "id": "Ne_R3eHLnUka"
      }
    },
    {
      "cell_type": "code",
      "source": [
        "%%R\n",
        "\n",
        "shapiro.test(R$residuals)\n",
        "#Gráficas auxiliares:\n",
        "qqnorm(R$residuals)\n",
        "qqline(R$residuals)\n",
        "hist(R$residuals,freq=FALSE)\n",
        "lines(density(R$residual),col=\"red\")\n",
        "curve(dnorm(x,mean=mean(R$residuals),sd=sd(R$residuals)), from=-15,to=10,add=TRUE, col=\"blue\",lwd=2)\n",
        "\n"
      ],
      "metadata": {
        "colab": {
          "base_uri": "https://localhost:8080/",
          "height": 977
        },
        "id": "tnOD99wUaB4x",
        "outputId": "cc14b503-7db1-4fce-bf94-97c7c938f1f9"
      },
      "execution_count": 138,
      "outputs": [
        {
          "output_type": "display_data",
          "data": {
            "image/png": "[encoded data removed]"
          },
          "metadata": {}
        },
        {
          "output_type": "display_data",
          "data": {
            "image/png": "[encoded data removed]"
          },
          "metadata": {}
        }
      ]
    },
    {
      "cell_type": "code",
      "source": [
        "%%R\n",
        "shapiro.test(R$residuals)\n"
      ],
      "metadata": {
        "colab": {
          "base_uri": "https://localhost:8080/"
        },
        "id": "haXdx_MQd1H_",
        "outputId": "c03fd439-079e-4cf3-ff89-1f6f1df83849"
      },
      "execution_count": 139,
      "outputs": [
        {
          "output_type": "stream",
          "name": "stdout",
          "text": [
            "\n",
            "\tShapiro-Wilk normality test\n",
            "\n",
            "data:  R$residuals\n",
            "W = 0.96719, p-value = 0.1523\n",
            "\n"
          ]
        }
      ]
    },
    {
      "cell_type": "markdown",
      "source": [
        "### Conclusión\n",
        "\n",
        "Debido a que el valor p es mayor a 0.05, no se rechaza la hipótesis nula, por lo tanto los datos provienen de una población normal"
      ],
      "metadata": {
        "id": "rB0eU00WdrMv"
      }
    },
    {
      "cell_type": "markdown",
      "source": [
        "## Verificación de media cero\n",
        "\n",
        "\n",
        "\n"
      ],
      "metadata": {
        "id": "2YPvcqE7bK2x"
      }
    },
    {
      "cell_type": "markdown",
      "source": [
        "### Hipótesis:\n",
        "\n",
        "$H_0: \\mu = 0$\n",
        "\n",
        "$H_1: \\mu \\neq 0$\n",
        "\n",
        "### Regla de decisión:\n",
        "\n",
        "$\\alpha = 0.05$\n",
        "\n",
        "Se rechaza $H_0$ si valor p < $\\alpha$\n",
        "\n",
        "### Análisis de resultado"
      ],
      "metadata": {
        "id": "gsIM6RzS5OyW"
      }
    },
    {
      "cell_type": "code",
      "source": [
        "%%R\n",
        "# Hombres\n",
        "t.test(R$residuals)"
      ],
      "metadata": {
        "colab": {
          "base_uri": "https://localhost:8080/"
        },
        "id": "1iD-F89NaGDI",
        "outputId": "70f7df80-34c5-464f-989e-ce48634b8c29"
      },
      "execution_count": 140,
      "outputs": [
        {
          "output_type": "stream",
          "name": "stdout",
          "text": [
            "\n",
            "\tOne Sample t-test\n",
            "\n",
            "data:  R$residuals\n",
            "t = 2.2182e-16, df = 52, p-value = 1\n",
            "alternative hypothesis: true mean is not equal to 0\n",
            "95 percent confidence interval:\n",
            " -0.1937812  0.1937812\n",
            "sample estimates:\n",
            "  mean of x \n",
            "2.14213e-17 \n",
            "\n"
          ]
        }
      ]
    },
    {
      "cell_type": "markdown",
      "source": [
        "Conclusión\n",
        "\n",
        "Ya que el valor p es 1, mayor a $\\alpha = 0.05$, la hipótesis nula no se rechaza, por lo tanto la media de los residuos es 0"
      ],
      "metadata": {
        "id": "x2_HLs5Ndwsl"
      }
    },
    {
      "cell_type": "markdown",
      "source": [
        "## Homocedasticidad"
      ],
      "metadata": {
        "id": "xYTB4l-nbN48"
      }
    },
    {
      "cell_type": "code",
      "source": [
        "%%R\n",
        "\n",
        "# Hombres\n",
        "plot(R$fitted.values,R$residuals)\n",
        "abline(h=0, col=\"blue\")"
      ],
      "metadata": {
        "colab": {
          "base_uri": "https://localhost:8080/",
          "height": 497
        },
        "id": "0a-YlEBMaImz",
        "outputId": "cf000716-e66c-4643-8059-9e487decb204"
      },
      "execution_count": 141,
      "outputs": [
        {
          "output_type": "display_data",
          "data": {
            "image/png": "[encoded data removed]"
          },
          "metadata": {}
        }
      ]
    },
    {
      "cell_type": "markdown",
      "source": [
        "Conclusión\n",
        "\n",
        "Se puede observar que los datos no siguen ninguna tendencia distribuyéndose de manera homogénea a excepción de algunos datos aparentemente atípicos.\n"
      ],
      "metadata": {
        "id": "aqSiPgS4d_fA"
      }
    },
    {
      "cell_type": "markdown",
      "source": [
        "## Independencia"
      ],
      "metadata": {
        "id": "RFuyqx0z5cUn"
      }
    },
    {
      "cell_type": "markdown",
      "source": [
        "\n",
        "Prueba de autocorrelación para verificar independencia: \n",
        "\n",
        "$H_0: \\rho = 0$\n",
        "\n",
        "$H_1: \\rho \\neq 0$\n"
      ],
      "metadata": {
        "id": "8m4atpJVbQ4G"
      }
    },
    {
      "cell_type": "code",
      "source": [
        "%%R\n",
        "plot(c(1:53), R$residuals, type=\"l\", xlab=\"Orden de los datos\", ylab = \"Residuos\")\n",
        "abline(h=0, col=\"blue\")"
      ],
      "metadata": {
        "colab": {
          "base_uri": "https://localhost:8080/",
          "height": 497
        },
        "id": "QrKSaZQFkFxi",
        "outputId": "d423de20-356c-451d-e09f-957090de41da"
      },
      "execution_count": 142,
      "outputs": [
        {
          "output_type": "display_data",
          "data": {
            "image/png": "[encoded data removed]"
          },
          "metadata": {}
        }
      ]
    },
    {
      "cell_type": "code",
      "source": [
        "%%R\n",
        "library(car)\n",
        "dwt(R,alternative = \"two.sided\")\n"
      ],
      "metadata": {
        "colab": {
          "base_uri": "https://localhost:8080/"
        },
        "id": "UZaIB_kEaXZL",
        "outputId": "b7d2d57e-94c8-47bf-dcbe-62f2043ad639"
      },
      "execution_count": 143,
      "outputs": [
        {
          "output_type": "stream",
          "name": "stdout",
          "text": [
            " lag Autocorrelation D-W Statistic p-value\n",
            "   1      0.02690187      1.926779   0.784\n",
            " Alternative hypothesis: rho != 0\n"
          ]
        }
      ]
    },
    {
      "cell_type": "markdown",
      "source": [
        "Conclusión\n",
        "\n",
        "No parecen encontrarse patrones ni tendencias entre los residuos, además de tener un valor p mayor a 0.05, por lo que no se rechaza la hipótesis nula, no hay autocorrelación y por lo tanto hay independencia."
      ],
      "metadata": {
        "id": "OBgR0v8ch-TC"
      }
    },
    {
      "cell_type": "markdown",
      "source": [
        "Conclusión del análisis de los residuos\n",
        "\n",
        "Debido a los resultados de los análisis anteriores de normalidad, homocedasticidad, media cero e independencia, podemos confiar en la fiabilidad del modelo."
      ],
      "metadata": {
        "id": "KNIOR2-Ek1d5"
      }
    },
    {
      "cell_type": "markdown",
      "source": [
        "# Modelo"
      ],
      "metadata": {
        "id": "Ks9D4a8Cnf_A"
      }
    },
    {
      "cell_type": "markdown",
      "source": [
        "## Coeficiente de determinación"
      ],
      "metadata": {
        "id": "f4wmU2BNnmRp"
      }
    },
    {
      "cell_type": "code",
      "source": [
        "%%R\n",
        "summary(R)"
      ],
      "metadata": {
        "colab": {
          "base_uri": "https://localhost:8080/"
        },
        "id": "youdKSainoXA",
        "outputId": "73860539-dc05-4294-9be5-f2403313d761"
      },
      "execution_count": 144,
      "outputs": [
        {
          "output_type": "stream",
          "name": "stdout",
          "text": [
            "\n",
            "Call:\n",
            "lm(formula = media_merc_porc ~ alcalinidad + clorofila)\n",
            "\n",
            "Residuals:\n",
            "     Min       1Q   Median       3Q      Max \n",
            "-1.37619 -0.47221 -0.07086  0.29015  2.27102 \n",
            "\n",
            "Coefficients:\n",
            "              Estimate Std. Error t value Pr(>|t|)    \n",
            "(Intercept) -6.420e-17  9.848e-02   0.000    1.000    \n",
            "alcalinidad -5.915e-01  1.175e-01  -5.035 6.59e-06 ***\n",
            "clorofila   -1.900e-01  1.175e-01  -1.617    0.112    \n",
            "---\n",
            "Signif. codes:  0 ‘***’ 0.001 ‘**’ 0.01 ‘*’ 0.05 ‘.’ 0.1 ‘ ’ 1\n",
            "\n",
            "Residual standard error: 0.717 on 50 degrees of freedom\n",
            "Multiple R-squared:  0.5057,\tAdjusted R-squared:  0.486 \n",
            "F-statistic: 25.58 on 2 and 50 DF,  p-value: 2.233e-08\n",
            "\n"
          ]
        }
      ]
    },
    {
      "cell_type": "markdown",
      "source": [
        "Coeficiente de correlación: 0.5057\n",
        "Proporción de varianza explicada por el modelo, aun cuando esta no es óptima, no es un valor cercano a 0."
      ],
      "metadata": {
        "id": "pyIVTRdlnuXa"
      }
    },
    {
      "cell_type": "markdown",
      "source": [
        "## F-statistic\n"
      ],
      "metadata": {
        "id": "vzHjUcEM_iW_"
      }
    },
    {
      "cell_type": "markdown",
      "source": [
        "### Hipótesis\n",
        "$H_0:$ El modelo no tiene capacidad predictiva\n",
        "\n",
        "$H_1:$ El modelo tiene capacidad predictiva"
      ],
      "metadata": {
        "id": "a4lPJSeB_jtD"
      }
    },
    {
      "cell_type": "markdown",
      "source": [
        "### Regla de decisión\n",
        "$\\alpha = 0.05$\n",
        "\n",
        "Se rechaza la hipótesis nula si:\n",
        "\n",
        "valor p < $\\alpha$\n"
      ],
      "metadata": {
        "id": "4oF5plM4_lS0"
      }
    },
    {
      "cell_type": "markdown",
      "source": [
        "\n",
        "### Conclusión\n",
        "\n",
        "Para la F-statistic se presenta un valor p menor a 0.05, por lo que se rechaza su hipótesis nula, por lo que el modelo sí tiene capacidad predictiva"
      ],
      "metadata": {
        "id": "c--rLDS-pWXY"
      }
    },
    {
      "cell_type": "markdown",
      "source": [
        "# Preguntas base"
      ],
      "metadata": {
        "id": "V0qoA_ZHm2Vq"
      }
    },
    {
      "cell_type": "markdown",
      "source": [
        "- ¿Cuáles son los principales factores que influyen en el nivel de contaminación por mercurio en los peces de los lagos de Florida? \n",
        "\n",
        "Tras el análisis realizado, podemos concluir que los principales factores que influyen en el nivel de contaminación por mercurio en los peces de los lagos de Florida son la alcalinidad y la clorofila.\n",
        "\n",
        "Aun cuando otras variables tienen correlación con la concentración de mercurio, como el ph o calcio, se concluyó que la mejor forma de distinguir el nivel de contaminación es mediante la utilización de las variables mencionadas anteriormente.\n",
        "\n",
        "\n",
        "\n",
        "* ¿Hay evidencia para suponer que la concentración promedio de mercurio en los lagos es dañino para la salud humana? Considera que las normativas de referencia para evaluar los niveles máximos de Hg (Reglamento 34687-MAG y los reglamentos internacionales CE 1881/2006 y Codex Standard 193-1995) establecen que la concentración promedio de mercurio en productos de la pesca no debe superar los 0.5 mg de Hg/kg.\n",
        "\n"
      ],
      "metadata": {
        "id": "-q0S78r1_kqe"
      }
    },
    {
      "cell_type": "markdown",
      "source": [
        "**Hipótesis**\n",
        "\n",
        "$H_0$: $\\mu=0.5$  \n",
        "$H_1$: $\\mu>0.5$ "
      ],
      "metadata": {
        "id": "NVE4lW-8uqUi"
      }
    },
    {
      "cell_type": "code",
      "source": [
        "%%R\n",
        "alpha = 0.05\n",
        "t0= 1 - qt(alpha, 52) \n",
        "cat(\"t0= \", t0)"
      ],
      "metadata": {
        "colab": {
          "base_uri": "https://localhost:8080/"
        },
        "id": "9c29IOWdvAmb",
        "outputId": "737706dc-d55f-48fa-d3e8-a7ac7a4a17e8"
      },
      "execution_count": 145,
      "outputs": [
        {
          "output_type": "stream",
          "name": "stdout",
          "text": [
            "t0=  2.674689"
          ]
        }
      ]
    },
    {
      "cell_type": "markdown",
      "source": [
        "**Regla de decisión**\n",
        "\n",
        "Rechazo $H_0$ si:\n",
        "\n",
        "* Si el valor p es menor a alfa (0.05)\n",
        "* Si |t*| > |$t_0$| (2.674)"
      ],
      "metadata": {
        "id": "O_rIZNXQvFcD"
      }
    },
    {
      "cell_type": "code",
      "source": [
        "%%R\n",
        "m = mean(media_merc_porc)\n",
        "sm = sd(media_merc_porc) / sqrt(53) #Desviación estándar de la media de la muestra\n",
        "te = 1 - (m-0.5)/sm\n",
        "  \n",
        "cat(\"La media de la muestra es\",m,\"\\n\")\n",
        "cat(\"La desviación estándar de la muestra es\",sm,\"\\n\")\n",
        "cat(\"t*=\",te,\"\\n\")"
      ],
      "metadata": {
        "colab": {
          "base_uri": "https://localhost:8080/"
        },
        "id": "Nw8xx6NluWhA",
        "outputId": "33843e33-7927-4269-e513-6163a0bad945"
      },
      "execution_count": 146,
      "outputs": [
        {
          "output_type": "stream",
          "name": "stdout",
          "text": [
            "La media de la muestra es -3.92338e-17 \n",
            "La desviación estándar de la muestra es 0.1373606 \n",
            "t*= 4.640055 \n"
          ]
        }
      ]
    },
    {
      "cell_type": "code",
      "source": [
        "%%R\n",
        "vp = 1 - pt(te, 52)\n",
        "#87, miu, sigma\n",
        "cat(\"vp=\",vp,\"\\n\")"
      ],
      "metadata": {
        "colab": {
          "base_uri": "https://localhost:8080/"
        },
        "id": "t14QWWRXuZdO",
        "outputId": "cf702bdb-46a1-4f4f-9013-17b5ce40dbf3"
      },
      "execution_count": 148,
      "outputs": [
        {
          "output_type": "stream",
          "name": "stdout",
          "text": [
            "vp= 1.196306e-05 \n"
          ]
        }
      ]
    },
    {
      "cell_type": "markdown",
      "source": [
        "**Conclusión**\n",
        "* Como la $|t*| = 4.640$ es mayor a $|t_0|=2.674$, se rechaza $H_0$\n",
        "* Como valor p = 1.196306e-05 es menor a 0.05 (alpha), se rechaza $H_0$\n",
        "\n",
        "El verdadero promedio de concentración de mercurio en productos de la pesca supera los 0.5 mg de Hg/kg. Por lo que podemos concluir que es dañino para salud humana con un 95% de confianza."
      ],
      "metadata": {
        "id": "dqFTwtbW7ZaO"
      }
    },
    {
      "cell_type": "markdown",
      "source": [
        "- ¿Habrá diferencia significativa entre la concentración de mercurio por la edad de los peces? barplot, significancia\n",
        "\n",
        "Según el análisis de correlación realizado podemos concluir que la edad de los peces no es significativa para determinar la concentración de mercurio.\n",
        "\n",
        "- Si el muestreo se realizó lanzando una red y analizando los peces que la red encontraba ¿Habrá influencia del número de peces encontrados en la concentración de mercurio en los peces?\n",
        "\n",
        "El número de peces no es significativo para determinar la concentración de mercurio, conclusión a la que se llegó tras analizar la correlación entre ambas variables.\n",
        "\n",
        "- ¿Las concentraciones de alcalinidad, clorofila, calcio en el agua del lago influyen en la concentración de mercurio de los peces?\n",
        "\n",
        "Dichas variables resultaron significativas para determinar la concentración de mercurio de los peces, sin embargo, tras el análisis y los métodos utilizados para encontrar el mejor modelo se concluyó que la mejor forma de identificar la concentración de mercurio es tan solo con el nivel de alcalinidad y clorofila."
      ],
      "metadata": {
        "id": "cj-UXBERs7PF"
      }
    }
  ]
}